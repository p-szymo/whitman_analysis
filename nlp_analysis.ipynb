{
 "cells": [
  {
   "cell_type": "markdown",
   "metadata": {},
   "source": [
    "# <ins>*Leaves of Grass* Analysis</ins>\n",
    "\n",
    "# Natural Language Processing and Data Exploration\n",
    "\n",
    "- In this notebook, I engineer features based on poetic form and structure, perform natural language processing techniques, and explore aspects of what makes Whitman Whitman.\n",
    "- I also create charts and word clouds based on this exploration."
   ]
  },
  {
   "cell_type": "code",
   "execution_count": 1,
   "metadata": {},
   "outputs": [],
   "source": [
    "# custom functions for this project\n",
    "from functions import *\n",
    "\n",
    "# dataframe packages\n",
    "import pandas as pd\n",
    "import numpy as np\n",
    "\n",
    "# graphing packages\n",
    "import matplotlib.pyplot as plt\n",
    "import seaborn as sns; sns.set_style('ticks')\n",
    "from wordcloud import WordCloud\n",
    "\n",
    "# statistics packages\n",
    "import scipy.stats as stats\n",
    "\n",
    "# text processing\n",
    "from nltk.corpus import stopwords\n",
    "from nltk.probability import FreqDist \n",
    "from textblob import TextBlob\n",
    "from vaderSentiment.vaderSentiment import SentimentIntensityAnalyzer\n",
    "\n",
    "# miscellany\n",
    "from collections import Counter\n",
    "import time\n",
    "import gzip\n",
    "import pickle\n",
    "\n",
    "# reload functions/libraries when edited\n",
    "%load_ext autoreload\n",
    "%autoreload 2\n",
    "\n",
    "# ignore warnings\n",
    "import warnings\n",
    "warnings.filterwarnings('ignore')\n",
    "\n",
    "# increase column width of dataframe\n",
    "pd.set_option('max_colwidth', 150)"
   ]
  },
  {
   "cell_type": "markdown",
   "metadata": {},
   "source": [
    "# Preparing the data\n",
    "\n",
    "[[go back to the top](#Leaves-of-Grass-Analysis)]\n",
    "\n",
    "- Import data.\n",
    "- Take a look.\n",
    "\n",
    "#### 💾 Load DataFrame"
   ]
  },
  {
   "cell_type": "code",
   "execution_count": 2,
   "metadata": {},
   "outputs": [
    {
     "data": {
      "text/plain": [
       "(383, 2)"
      ]
     },
     "execution_count": 2,
     "metadata": {},
     "output_type": "execute_result"
    }
   ],
   "source": [
    "with gzip.open('data/whitman_corpus.pkl', 'rb') as hello:\n",
    "    df = pickle.load(hello)\n",
    "    \n",
    "df.shape"
   ]
  },
  {
   "cell_type": "code",
   "execution_count": 3,
   "metadata": {},
   "outputs": [
    {
     "data": {
      "text/html": [
       "<div>\n",
       "<style scoped>\n",
       "    .dataframe tbody tr th:only-of-type {\n",
       "        vertical-align: middle;\n",
       "    }\n",
       "\n",
       "    .dataframe tbody tr th {\n",
       "        vertical-align: top;\n",
       "    }\n",
       "\n",
       "    .dataframe thead th {\n",
       "        text-align: right;\n",
       "    }\n",
       "</style>\n",
       "<table border=\"1\" class=\"dataframe\">\n",
       "  <thead>\n",
       "    <tr style=\"text-align: right;\">\n",
       "      <th></th>\n",
       "      <th>title</th>\n",
       "      <th>poem_string</th>\n",
       "    </tr>\n",
       "  </thead>\n",
       "  <tbody>\n",
       "    <tr>\n",
       "      <th>0</th>\n",
       "      <td>Untitled</td>\n",
       "      <td>Come, said my soul,\\r\\n     Such verses for my Body let us write, (for we are one,)\\r\\n     That should I after return,\\r\\n     Or, long, long hen...</td>\n",
       "    </tr>\n",
       "    <tr>\n",
       "      <th>1</th>\n",
       "      <td>One’s-Self I Sing</td>\n",
       "      <td>One’s-self I sing, a simple separate person,\\r\\n  Yet utter the word Democratic, the word En-Masse.\\r\\n\\r\\n  Of physiology from top to toe I sing,...</td>\n",
       "    </tr>\n",
       "    <tr>\n",
       "      <th>2</th>\n",
       "      <td>As I Ponder’d in Silence</td>\n",
       "      <td>As I ponder’d in silence,\\r\\n  Returning upon my poems, considering, lingering long,\\r\\n  A Phantom arose before me with distrustful aspect,\\r\\n  ...</td>\n",
       "    </tr>\n",
       "    <tr>\n",
       "      <th>3</th>\n",
       "      <td>In Cabin’d Ships at Sea</td>\n",
       "      <td>In cabin’d ships at sea,\\r\\n  The boundless blue on every side expanding,\\r\\n  With whistling winds and music of the waves, the large imperious wa...</td>\n",
       "    </tr>\n",
       "    <tr>\n",
       "      <th>4</th>\n",
       "      <td>To Foreign Lands</td>\n",
       "      <td>I heard that you ask’d for something to prove this puzzle the New World,\\r\\n  And to define America, her athletic Democracy,\\r\\n  Therefore I send...</td>\n",
       "    </tr>\n",
       "  </tbody>\n",
       "</table>\n",
       "</div>"
      ],
      "text/plain": [
       "                      title  \\\n",
       "0                  Untitled   \n",
       "1         One’s-Self I Sing   \n",
       "2  As I Ponder’d in Silence   \n",
       "3   In Cabin’d Ships at Sea   \n",
       "4          To Foreign Lands   \n",
       "\n",
       "                                                                                                                                             poem_string  \n",
       "0  Come, said my soul,\\r\\n     Such verses for my Body let us write, (for we are one,)\\r\\n     That should I after return,\\r\\n     Or, long, long hen...  \n",
       "1  One’s-self I sing, a simple separate person,\\r\\n  Yet utter the word Democratic, the word En-Masse.\\r\\n\\r\\n  Of physiology from top to toe I sing,...  \n",
       "2  As I ponder’d in silence,\\r\\n  Returning upon my poems, considering, lingering long,\\r\\n  A Phantom arose before me with distrustful aspect,\\r\\n  ...  \n",
       "3  In cabin’d ships at sea,\\r\\n  The boundless blue on every side expanding,\\r\\n  With whistling winds and music of the waves, the large imperious wa...  \n",
       "4  I heard that you ask’d for something to prove this puzzle the New World,\\r\\n  And to define America, her athletic Democracy,\\r\\n  Therefore I send...  "
      ]
     },
     "execution_count": 3,
     "metadata": {},
     "output_type": "execute_result"
    }
   ],
   "source": [
    "df.head()"
   ]
  },
  {
   "cell_type": "code",
   "execution_count": 4,
   "metadata": {},
   "outputs": [],
   "source": [
    "# convert strings to list\n",
    "df['poem_lines'] = df.poem_string.apply(line_creator)"
   ]
  },
  {
   "cell_type": "code",
   "execution_count": 5,
   "metadata": {},
   "outputs": [
    {
     "data": {
      "text/html": [
       "<div>\n",
       "<style scoped>\n",
       "    .dataframe tbody tr th:only-of-type {\n",
       "        vertical-align: middle;\n",
       "    }\n",
       "\n",
       "    .dataframe tbody tr th {\n",
       "        vertical-align: top;\n",
       "    }\n",
       "\n",
       "    .dataframe thead th {\n",
       "        text-align: right;\n",
       "    }\n",
       "</style>\n",
       "<table border=\"1\" class=\"dataframe\">\n",
       "  <thead>\n",
       "    <tr style=\"text-align: right;\">\n",
       "      <th></th>\n",
       "      <th>title</th>\n",
       "      <th>poem_string</th>\n",
       "      <th>poem_lines</th>\n",
       "    </tr>\n",
       "  </thead>\n",
       "  <tbody>\n",
       "    <tr>\n",
       "      <th>0</th>\n",
       "      <td>Untitled</td>\n",
       "      <td>Come, said my soul,\\r\\n     Such verses for my Body let us write, (for we are one,)\\r\\n     That should I after return,\\r\\n     Or, long, long hen...</td>\n",
       "      <td>[Come, said my soul,, Such verses for my Body let us write, (for we are one,), That should I after return,, Or, long, long hence, in other spheres...</td>\n",
       "    </tr>\n",
       "    <tr>\n",
       "      <th>1</th>\n",
       "      <td>One’s-Self I Sing</td>\n",
       "      <td>One’s-self I sing, a simple separate person,\\r\\n  Yet utter the word Democratic, the word En-Masse.\\r\\n\\r\\n  Of physiology from top to toe I sing,...</td>\n",
       "      <td>[One’s-self I sing, a simple separate person,, Yet utter the word Democratic, the word En-Masse., Of physiology from top to toe I sing,, Not physi...</td>\n",
       "    </tr>\n",
       "    <tr>\n",
       "      <th>2</th>\n",
       "      <td>As I Ponder’d in Silence</td>\n",
       "      <td>As I ponder’d in silence,\\r\\n  Returning upon my poems, considering, lingering long,\\r\\n  A Phantom arose before me with distrustful aspect,\\r\\n  ...</td>\n",
       "      <td>[As I ponder’d in silence,, Returning upon my poems, considering, lingering long,, A Phantom arose before me with distrustful aspect,, Terrible in...</td>\n",
       "    </tr>\n",
       "    <tr>\n",
       "      <th>3</th>\n",
       "      <td>In Cabin’d Ships at Sea</td>\n",
       "      <td>In cabin’d ships at sea,\\r\\n  The boundless blue on every side expanding,\\r\\n  With whistling winds and music of the waves, the large imperious wa...</td>\n",
       "      <td>[In cabin’d ships at sea,, The boundless blue on every side expanding,, With whistling winds and music of the waves, the large imperious waves,, O...</td>\n",
       "    </tr>\n",
       "    <tr>\n",
       "      <th>4</th>\n",
       "      <td>To Foreign Lands</td>\n",
       "      <td>I heard that you ask’d for something to prove this puzzle the New World,\\r\\n  And to define America, her athletic Democracy,\\r\\n  Therefore I send...</td>\n",
       "      <td>[I heard that you ask’d for something to prove this puzzle the New World,, And to define America, her athletic Democracy,, Therefore I send you my...</td>\n",
       "    </tr>\n",
       "  </tbody>\n",
       "</table>\n",
       "</div>"
      ],
      "text/plain": [
       "                      title  \\\n",
       "0                  Untitled   \n",
       "1         One’s-Self I Sing   \n",
       "2  As I Ponder’d in Silence   \n",
       "3   In Cabin’d Ships at Sea   \n",
       "4          To Foreign Lands   \n",
       "\n",
       "                                                                                                                                             poem_string  \\\n",
       "0  Come, said my soul,\\r\\n     Such verses for my Body let us write, (for we are one,)\\r\\n     That should I after return,\\r\\n     Or, long, long hen...   \n",
       "1  One’s-self I sing, a simple separate person,\\r\\n  Yet utter the word Democratic, the word En-Masse.\\r\\n\\r\\n  Of physiology from top to toe I sing,...   \n",
       "2  As I ponder’d in silence,\\r\\n  Returning upon my poems, considering, lingering long,\\r\\n  A Phantom arose before me with distrustful aspect,\\r\\n  ...   \n",
       "3  In cabin’d ships at sea,\\r\\n  The boundless blue on every side expanding,\\r\\n  With whistling winds and music of the waves, the large imperious wa...   \n",
       "4  I heard that you ask’d for something to prove this puzzle the New World,\\r\\n  And to define America, her athletic Democracy,\\r\\n  Therefore I send...   \n",
       "\n",
       "                                                                                                                                              poem_lines  \n",
       "0  [Come, said my soul,, Such verses for my Body let us write, (for we are one,), That should I after return,, Or, long, long hence, in other spheres...  \n",
       "1  [One’s-self I sing, a simple separate person,, Yet utter the word Democratic, the word En-Masse., Of physiology from top to toe I sing,, Not physi...  \n",
       "2  [As I ponder’d in silence,, Returning upon my poems, considering, lingering long,, A Phantom arose before me with distrustful aspect,, Terrible in...  \n",
       "3  [In cabin’d ships at sea,, The boundless blue on every side expanding,, With whistling winds and music of the waves, the large imperious waves,, O...  \n",
       "4  [I heard that you ask’d for something to prove this puzzle the New World,, And to define America, her athletic Democracy,, Therefore I send you my...  "
      ]
     },
     "execution_count": 5,
     "metadata": {},
     "output_type": "execute_result"
    }
   ],
   "source": [
    "df.head()"
   ]
  },
  {
   "cell_type": "markdown",
   "metadata": {},
   "source": [
    "- Based on some earlier EDA, there are several multi-part poems that are skewing some of the data (especially for number of lines per poem) to the right.\n",
    "- I'll transform these multi-part poems into several single-part poems.\n",
    "- First, I'll need to find the index numbers of all the multi-part poems."
   ]
  },
  {
   "cell_type": "code",
   "execution_count": 6,
   "metadata": {},
   "outputs": [
    {
     "data": {
      "text/html": [
       "<div>\n",
       "<style scoped>\n",
       "    .dataframe tbody tr th:only-of-type {\n",
       "        vertical-align: middle;\n",
       "    }\n",
       "\n",
       "    .dataframe tbody tr th {\n",
       "        vertical-align: top;\n",
       "    }\n",
       "\n",
       "    .dataframe thead th {\n",
       "        text-align: right;\n",
       "    }\n",
       "</style>\n",
       "<table border=\"1\" class=\"dataframe\">\n",
       "  <thead>\n",
       "    <tr style=\"text-align: right;\">\n",
       "      <th></th>\n",
       "      <th>title</th>\n",
       "      <th>poem_string</th>\n",
       "      <th>poem_lines</th>\n",
       "    </tr>\n",
       "  </thead>\n",
       "  <tbody>\n",
       "    <tr>\n",
       "      <th>25</th>\n",
       "      <td>Starting from Paumanok</td>\n",
       "      <td>1\\r\\n  Starting from fish-shape Paumanok where I was born,\\r\\n  Well-begotten, and rais’d by a perfect mother,\\r\\n  After roaming many lands, love...</td>\n",
       "      <td>[1, Starting from fish-shape Paumanok where I was born,, Well-begotten, and rais’d by a perfect mother,, After roaming many lands, lover of populo...</td>\n",
       "    </tr>\n",
       "    <tr>\n",
       "      <th>26</th>\n",
       "      <td>Song of Myself</td>\n",
       "      <td>1\\r\\n  I celebrate myself, and sing myself,\\r\\n  And what I assume you shall assume,\\r\\n  For every atom belonging to me as good belongs to you.\\r...</td>\n",
       "      <td>[1, I celebrate myself, and sing myself,, And what I assume you shall assume,, For every atom belonging to me as good belongs to you., I loafe and...</td>\n",
       "    </tr>\n",
       "    <tr>\n",
       "      <th>29</th>\n",
       "      <td>I Sing the Body Electric</td>\n",
       "      <td>1\\r\\n  I sing the body electric,\\r\\n  The armies of those I love engirth me and I engirth them,\\r\\n  They will not let me off till I go with them,...</td>\n",
       "      <td>[1, I sing the body electric,, The armies of those I love engirth me and I engirth them,, They will not let me off till I go with them, respond to...</td>\n",
       "    </tr>\n",
       "    <tr>\n",
       "      <th>82</th>\n",
       "      <td>Salut au Monde!</td>\n",
       "      <td>1\\r\\n  O take my hand Walt Whitman!\\r\\n  Such gliding wonders! such sights and sounds!\\r\\n  Such join’d unended links, each hook’d to the next,\\r\\...</td>\n",
       "      <td>[1, O take my hand Walt Whitman!, Such gliding wonders! such sights and sounds!, Such join’d unended links, each hook’d to the next,, Each answeri...</td>\n",
       "    </tr>\n",
       "    <tr>\n",
       "      <th>83</th>\n",
       "      <td>Song of the Open Road</td>\n",
       "      <td>1\\r\\n  Afoot and light-hearted I take to the open road,\\r\\n  Healthy, free, the world before me,\\r\\n  The long brown path before me leading wherev...</td>\n",
       "      <td>[1, Afoot and light-hearted I take to the open road,, Healthy, free, the world before me,, The long brown path before me leading wherever I choose...</td>\n",
       "    </tr>\n",
       "  </tbody>\n",
       "</table>\n",
       "</div>"
      ],
      "text/plain": [
       "                       title  \\\n",
       "25    Starting from Paumanok   \n",
       "26            Song of Myself   \n",
       "29  I Sing the Body Electric   \n",
       "82           Salut au Monde!   \n",
       "83     Song of the Open Road   \n",
       "\n",
       "                                                                                                                                              poem_string  \\\n",
       "25  1\\r\\n  Starting from fish-shape Paumanok where I was born,\\r\\n  Well-begotten, and rais’d by a perfect mother,\\r\\n  After roaming many lands, love...   \n",
       "26  1\\r\\n  I celebrate myself, and sing myself,\\r\\n  And what I assume you shall assume,\\r\\n  For every atom belonging to me as good belongs to you.\\r...   \n",
       "29  1\\r\\n  I sing the body electric,\\r\\n  The armies of those I love engirth me and I engirth them,\\r\\n  They will not let me off till I go with them,...   \n",
       "82  1\\r\\n  O take my hand Walt Whitman!\\r\\n  Such gliding wonders! such sights and sounds!\\r\\n  Such join’d unended links, each hook’d to the next,\\r\\...   \n",
       "83  1\\r\\n  Afoot and light-hearted I take to the open road,\\r\\n  Healthy, free, the world before me,\\r\\n  The long brown path before me leading wherev...   \n",
       "\n",
       "                                                                                                                                               poem_lines  \n",
       "25  [1, Starting from fish-shape Paumanok where I was born,, Well-begotten, and rais’d by a perfect mother,, After roaming many lands, lover of populo...  \n",
       "26  [1, I celebrate myself, and sing myself,, And what I assume you shall assume,, For every atom belonging to me as good belongs to you., I loafe and...  \n",
       "29  [1, I sing the body electric,, The armies of those I love engirth me and I engirth them,, They will not let me off till I go with them, respond to...  \n",
       "82  [1, O take my hand Walt Whitman!, Such gliding wonders! such sights and sounds!, Such join’d unended links, each hook’d to the next,, Each answeri...  \n",
       "83  [1, Afoot and light-hearted I take to the open road,, Healthy, free, the world before me,, The long brown path before me leading wherever I choose...  "
      ]
     },
     "execution_count": 6,
     "metadata": {},
     "output_type": "execute_result"
    }
   ],
   "source": [
    "# instantiate empty list\n",
    "indices = []\n",
    "\n",
    "# iterate over index and row\n",
    "for i, poem in df.iterrows():\n",
    "    # append index of poems whose first line is '1' to list\n",
    "    if poem.poem_lines[0] == '1':\n",
    "        indices.append(i)\n",
    "\n",
    "# confirm\n",
    "df[df.index.isin(indices)].head()"
   ]
  },
  {
   "cell_type": "code",
   "execution_count": 7,
   "metadata": {},
   "outputs": [
    {
     "name": "stdout",
     "output_type": "stream",
     "text": [
      "Shape of original DataFrame: (383, 3)\n",
      "Shape of transformed DataFrame: (609, 3)\n"
     ]
    }
   ],
   "source": [
    "print(f'Shape of original DataFrame: {df.shape}')\n",
    "\n",
    "# split multi-part poems into individual poems and append to dataframe\n",
    "for i in indices:\n",
    "    df = part_adder(df, i, 'poem_lines')\n",
    "\n",
    "# drop multi-part versions\n",
    "df.drop(index=indices, inplace=True)\n",
    "# reset index\n",
    "df.reset_index(drop=True, inplace=True)\n",
    "    \n",
    "print(f'Shape of transformed DataFrame: {df.shape}')"
   ]
  },
  {
   "cell_type": "markdown",
   "metadata": {},
   "source": [
    "# Step 3: Feature engineering and exploratory data analysis\n",
    "\n",
    "[[go back to the top](#Leaves-of-Grass-Analysis)]\n",
    "\n",
    "- Engineer numerical features based on aspects of a poem, including but not limited to line count, line length, usage of end rhymes, and lexical richness.\n",
    "- Explore these features as a whole and across each movement.\n",
    "- Create visualizations to better understand the differences and similarities between movements.\n",
    "\n",
    "### Number of lines\n",
    "\n",
    "[[go back to the top](#Leaves-of-Grass-Analysis)]\n",
    "\n",
    "- The number of lines in a poem is often the best measure for the poem's length. I'd like to see the distribution of Whitman's poem lengths."
   ]
  },
  {
   "cell_type": "code",
   "execution_count": 8,
   "metadata": {},
   "outputs": [
    {
     "data": {
      "text/plain": [
       "['Come, said my soul,',\n",
       " 'Such verses for my Body let us write, (for we are one,)',\n",
       " 'That should I after return,',\n",
       " 'Or, long, long hence, in other spheres,',\n",
       " 'There to some group of mates the chants resuming,',\n",
       " '(Tallying Earth’s soil, trees, winds, tumultuous waves,)',\n",
       " 'Ever with pleas’d smile I may keep on,',\n",
       " 'Ever and ever yet the verses owning—as, first, I here and now',\n",
       " 'Signing for Soul and Body, set to them my name,',\n",
       " 'Walt Whitman']"
      ]
     },
     "execution_count": 8,
     "metadata": {},
     "output_type": "execute_result"
    }
   ],
   "source": [
    "# check work by first looking at an example\n",
    "df.loc[0,'poem_lines']"
   ]
  },
  {
   "cell_type": "code",
   "execution_count": 9,
   "metadata": {},
   "outputs": [
    {
     "data": {
      "text/plain": [
       "10"
      ]
     },
     "execution_count": 9,
     "metadata": {},
     "output_type": "execute_result"
    }
   ],
   "source": [
    "# create number of lines column\n",
    "df['num_lines'] = df.poem_lines.apply(lambda x: len(x))\n",
    "\n",
    "# check that it worked\n",
    "df.loc[0,'num_lines']"
   ]
  },
  {
   "cell_type": "code",
   "execution_count": 10,
   "metadata": {},
   "outputs": [
    {
     "data": {
      "text/plain": [
       "count    609.000000\n",
       "mean      22.133005\n",
       "std       29.524082\n",
       "min        2.000000\n",
       "25%        9.000000\n",
       "50%       15.000000\n",
       "75%       25.000000\n",
       "max      456.000000\n",
       "Name: num_lines, dtype: float64"
      ]
     },
     "execution_count": 10,
     "metadata": {},
     "output_type": "execute_result"
    }
   ],
   "source": [
    "# descriptive statistics for number of lines as a whole\n",
    "df.num_lines.describe()"
   ]
  },
  {
   "cell_type": "markdown",
   "metadata": {},
   "source": [
    "- Poems appear to generally be pretty short, although there may be a few outliers pushing the mean up. I'll try to identify those by looking at any poems above, say, 100 lines."
   ]
  },
  {
   "cell_type": "markdown",
   "metadata": {},
   "source": [
    "### Number of lines -- Histogram\n",
    "\n",
    "[[go back to the top](#Leaves-of-Grass-Analysis)]\n",
    "\n",
    "- I'll try a histogram of all poems "
   ]
  },
  {
   "cell_type": "code",
   "execution_count": 11,
   "metadata": {},
   "outputs": [
    {
     "data": {
      "image/png": "[encoded data removed]",
      "text/plain": [
       "<Figure size 504x504 with 1 Axes>"
      ]
     },
     "metadata": {
      "needs_background": "light"
     },
     "output_type": "display_data"
    }
   ],
   "source": [
    "df.hist('num_lines', bins=100, figsize=(7,7));"
   ]
  },
  {
   "cell_type": "code",
   "execution_count": 12,
   "metadata": {},
   "outputs": [
    {
     "data": {
      "image/png": "[encoded data removed]",
      "text/plain": [
       "<Figure size 504x504 with 1 Axes>"
      ]
     },
     "metadata": {
      "needs_background": "light"
     },
     "output_type": "display_data"
    }
   ],
   "source": [
    "# plot the graph\n",
    "df[df.num_lines < 100].hist('num_lines', bins=25, figsize=(7,7));"
   ]
  },
  {
   "cell_type": "markdown",
   "metadata": {},
   "source": [
    "### Number of words\n",
    "\n",
    "[[go back to the top](#Leaves-of-Grass-Analysis)]\n",
    "\n",
    "- I'd like to see if the number of words holds any valuable information.\n",
    "- Also, it will be necessary to calculate for many other features."
   ]
  },
  {
   "cell_type": "code",
   "execution_count": 13,
   "metadata": {},
   "outputs": [],
   "source": [
    "# create column using custom word counting function\n",
    "df['num_words'] = df.poem_lines.apply(word_counter)"
   ]
  },
  {
   "cell_type": "code",
   "execution_count": 14,
   "metadata": {},
   "outputs": [
    {
     "data": {
      "text/plain": [
       "count     609.000000\n",
       "mean      196.756979\n",
       "std       258.503557\n",
       "min        14.000000\n",
       "25%        76.000000\n",
       "50%       133.000000\n",
       "75%       229.000000\n",
       "max      3934.000000\n",
       "Name: num_words, dtype: float64"
      ]
     },
     "execution_count": 14,
     "metadata": {},
     "output_type": "execute_result"
    }
   ],
   "source": [
    "# number of words stats as a whole\n",
    "df.num_words.describe()"
   ]
  },
  {
   "cell_type": "markdown",
   "metadata": {},
   "source": [
    "### Number of words -- Histogram\n",
    "\n",
    "[[go back to the top](#Leaves-of-Grass-Analysis)]"
   ]
  },
  {
   "cell_type": "code",
   "execution_count": 15,
   "metadata": {},
   "outputs": [
    {
     "data": {
      "image/png": "[encoded data removed]",
      "text/plain": [
       "<Figure size 504x504 with 1 Axes>"
      ]
     },
     "metadata": {
      "needs_background": "light"
     },
     "output_type": "display_data"
    }
   ],
   "source": [
    "df.hist('num_words', bins=100, figsize=(7,7));"
   ]
  },
  {
   "cell_type": "code",
   "execution_count": 16,
   "metadata": {},
   "outputs": [
    {
     "data": {
      "image/png": "[encoded data removed]",
      "text/plain": [
       "<Figure size 504x504 with 1 Axes>"
      ]
     },
     "metadata": {
      "needs_background": "light"
     },
     "output_type": "display_data"
    }
   ],
   "source": [
    "# plot the graph\n",
    "df[df.num_words < 1000].hist('num_words', bins=25, figsize=(7,7));"
   ]
  },
  {
   "cell_type": "code",
   "execution_count": 17,
   "metadata": {},
   "outputs": [
    {
     "data": {
      "image/png": "[encoded data removed]",
      "text/plain": [
       "<Figure size 432x288 with 1 Axes>"
      ]
     },
     "metadata": {
      "needs_background": "light"
     },
     "output_type": "display_data"
    }
   ],
   "source": [
    "df.plot.scatter('num_lines', 'num_words');"
   ]
  },
  {
   "cell_type": "code",
   "execution_count": 18,
   "metadata": {},
   "outputs": [
    {
     "data": {
      "text/plain": [
       "0.995594233093748"
      ]
     },
     "execution_count": 18,
     "metadata": {},
     "output_type": "execute_result"
    }
   ],
   "source": [
    "# check correlation\n",
    "df.num_lines.corr(df.num_words)"
   ]
  },
  {
   "cell_type": "markdown",
   "metadata": {},
   "source": [
    "- Indeed, they are extremely correlated, which most likely signifies a high degree of regularity in Whitman's poetry.\n",
    "- One might expect a fairly small range of values for my next feature: average line length.\n",
    "\n",
    "### Average line length\n",
    "\n",
    "[[go back to the top](#Leaves-of-Grass-Analysis)]\n",
    "\n",
    "- I can use both of the previously engineered columns to create a measure of the average number of words per line in a poem."
   ]
  },
  {
   "cell_type": "code",
   "execution_count": 19,
   "metadata": {},
   "outputs": [],
   "source": [
    "# create column of average number of words per line\n",
    "df['avg_len_line'] = df.num_words / df.num_lines"
   ]
  },
  {
   "cell_type": "code",
   "execution_count": 20,
   "metadata": {},
   "outputs": [
    {
     "data": {
      "text/plain": [
       "count    609.000000\n",
       "mean       8.896817\n",
       "std        1.120671\n",
       "min        5.400000\n",
       "25%        8.166667\n",
       "50%        8.933333\n",
       "75%        9.562500\n",
       "max       12.666667\n",
       "Name: avg_len_line, dtype: float64"
      ]
     },
     "execution_count": 20,
     "metadata": {},
     "output_type": "execute_result"
    }
   ],
   "source": [
    "# average length of line stats as a whole\n",
    "df.avg_len_line.describe()"
   ]
  },
  {
   "cell_type": "markdown",
   "metadata": {},
   "source": [
    "- While the range itself is higher than I had expected, it appears that the interquartile range is indeed rather small."
   ]
  },
  {
   "cell_type": "markdown",
   "metadata": {},
   "source": [
    "- Removing outliers resulted in all statistically significant tests. In the next notebook, I will have to [deal with outliers](04_modeling.ipynb#Dealing-with-outliers) before modeling.\n",
    "\n",
    "### Average line length -- Boxplot\n",
    "\n",
    "[[go back to the top](#Predicting-Poetic-Movements)]"
   ]
  },
  {
   "cell_type": "code",
   "execution_count": 21,
   "metadata": {},
   "outputs": [
    {
     "data": {
      "image/png": "[encoded data removed]",
      "text/plain": [
       "<Figure size 504x504 with 1 Axes>"
      ]
     },
     "metadata": {
      "needs_background": "light"
     },
     "output_type": "display_data"
    }
   ],
   "source": [
    "df.hist('avg_len_line', bins=50, figsize=(7,7));"
   ]
  },
  {
   "cell_type": "code",
   "execution_count": 22,
   "metadata": {},
   "outputs": [],
   "source": [
    "low_bar = df.avg_len_line.mean() - 1.96 * df.avg_len_line.std()\n",
    "high_bar = df.avg_len_line.mean() + 1.96 * df.avg_len_line.std()"
   ]
  },
  {
   "cell_type": "code",
   "execution_count": 23,
   "metadata": {},
   "outputs": [
    {
     "data": {
      "image/png": "[encoded data removed]",
      "text/plain": [
       "<Figure size 504x504 with 1 Axes>"
      ]
     },
     "metadata": {
      "needs_background": "light"
     },
     "output_type": "display_data"
    }
   ],
   "source": [
    "# plot the graph\n",
    "df[(df.avg_len_line > low_bar) & (df.avg_len_line < high_bar)].hist('avg_len_line', bins=16, figsize=(7,7));"
   ]
  },
  {
   "cell_type": "code",
   "execution_count": null,
   "metadata": {},
   "outputs": [],
   "source": []
  },
  {
   "cell_type": "markdown",
   "metadata": {},
   "source": [
    "### Sentiment, polarity\n",
    "\n",
    "[[go back to the top](#Leaves-of-Grass-Analysis)]\n",
    "\n",
    "- I wonder whether any movements tend to be more positive, negative, or neutral.\n",
    "- I'll create a new string that includes the titles, using the ```lines_titled``` column.\n",
    "- I'll use VADER to obtain a polarity score, which I can use as a continuous variable, as well as convert to a categorical variable."
   ]
  },
  {
   "cell_type": "code",
   "execution_count": 24,
   "metadata": {},
   "outputs": [
    {
     "name": "stdout",
     "output_type": "stream",
     "text": [
      "CPU times: user 3.73 s, sys: 17.4 ms, total: 3.75 s\n",
      "Wall time: 3.78 s\n"
     ]
    }
   ],
   "source": [
    "%%time\n",
    "\n",
    "# instantiate VADER sentiment analyzer\n",
    "analyzer = SentimentIntensityAnalyzer()\n",
    "\n",
    "# create a column with the compound polarity score, passing in the raw poem\n",
    "df['sentiment_polarity_score'] = df['poem_string'].apply(lambda x: analyzer.polarity_scores(x)['compound'])"
   ]
  },
  {
   "cell_type": "code",
   "execution_count": 25,
   "metadata": {},
   "outputs": [],
   "source": [
    "# convert to categorical variable\n",
    "conditions = [\n",
    "    df.sentiment_polarity_score >= .05,\n",
    "    df.sentiment_polarity_score <= -.05\n",
    "]\n",
    "\n",
    "choices = [\n",
    "    'positive',\n",
    "    'negative'\n",
    "]\n",
    "\n",
    "df['sentiment_polarity'] = np.select(conditions, \n",
    "                                     choices, \n",
    "                                     'neutral')"
   ]
  },
  {
   "cell_type": "code",
   "execution_count": 26,
   "metadata": {},
   "outputs": [
    {
     "data": {
      "text/plain": [
       "count    609.000000\n",
       "mean       0.452692\n",
       "std        0.677987\n",
       "min       -0.996800\n",
       "25%        0.000000\n",
       "50%        0.824200\n",
       "75%        0.964800\n",
       "max        0.999800\n",
       "Name: sentiment_polarity_score, dtype: float64"
      ]
     },
     "execution_count": 26,
     "metadata": {},
     "output_type": "execute_result"
    }
   ],
   "source": [
    "# polarity score stats as a whole\n",
    "df.sentiment_polarity_score.describe()"
   ]
  },
  {
   "cell_type": "markdown",
   "metadata": {},
   "source": [
    "### Polarity score -- Boxplot\n",
    "\n",
    "[[go back to the top](#Leaves-of-Grass-Analysis)]"
   ]
  },
  {
   "cell_type": "code",
   "execution_count": 27,
   "metadata": {},
   "outputs": [
    {
     "data": {
      "text/plain": [
       "positive    0.747126\n",
       "negative    0.229885\n",
       "neutral     0.022989\n",
       "Name: sentiment_polarity, dtype: float64"
      ]
     },
     "execution_count": 27,
     "metadata": {},
     "output_type": "execute_result"
    }
   ],
   "source": [
    "df.sentiment_polarity.value_counts(normalize=True)"
   ]
  },
  {
   "cell_type": "code",
   "execution_count": 28,
   "metadata": {},
   "outputs": [
    {
     "data": {
      "text/plain": [
       "<matplotlib.axes._subplots.AxesSubplot at 0x7fdb182c9080>"
      ]
     },
     "execution_count": 28,
     "metadata": {},
     "output_type": "execute_result"
    },
    {
     "data": {
      "image/png": "[encoded data removed]",
      "text/plain": [
       "<Figure size 432x288 with 1 Axes>"
      ]
     },
     "metadata": {
      "needs_background": "light"
     },
     "output_type": "display_data"
    }
   ],
   "source": [
    "df.sentiment_polarity.value_counts(normalize=False).plot(kind='bar')"
   ]
  },
  {
   "cell_type": "code",
   "execution_count": 29,
   "metadata": {},
   "outputs": [
    {
     "data": {
      "image/png": "[encoded data removed]",
      "text/plain": [
       "<Figure size 504x504 with 1 Axes>"
      ]
     },
     "metadata": {
      "needs_background": "light"
     },
     "output_type": "display_data"
    }
   ],
   "source": [
    "# plot the graph\n",
    "df.boxplot('num_lines', 'sentiment_polarity', \n",
    "           showfliers=False, figsize=(7,7));"
   ]
  },
  {
   "cell_type": "code",
   "execution_count": 30,
   "metadata": {},
   "outputs": [
    {
     "data": {
      "image/png": "[encoded data removed]",
      "text/plain": [
       "<Figure size 432x288 with 1 Axes>"
      ]
     },
     "metadata": {
      "needs_background": "light"
     },
     "output_type": "display_data"
    }
   ],
   "source": [
    "df.sentiment_polarity_score.hist();"
   ]
  },
  {
   "cell_type": "code",
   "execution_count": 31,
   "metadata": {},
   "outputs": [
    {
     "data": {
      "text/html": [
       "<div>\n",
       "<style scoped>\n",
       "    .dataframe tbody tr th:only-of-type {\n",
       "        vertical-align: middle;\n",
       "    }\n",
       "\n",
       "    .dataframe tbody tr th {\n",
       "        vertical-align: top;\n",
       "    }\n",
       "\n",
       "    .dataframe thead th {\n",
       "        text-align: right;\n",
       "    }\n",
       "</style>\n",
       "<table border=\"1\" class=\"dataframe\">\n",
       "  <thead>\n",
       "    <tr style=\"text-align: right;\">\n",
       "      <th></th>\n",
       "      <th>title</th>\n",
       "      <th>poem_string</th>\n",
       "      <th>poem_lines</th>\n",
       "      <th>num_lines</th>\n",
       "      <th>num_words</th>\n",
       "      <th>avg_len_line</th>\n",
       "      <th>sentiment_polarity_score</th>\n",
       "      <th>sentiment_polarity</th>\n",
       "    </tr>\n",
       "  </thead>\n",
       "  <tbody>\n",
       "    <tr>\n",
       "      <th>0</th>\n",
       "      <td>Untitled</td>\n",
       "      <td>Come, said my soul,\\r\\n     Such verses for my Body let us write, (for we are one,)\\r\\n     That should I after return,\\r\\n     Or, long, long hen...</td>\n",
       "      <td>[Come, said my soul,, Such verses for my Body let us write, (for we are one,), That should I after return,, Or, long, long hence, in other spheres...</td>\n",
       "      <td>10</td>\n",
       "      <td>76</td>\n",
       "      <td>7.600000</td>\n",
       "      <td>0.3612</td>\n",
       "      <td>positive</td>\n",
       "    </tr>\n",
       "    <tr>\n",
       "      <th>1</th>\n",
       "      <td>One’s-Self I Sing</td>\n",
       "      <td>One’s-self I sing, a simple separate person,\\r\\n  Yet utter the word Democratic, the word En-Masse.\\r\\n\\r\\n  Of physiology from top to toe I sing,...</td>\n",
       "      <td>[One’s-self I sing, a simple separate person,, Yet utter the word Democratic, the word En-Masse., Of physiology from top to toe I sing,, Not physi...</td>\n",
       "      <td>9</td>\n",
       "      <td>72</td>\n",
       "      <td>8.000000</td>\n",
       "      <td>0.9576</td>\n",
       "      <td>positive</td>\n",
       "    </tr>\n",
       "    <tr>\n",
       "      <th>2</th>\n",
       "      <td>As I Ponder’d in Silence</td>\n",
       "      <td>As I ponder’d in silence,\\r\\n  Returning upon my poems, considering, lingering long,\\r\\n  A Phantom arose before me with distrustful aspect,\\r\\n  ...</td>\n",
       "      <td>[As I ponder’d in silence,, Returning upon my poems, considering, lingering long,, A Phantom arose before me with distrustful aspect,, Terrible in...</td>\n",
       "      <td>20</td>\n",
       "      <td>163</td>\n",
       "      <td>8.150000</td>\n",
       "      <td>0.4234</td>\n",
       "      <td>positive</td>\n",
       "    </tr>\n",
       "    <tr>\n",
       "      <th>3</th>\n",
       "      <td>In Cabin’d Ships at Sea</td>\n",
       "      <td>In cabin’d ships at sea,\\r\\n  The boundless blue on every side expanding,\\r\\n  With whistling winds and music of the waves, the large imperious wa...</td>\n",
       "      <td>[In cabin’d ships at sea,, The boundless blue on every side expanding,, With whistling winds and music of the waves, the large imperious waves,, O...</td>\n",
       "      <td>29</td>\n",
       "      <td>266</td>\n",
       "      <td>9.172414</td>\n",
       "      <td>0.8856</td>\n",
       "      <td>positive</td>\n",
       "    </tr>\n",
       "    <tr>\n",
       "      <th>4</th>\n",
       "      <td>To Foreign Lands</td>\n",
       "      <td>I heard that you ask’d for something to prove this puzzle the New World,\\r\\n  And to define America, her athletic Democracy,\\r\\n  Therefore I send...</td>\n",
       "      <td>[I heard that you ask’d for something to prove this puzzle the New World,, And to define America, her athletic Democracy,, Therefore I send you my...</td>\n",
       "      <td>3</td>\n",
       "      <td>35</td>\n",
       "      <td>11.666667</td>\n",
       "      <td>0.0000</td>\n",
       "      <td>neutral</td>\n",
       "    </tr>\n",
       "  </tbody>\n",
       "</table>\n",
       "</div>"
      ],
      "text/plain": [
       "                      title  \\\n",
       "0                  Untitled   \n",
       "1         One’s-Self I Sing   \n",
       "2  As I Ponder’d in Silence   \n",
       "3   In Cabin’d Ships at Sea   \n",
       "4          To Foreign Lands   \n",
       "\n",
       "                                                                                                                                             poem_string  \\\n",
       "0  Come, said my soul,\\r\\n     Such verses for my Body let us write, (for we are one,)\\r\\n     That should I after return,\\r\\n     Or, long, long hen...   \n",
       "1  One’s-self I sing, a simple separate person,\\r\\n  Yet utter the word Democratic, the word En-Masse.\\r\\n\\r\\n  Of physiology from top to toe I sing,...   \n",
       "2  As I ponder’d in silence,\\r\\n  Returning upon my poems, considering, lingering long,\\r\\n  A Phantom arose before me with distrustful aspect,\\r\\n  ...   \n",
       "3  In cabin’d ships at sea,\\r\\n  The boundless blue on every side expanding,\\r\\n  With whistling winds and music of the waves, the large imperious wa...   \n",
       "4  I heard that you ask’d for something to prove this puzzle the New World,\\r\\n  And to define America, her athletic Democracy,\\r\\n  Therefore I send...   \n",
       "\n",
       "                                                                                                                                              poem_lines  \\\n",
       "0  [Come, said my soul,, Such verses for my Body let us write, (for we are one,), That should I after return,, Or, long, long hence, in other spheres...   \n",
       "1  [One’s-self I sing, a simple separate person,, Yet utter the word Democratic, the word En-Masse., Of physiology from top to toe I sing,, Not physi...   \n",
       "2  [As I ponder’d in silence,, Returning upon my poems, considering, lingering long,, A Phantom arose before me with distrustful aspect,, Terrible in...   \n",
       "3  [In cabin’d ships at sea,, The boundless blue on every side expanding,, With whistling winds and music of the waves, the large imperious waves,, O...   \n",
       "4  [I heard that you ask’d for something to prove this puzzle the New World,, And to define America, her athletic Democracy,, Therefore I send you my...   \n",
       "\n",
       "   num_lines  num_words  avg_len_line  sentiment_polarity_score  \\\n",
       "0         10         76      7.600000                    0.3612   \n",
       "1          9         72      8.000000                    0.9576   \n",
       "2         20        163      8.150000                    0.4234   \n",
       "3         29        266      9.172414                    0.8856   \n",
       "4          3         35     11.666667                    0.0000   \n",
       "\n",
       "  sentiment_polarity  \n",
       "0           positive  \n",
       "1           positive  \n",
       "2           positive  \n",
       "3           positive  \n",
       "4            neutral  "
      ]
     },
     "execution_count": 31,
     "metadata": {},
     "output_type": "execute_result"
    }
   ],
   "source": [
    "df.head()"
   ]
  },
  {
   "cell_type": "markdown",
   "metadata": {},
   "source": [
    "- Not very surprising but overwhelmingly positive. Interestingly, neutral poems tend to be much shorter on average, though I do wonder if this is a result of the fact that, with the more lines you have, the higher the chance of adding positive/negative polarities to that score.\n",
    "\n",
    "### Sentiment, subjectivity\n",
    "\n",
    "[[go back to the top](#Predicting-Poetic-Movements)]\n",
    "\n",
    "- I wonder if Whiteman tends to be more or less objective.\n",
    "- I'll use TextBlob to obtain a sentiment score."
   ]
  },
  {
   "cell_type": "code",
   "execution_count": 32,
   "metadata": {},
   "outputs": [
    {
     "name": "stdout",
     "output_type": "stream",
     "text": [
      "CPU times: user 879 ms, sys: 5.5 ms, total: 884 ms\n",
      "Wall time: 890 ms\n"
     ]
    }
   ],
   "source": [
    "%%time\n",
    "\n",
    "# create a column with the compound polarity score, \n",
    "# passing in the raw poem to TextBlob\n",
    "df['sentiment_subjectivity_score'] = df['poem_string'].\\\n",
    "    apply(lambda x: TextBlob(x).sentiment.subjectivity)"
   ]
  },
  {
   "cell_type": "code",
   "execution_count": 33,
   "metadata": {},
   "outputs": [
    {
     "data": {
      "text/plain": [
       "count    609.000000\n",
       "mean       0.503291\n",
       "std        0.143470\n",
       "min        0.000000\n",
       "25%        0.434127\n",
       "50%        0.498401\n",
       "75%        0.578571\n",
       "max        1.000000\n",
       "Name: sentiment_subjectivity_score, dtype: float64"
      ]
     },
     "execution_count": 33,
     "metadata": {},
     "output_type": "execute_result"
    }
   ],
   "source": [
    "# subjectivity score stats as a whole\n",
    "df.sentiment_subjectivity_score.describe()"
   ]
  },
  {
   "cell_type": "code",
   "execution_count": 34,
   "metadata": {},
   "outputs": [
    {
     "data": {
      "image/png": "[encoded data removed]",
      "text/plain": [
       "<Figure size 432x288 with 1 Axes>"
      ]
     },
     "metadata": {
      "needs_background": "light"
     },
     "output_type": "display_data"
    }
   ],
   "source": [
    "df.sentiment_subjectivity_score.hist(bins=20);"
   ]
  },
  {
   "cell_type": "markdown",
   "metadata": {},
   "source": [
    "- Pretty normally distributed; the mean and the median are both around 0.5.\n",
    "- Whitman seems to use both objective and subjective language more or less equally."
   ]
  },
  {
   "cell_type": "code",
   "execution_count": 35,
   "metadata": {},
   "outputs": [],
   "source": [
    "# convert to categorical variable\n",
    "conditions = [\n",
    "    df.sentiment_subjectivity_score >= 0.67,\n",
    "    df.sentiment_subjectivity_score <= 0.33\n",
    "]\n",
    "\n",
    "choices = [\n",
    "    'more subjective',\n",
    "    'more objective'\n",
    "]\n",
    "\n",
    "df['sentiment_subjectivity'] = np.select(conditions, \n",
    "                                     choices, \n",
    "                                     'in between')"
   ]
  },
  {
   "cell_type": "code",
   "execution_count": 36,
   "metadata": {},
   "outputs": [
    {
     "data": {
      "image/png": "[encoded data removed]",
      "text/plain": [
       "<Figure size 504x504 with 1 Axes>"
      ]
     },
     "metadata": {
      "needs_background": "light"
     },
     "output_type": "display_data"
    }
   ],
   "source": [
    "# plot the graph\n",
    "df.boxplot('num_lines', 'sentiment_subjectivity', \n",
    "           showfliers=False, figsize=(7,7));"
   ]
  },
  {
   "cell_type": "markdown",
   "metadata": {},
   "source": [
    "- Objective poems tend to be shorter, followed by subjective poems, while poems that are somewhere in between tend to be much longer on average.\n",
    "- Again, I do wonder if this is a result of the fact that, with the more lines you have, the higher the chance of sort of \"muddying\" the results with conflicting subjectivity levels."
   ]
  },
  {
   "cell_type": "markdown",
   "metadata": {},
   "source": [
    "### Number of end rhymes\n",
    "\n",
    "[[go back to the top](#Leaves-of-Grass-Analysis)]\n",
    "\n",
    "- I would say certain movements definitely rhyme more than others, so let's see if the numbers bear that out.\n",
    "- Count the number of end rhymes, i.e. lines where the last word rhymes with another line's last word."
   ]
  },
  {
   "cell_type": "code",
   "execution_count": 37,
   "metadata": {},
   "outputs": [
    {
     "name": "stdout",
     "output_type": "stream",
     "text": [
      "CPU times: user 6.05 s, sys: 29.2 ms, total: 6.08 s\n",
      "Wall time: 6.1 s\n"
     ]
    }
   ],
   "source": [
    "%%time\n",
    "\n",
    "# run custom function to count the number of end rhymes in a poem\n",
    "df['num_end_rhymes'] = df.poem_lines.apply(end_rhyme_counter)"
   ]
  },
  {
   "cell_type": "code",
   "execution_count": 38,
   "metadata": {},
   "outputs": [
    {
     "data": {
      "text/plain": [
       "count    609.000000\n",
       "mean       2.307061\n",
       "std       16.566432\n",
       "min        0.000000\n",
       "25%        0.000000\n",
       "50%        0.000000\n",
       "75%        1.000000\n",
       "max      361.000000\n",
       "Name: num_end_rhymes, dtype: float64"
      ]
     },
     "execution_count": 38,
     "metadata": {},
     "output_type": "execute_result"
    }
   ],
   "source": [
    "# number of end rhymes stats as a whole\n",
    "df.num_end_rhymes.describe()"
   ]
  },
  {
   "cell_type": "code",
   "execution_count": 39,
   "metadata": {},
   "outputs": [
    {
     "data": {
      "text/html": [
       "<div>\n",
       "<style scoped>\n",
       "    .dataframe tbody tr th:only-of-type {\n",
       "        vertical-align: middle;\n",
       "    }\n",
       "\n",
       "    .dataframe tbody tr th {\n",
       "        vertical-align: top;\n",
       "    }\n",
       "\n",
       "    .dataframe thead th {\n",
       "        text-align: right;\n",
       "    }\n",
       "</style>\n",
       "<table border=\"1\" class=\"dataframe\">\n",
       "  <thead>\n",
       "    <tr style=\"text-align: right;\">\n",
       "      <th></th>\n",
       "      <th>title</th>\n",
       "      <th>poem_string</th>\n",
       "      <th>poem_lines</th>\n",
       "      <th>num_lines</th>\n",
       "      <th>num_words</th>\n",
       "      <th>avg_len_line</th>\n",
       "      <th>sentiment_polarity_score</th>\n",
       "      <th>sentiment_polarity</th>\n",
       "      <th>sentiment_subjectivity_score</th>\n",
       "      <th>sentiment_subjectivity</th>\n",
       "      <th>num_end_rhymes</th>\n",
       "    </tr>\n",
       "  </thead>\n",
       "  <tbody>\n",
       "    <tr>\n",
       "      <th>79</th>\n",
       "      <td>Our Old Feuillage</td>\n",
       "      <td>Always our old feuillage!\\r\\n  Always Florida’s green peninsula—always the priceless delta of\\r\\n      Louisiana—always the cotton-fields of Alaba...</td>\n",
       "      <td>[Always our old feuillage!, Always Florida’s green peninsula—always the priceless delta of, Louisiana—always the cotton-fields of Alabama and Texa...</td>\n",
       "      <td>167</td>\n",
       "      <td>1497</td>\n",
       "      <td>8.964072</td>\n",
       "      <td>0.9938</td>\n",
       "      <td>positive</td>\n",
       "      <td>0.412865</td>\n",
       "      <td>in between</td>\n",
       "      <td>16</td>\n",
       "    </tr>\n",
       "    <tr>\n",
       "      <th>80</th>\n",
       "      <td>A Song of Joys</td>\n",
       "      <td>O to make the most jubilant song!\\r\\n  Full of music—full of manhood, womanhood, infancy!\\r\\n  Full of common employments—full of grain and trees....</td>\n",
       "      <td>[O to make the most jubilant song!, Full of music—full of manhood, womanhood, infancy!, Full of common employments—full of grain and trees., O for...</td>\n",
       "      <td>207</td>\n",
       "      <td>1938</td>\n",
       "      <td>9.362319</td>\n",
       "      <td>0.9998</td>\n",
       "      <td>positive</td>\n",
       "      <td>0.524370</td>\n",
       "      <td>in between</td>\n",
       "      <td>65</td>\n",
       "    </tr>\n",
       "    <tr>\n",
       "      <th>87</th>\n",
       "      <td>Out of the Cradle Endlessly Rocking</td>\n",
       "      <td>Out of the cradle endlessly rocking,\\r\\n  Out of the mocking-bird’s throat, the musical shuttle,\\r\\n  Out of the Ninth-month midnight,\\r\\n  Over t...</td>\n",
       "      <td>[Out of the cradle endlessly rocking,, Out of the mocking-bird’s throat, the musical shuttle,, Out of the Ninth-month midnight,, Over the sterile ...</td>\n",
       "      <td>194</td>\n",
       "      <td>1537</td>\n",
       "      <td>7.922680</td>\n",
       "      <td>0.9985</td>\n",
       "      <td>positive</td>\n",
       "      <td>0.514275</td>\n",
       "      <td>in between</td>\n",
       "      <td>111</td>\n",
       "    </tr>\n",
       "    <tr>\n",
       "      <th>129</th>\n",
       "      <td>Song of the Banner at Daybreak</td>\n",
       "      <td>Poet:\\r\\n  O A new song, a free song,\\r\\n  Flapping, flapping, flapping, flapping, by sounds, by voices clearer,\\r\\n  By the wind’s voice and that...</td>\n",
       "      <td>[Poet:, O A new song, a free song,, Flapping, flapping, flapping, flapping, by sounds, by voices clearer,, By the wind’s voice and that of the dru...</td>\n",
       "      <td>190</td>\n",
       "      <td>1661</td>\n",
       "      <td>8.742105</td>\n",
       "      <td>0.9944</td>\n",
       "      <td>positive</td>\n",
       "      <td>0.548265</td>\n",
       "      <td>in between</td>\n",
       "      <td>97</td>\n",
       "    </tr>\n",
       "    <tr>\n",
       "      <th>132</th>\n",
       "      <td>The Centenarian’s Story</td>\n",
       "      <td>[Volunteer of 1861-2, at Washington Park, Brooklyn, assisting\\r\\n       the Centenarian.]\\r\\n  Give me your hand old Revolutionary,\\r\\n  The hill-...</td>\n",
       "      <td>[[Volunteer of 1861-2, at Washington Park, Brooklyn, assisting, the Centenarian.], Give me your hand old Revolutionary,, The hill-top is nigh, but...</td>\n",
       "      <td>134</td>\n",
       "      <td>1186</td>\n",
       "      <td>8.850746</td>\n",
       "      <td>-0.9927</td>\n",
       "      <td>negative</td>\n",
       "      <td>0.378477</td>\n",
       "      <td>in between</td>\n",
       "      <td>11</td>\n",
       "    </tr>\n",
       "    <tr>\n",
       "      <th>165</th>\n",
       "      <td>O Captain! My Captain!</td>\n",
       "      <td>O Captain! my Captain! our fearful trip is done,\\r\\n  The ship has weather’d every rack, the prize we sought is won,\\r\\n  The port is near, the be...</td>\n",
       "      <td>[O Captain! my Captain! our fearful trip is done,, The ship has weather’d every rack, the prize we sought is won,, The port is near, the bells I h...</td>\n",
       "      <td>24</td>\n",
       "      <td>199</td>\n",
       "      <td>8.291667</td>\n",
       "      <td>-0.8865</td>\n",
       "      <td>negative</td>\n",
       "      <td>0.580000</td>\n",
       "      <td>in between</td>\n",
       "      <td>20</td>\n",
       "    </tr>\n",
       "    <tr>\n",
       "      <th>168</th>\n",
       "      <td>By Blue Ontario’s Shore</td>\n",
       "      <td>By blue Ontario’s shore,\\r\\n  As I mused of these warlike days and of peace return’d, and the\\r\\n      dead that return no more,\\r\\n  A Phantom gi...</td>\n",
       "      <td>[By blue Ontario’s shore,, As I mused of these warlike days and of peace return’d, and the, dead that return no more,, A Phantom gigantic superb, ...</td>\n",
       "      <td>456</td>\n",
       "      <td>3934</td>\n",
       "      <td>8.627193</td>\n",
       "      <td>0.9997</td>\n",
       "      <td>positive</td>\n",
       "      <td>0.565164</td>\n",
       "      <td>in between</td>\n",
       "      <td>361</td>\n",
       "    </tr>\n",
       "    <tr>\n",
       "      <th>177</th>\n",
       "      <td>The Singer in the Prison</td>\n",
       "      <td>O sight of pity, shame and dole!\\r\\n          O fearful thought—a convict soul.\\r\\n\\r\\n       1\\r\\n  Rang the refrain along the hall, the prison,\\...</td>\n",
       "      <td>[O sight of pity, shame and dole!, O fearful thought—a convict soul., 1, Rang the refrain along the hall, the prison,, Rose to the roof, the vault...</td>\n",
       "      <td>60</td>\n",
       "      <td>463</td>\n",
       "      <td>7.716667</td>\n",
       "      <td>-0.9878</td>\n",
       "      <td>negative</td>\n",
       "      <td>0.529227</td>\n",
       "      <td>in between</td>\n",
       "      <td>20</td>\n",
       "    </tr>\n",
       "    <tr>\n",
       "      <th>203</th>\n",
       "      <td>Prayer of Columbus</td>\n",
       "      <td>A batter’d, wreck’d old man,\\r\\n  Thrown on this savage shore, far, far from home,\\r\\n  Pent by the sea and dark rebellious brows, twelve dreary m...</td>\n",
       "      <td>[A batter’d, wreck’d old man,, Thrown on this savage shore, far, far from home,, Pent by the sea and dark rebellious brows, twelve dreary months,,...</td>\n",
       "      <td>67</td>\n",
       "      <td>573</td>\n",
       "      <td>8.552239</td>\n",
       "      <td>0.9067</td>\n",
       "      <td>positive</td>\n",
       "      <td>0.536464</td>\n",
       "      <td>in between</td>\n",
       "      <td>85</td>\n",
       "    </tr>\n",
       "    <tr>\n",
       "      <th>338</th>\n",
       "      <td>A Voice from Death</td>\n",
       "      <td>A voice from Death, solemn and strange, in all his sweep and power,\\r\\n  With sudden, indescribable blow—towns drown’d—humanity by\\r\\n      thousa...</td>\n",
       "      <td>[A voice from Death, solemn and strange, in all his sweep and power,, With sudden, indescribable blow—towns drown’d—humanity by, thousands slain,,...</td>\n",
       "      <td>45</td>\n",
       "      <td>368</td>\n",
       "      <td>8.177778</td>\n",
       "      <td>-0.8736</td>\n",
       "      <td>negative</td>\n",
       "      <td>0.459596</td>\n",
       "      <td>in between</td>\n",
       "      <td>14</td>\n",
       "    </tr>\n",
       "    <tr>\n",
       "      <th>381</th>\n",
       "      <td>Song of Myself: Part 15</td>\n",
       "      <td>The pure contralto sings in the organ loft,\\r\\n The carpenter dresses his plank, the tongue of his foreplane\\r\\n whistles its wild ascending lisp,...</td>\n",
       "      <td>[The pure contralto sings in the organ loft,, The carpenter dresses his plank, the tongue of his foreplane, whistles its wild ascending lisp,, The...</td>\n",
       "      <td>100</td>\n",
       "      <td>904</td>\n",
       "      <td>9.040000</td>\n",
       "      <td>0.5650</td>\n",
       "      <td>positive</td>\n",
       "      <td>0.395512</td>\n",
       "      <td>in between</td>\n",
       "      <td>15</td>\n",
       "    </tr>\n",
       "    <tr>\n",
       "      <th>399</th>\n",
       "      <td>Song of Myself: Part 33</td>\n",
       "      <td>Space and Time! now I see it is true, what I guess’d at,\\r\\n What I guess’d when I loaf’d on the grass,\\r\\n What I guess’d while I lay alone in my...</td>\n",
       "      <td>[Space and Time! now I see it is true, what I guess’d at,, What I guess’d when I loaf’d on the grass,, What I guess’d while I lay alone in my bed,...</td>\n",
       "      <td>217</td>\n",
       "      <td>1958</td>\n",
       "      <td>9.023041</td>\n",
       "      <td>0.9765</td>\n",
       "      <td>positive</td>\n",
       "      <td>0.462308</td>\n",
       "      <td>in between</td>\n",
       "      <td>35</td>\n",
       "    </tr>\n",
       "    <tr>\n",
       "      <th>407</th>\n",
       "      <td>Song of Myself: Part 41</td>\n",
       "      <td>I am he bringing help for the sick as they pant on their backs,\\r\\n And for strong upright men I bring yet more needed help.\\r\\n I heard what was ...</td>\n",
       "      <td>[I am he bringing help for the sick as they pant on their backs,, And for strong upright men I bring yet more needed help., I heard what was said ...</td>\n",
       "      <td>101</td>\n",
       "      <td>892</td>\n",
       "      <td>8.831683</td>\n",
       "      <td>0.9099</td>\n",
       "      <td>positive</td>\n",
       "      <td>0.473871</td>\n",
       "      <td>in between</td>\n",
       "      <td>13</td>\n",
       "    </tr>\n",
       "    <tr>\n",
       "      <th>409</th>\n",
       "      <td>Song of Myself: Part 44</td>\n",
       "      <td>It is time to explain myself—let us stand up.\\r\\n What is known I strip away,\\r\\n I launch all men and women forward with me into the Unknown.\\r\\n...</td>\n",
       "      <td>[It is time to explain myself—let us stand up., What is known I strip away,, I launch all men and women forward with me into the Unknown., The clo...</td>\n",
       "      <td>74</td>\n",
       "      <td>702</td>\n",
       "      <td>9.486486</td>\n",
       "      <td>0.9958</td>\n",
       "      <td>positive</td>\n",
       "      <td>0.571366</td>\n",
       "      <td>in between</td>\n",
       "      <td>11</td>\n",
       "    </tr>\n",
       "    <tr>\n",
       "      <th>450</th>\n",
       "      <td>Song of the Open Road: Part 13</td>\n",
       "      <td>Allons! to that which is endless as it was beginningless,\\r\\n To undergo much, tramps of days, rests of nights,\\r\\n To merge all in the travel the...</td>\n",
       "      <td>[Allons! to that which is endless as it was beginningless,, To undergo much, tramps of days, rests of nights,, To merge all in the travel they ten...</td>\n",
       "      <td>57</td>\n",
       "      <td>564</td>\n",
       "      <td>9.894737</td>\n",
       "      <td>0.9769</td>\n",
       "      <td>positive</td>\n",
       "      <td>0.631907</td>\n",
       "      <td>in between</td>\n",
       "      <td>14</td>\n",
       "    </tr>\n",
       "    <tr>\n",
       "      <th>462</th>\n",
       "      <td>Song of the Answerer: Part 1</td>\n",
       "      <td>Now list to my morning’s romanza, I tell the signs of the Answerer,\\r\\n To the cities and farms I sing as they spread in the sunshine before me.\\r...</td>\n",
       "      <td>[Now list to my morning’s romanza, I tell the signs of the Answerer,, To the cities and farms I sing as they spread in the sunshine before me., A ...</td>\n",
       "      <td>78</td>\n",
       "      <td>748</td>\n",
       "      <td>9.589744</td>\n",
       "      <td>0.9989</td>\n",
       "      <td>positive</td>\n",
       "      <td>0.537974</td>\n",
       "      <td>in between</td>\n",
       "      <td>23</td>\n",
       "    </tr>\n",
       "    <tr>\n",
       "      <th>485</th>\n",
       "      <td>Song of the Redwood-Tree: Part 1</td>\n",
       "      <td>A California song,\\r\\n A prophecy and indirection, a thought impalpable to breathe as air,\\r\\n A chorus of dryads, fading, departing, or hamadryad...</td>\n",
       "      <td>[A California song,, A prophecy and indirection, a thought impalpable to breathe as air,, A chorus of dryads, fading, departing, or hamadryads dep...</td>\n",
       "      <td>97</td>\n",
       "      <td>792</td>\n",
       "      <td>8.164948</td>\n",
       "      <td>0.9987</td>\n",
       "      <td>positive</td>\n",
       "      <td>0.467005</td>\n",
       "      <td>in between</td>\n",
       "      <td>12</td>\n",
       "    </tr>\n",
       "    <tr>\n",
       "      <th>488</th>\n",
       "      <td>A Song for Occupations: Part 1</td>\n",
       "      <td>A song for occupations!\\r\\n In the labor of engines and trades and the labor of fields I find\\r\\n the developments,\\r\\n And find the eternal meani...</td>\n",
       "      <td>[A song for occupations!, In the labor of engines and trades and the labor of fields I find, the developments,, And find the eternal meanings., Wo...</td>\n",
       "      <td>37</td>\n",
       "      <td>347</td>\n",
       "      <td>9.378378</td>\n",
       "      <td>0.9940</td>\n",
       "      <td>positive</td>\n",
       "      <td>0.573344</td>\n",
       "      <td>in between</td>\n",
       "      <td>13</td>\n",
       "    </tr>\n",
       "    <tr>\n",
       "      <th>535</th>\n",
       "      <td>When Lilacs Last in the Dooryard Bloom’d: Part 14</td>\n",
       "      <td>Now while I sat in the day and look’d forth,\\r\\n In the close of the day with its light and the fields of spring, and\\r\\n the farmers preparing th...</td>\n",
       "      <td>[Now while I sat in the day and look’d forth,, In the close of the day with its light and the fields of spring, and, the farmers preparing their c...</td>\n",
       "      <td>62</td>\n",
       "      <td>581</td>\n",
       "      <td>9.370968</td>\n",
       "      <td>0.9891</td>\n",
       "      <td>positive</td>\n",
       "      <td>0.483978</td>\n",
       "      <td>in between</td>\n",
       "      <td>21</td>\n",
       "    </tr>\n",
       "  </tbody>\n",
       "</table>\n",
       "</div>"
      ],
      "text/plain": [
       "                                                 title  \\\n",
       "79                                   Our Old Feuillage   \n",
       "80                                      A Song of Joys   \n",
       "87                 Out of the Cradle Endlessly Rocking   \n",
       "129                     Song of the Banner at Daybreak   \n",
       "132                            The Centenarian’s Story   \n",
       "165                             O Captain! My Captain!   \n",
       "168                            By Blue Ontario’s Shore   \n",
       "177                           The Singer in the Prison   \n",
       "203                                 Prayer of Columbus   \n",
       "338                                 A Voice from Death   \n",
       "381                            Song of Myself: Part 15   \n",
       "399                            Song of Myself: Part 33   \n",
       "407                            Song of Myself: Part 41   \n",
       "409                            Song of Myself: Part 44   \n",
       "450                     Song of the Open Road: Part 13   \n",
       "462                       Song of the Answerer: Part 1   \n",
       "485                   Song of the Redwood-Tree: Part 1   \n",
       "488                     A Song for Occupations: Part 1   \n",
       "535  When Lilacs Last in the Dooryard Bloom’d: Part 14   \n",
       "\n",
       "                                                                                                                                               poem_string  \\\n",
       "79   Always our old feuillage!\\r\\n  Always Florida’s green peninsula—always the priceless delta of\\r\\n      Louisiana—always the cotton-fields of Alaba...   \n",
       "80   O to make the most jubilant song!\\r\\n  Full of music—full of manhood, womanhood, infancy!\\r\\n  Full of common employments—full of grain and trees....   \n",
       "87   Out of the cradle endlessly rocking,\\r\\n  Out of the mocking-bird’s throat, the musical shuttle,\\r\\n  Out of the Ninth-month midnight,\\r\\n  Over t...   \n",
       "129  Poet:\\r\\n  O A new song, a free song,\\r\\n  Flapping, flapping, flapping, flapping, by sounds, by voices clearer,\\r\\n  By the wind’s voice and that...   \n",
       "132  [Volunteer of 1861-2, at Washington Park, Brooklyn, assisting\\r\\n       the Centenarian.]\\r\\n  Give me your hand old Revolutionary,\\r\\n  The hill-...   \n",
       "165  O Captain! my Captain! our fearful trip is done,\\r\\n  The ship has weather’d every rack, the prize we sought is won,\\r\\n  The port is near, the be...   \n",
       "168  By blue Ontario’s shore,\\r\\n  As I mused of these warlike days and of peace return’d, and the\\r\\n      dead that return no more,\\r\\n  A Phantom gi...   \n",
       "177  O sight of pity, shame and dole!\\r\\n          O fearful thought—a convict soul.\\r\\n\\r\\n       1\\r\\n  Rang the refrain along the hall, the prison,\\...   \n",
       "203  A batter’d, wreck’d old man,\\r\\n  Thrown on this savage shore, far, far from home,\\r\\n  Pent by the sea and dark rebellious brows, twelve dreary m...   \n",
       "338  A voice from Death, solemn and strange, in all his sweep and power,\\r\\n  With sudden, indescribable blow—towns drown’d—humanity by\\r\\n      thousa...   \n",
       "381  The pure contralto sings in the organ loft,\\r\\n The carpenter dresses his plank, the tongue of his foreplane\\r\\n whistles its wild ascending lisp,...   \n",
       "399  Space and Time! now I see it is true, what I guess’d at,\\r\\n What I guess’d when I loaf’d on the grass,\\r\\n What I guess’d while I lay alone in my...   \n",
       "407  I am he bringing help for the sick as they pant on their backs,\\r\\n And for strong upright men I bring yet more needed help.\\r\\n I heard what was ...   \n",
       "409  It is time to explain myself—let us stand up.\\r\\n What is known I strip away,\\r\\n I launch all men and women forward with me into the Unknown.\\r\\n...   \n",
       "450  Allons! to that which is endless as it was beginningless,\\r\\n To undergo much, tramps of days, rests of nights,\\r\\n To merge all in the travel the...   \n",
       "462  Now list to my morning’s romanza, I tell the signs of the Answerer,\\r\\n To the cities and farms I sing as they spread in the sunshine before me.\\r...   \n",
       "485  A California song,\\r\\n A prophecy and indirection, a thought impalpable to breathe as air,\\r\\n A chorus of dryads, fading, departing, or hamadryad...   \n",
       "488  A song for occupations!\\r\\n In the labor of engines and trades and the labor of fields I find\\r\\n the developments,\\r\\n And find the eternal meani...   \n",
       "535  Now while I sat in the day and look’d forth,\\r\\n In the close of the day with its light and the fields of spring, and\\r\\n the farmers preparing th...   \n",
       "\n",
       "                                                                                                                                                poem_lines  \\\n",
       "79   [Always our old feuillage!, Always Florida’s green peninsula—always the priceless delta of, Louisiana—always the cotton-fields of Alabama and Texa...   \n",
       "80   [O to make the most jubilant song!, Full of music—full of manhood, womanhood, infancy!, Full of common employments—full of grain and trees., O for...   \n",
       "87   [Out of the cradle endlessly rocking,, Out of the mocking-bird’s throat, the musical shuttle,, Out of the Ninth-month midnight,, Over the sterile ...   \n",
       "129  [Poet:, O A new song, a free song,, Flapping, flapping, flapping, flapping, by sounds, by voices clearer,, By the wind’s voice and that of the dru...   \n",
       "132  [[Volunteer of 1861-2, at Washington Park, Brooklyn, assisting, the Centenarian.], Give me your hand old Revolutionary,, The hill-top is nigh, but...   \n",
       "165  [O Captain! my Captain! our fearful trip is done,, The ship has weather’d every rack, the prize we sought is won,, The port is near, the bells I h...   \n",
       "168  [By blue Ontario’s shore,, As I mused of these warlike days and of peace return’d, and the, dead that return no more,, A Phantom gigantic superb, ...   \n",
       "177  [O sight of pity, shame and dole!, O fearful thought—a convict soul., 1, Rang the refrain along the hall, the prison,, Rose to the roof, the vault...   \n",
       "203  [A batter’d, wreck’d old man,, Thrown on this savage shore, far, far from home,, Pent by the sea and dark rebellious brows, twelve dreary months,,...   \n",
       "338  [A voice from Death, solemn and strange, in all his sweep and power,, With sudden, indescribable blow—towns drown’d—humanity by, thousands slain,,...   \n",
       "381  [The pure contralto sings in the organ loft,, The carpenter dresses his plank, the tongue of his foreplane, whistles its wild ascending lisp,, The...   \n",
       "399  [Space and Time! now I see it is true, what I guess’d at,, What I guess’d when I loaf’d on the grass,, What I guess’d while I lay alone in my bed,...   \n",
       "407  [I am he bringing help for the sick as they pant on their backs,, And for strong upright men I bring yet more needed help., I heard what was said ...   \n",
       "409  [It is time to explain myself—let us stand up., What is known I strip away,, I launch all men and women forward with me into the Unknown., The clo...   \n",
       "450  [Allons! to that which is endless as it was beginningless,, To undergo much, tramps of days, rests of nights,, To merge all in the travel they ten...   \n",
       "462  [Now list to my morning’s romanza, I tell the signs of the Answerer,, To the cities and farms I sing as they spread in the sunshine before me., A ...   \n",
       "485  [A California song,, A prophecy and indirection, a thought impalpable to breathe as air,, A chorus of dryads, fading, departing, or hamadryads dep...   \n",
       "488  [A song for occupations!, In the labor of engines and trades and the labor of fields I find, the developments,, And find the eternal meanings., Wo...   \n",
       "535  [Now while I sat in the day and look’d forth,, In the close of the day with its light and the fields of spring, and, the farmers preparing their c...   \n",
       "\n",
       "     num_lines  num_words  avg_len_line  sentiment_polarity_score  \\\n",
       "79         167       1497      8.964072                    0.9938   \n",
       "80         207       1938      9.362319                    0.9998   \n",
       "87         194       1537      7.922680                    0.9985   \n",
       "129        190       1661      8.742105                    0.9944   \n",
       "132        134       1186      8.850746                   -0.9927   \n",
       "165         24        199      8.291667                   -0.8865   \n",
       "168        456       3934      8.627193                    0.9997   \n",
       "177         60        463      7.716667                   -0.9878   \n",
       "203         67        573      8.552239                    0.9067   \n",
       "338         45        368      8.177778                   -0.8736   \n",
       "381        100        904      9.040000                    0.5650   \n",
       "399        217       1958      9.023041                    0.9765   \n",
       "407        101        892      8.831683                    0.9099   \n",
       "409         74        702      9.486486                    0.9958   \n",
       "450         57        564      9.894737                    0.9769   \n",
       "462         78        748      9.589744                    0.9989   \n",
       "485         97        792      8.164948                    0.9987   \n",
       "488         37        347      9.378378                    0.9940   \n",
       "535         62        581      9.370968                    0.9891   \n",
       "\n",
       "    sentiment_polarity  sentiment_subjectivity_score sentiment_subjectivity  \\\n",
       "79            positive                      0.412865             in between   \n",
       "80            positive                      0.524370             in between   \n",
       "87            positive                      0.514275             in between   \n",
       "129           positive                      0.548265             in between   \n",
       "132           negative                      0.378477             in between   \n",
       "165           negative                      0.580000             in between   \n",
       "168           positive                      0.565164             in between   \n",
       "177           negative                      0.529227             in between   \n",
       "203           positive                      0.536464             in between   \n",
       "338           negative                      0.459596             in between   \n",
       "381           positive                      0.395512             in between   \n",
       "399           positive                      0.462308             in between   \n",
       "407           positive                      0.473871             in between   \n",
       "409           positive                      0.571366             in between   \n",
       "450           positive                      0.631907             in between   \n",
       "462           positive                      0.537974             in between   \n",
       "485           positive                      0.467005             in between   \n",
       "488           positive                      0.573344             in between   \n",
       "535           positive                      0.483978             in between   \n",
       "\n",
       "     num_end_rhymes  \n",
       "79               16  \n",
       "80               65  \n",
       "87              111  \n",
       "129              97  \n",
       "132              11  \n",
       "165              20  \n",
       "168             361  \n",
       "177              20  \n",
       "203              85  \n",
       "338              14  \n",
       "381              15  \n",
       "399              35  \n",
       "407              13  \n",
       "409              11  \n",
       "450              14  \n",
       "462              23  \n",
       "485              12  \n",
       "488              13  \n",
       "535              21  "
      ]
     },
     "execution_count": 39,
     "metadata": {},
     "output_type": "execute_result"
    }
   ],
   "source": [
    "df[df.num_end_rhymes > 10]"
   ]
  },
  {
   "cell_type": "code",
   "execution_count": 40,
   "metadata": {},
   "outputs": [
    {
     "data": {
      "text/plain": [
       "<matplotlib.axes._subplots.AxesSubplot at 0x7fdb10b34080>"
      ]
     },
     "execution_count": 40,
     "metadata": {},
     "output_type": "execute_result"
    },
    {
     "data": {
      "image/png": "[encoded data removed]",
      "text/plain": [
       "<Figure size 432x288 with 1 Axes>"
      ]
     },
     "metadata": {
      "needs_background": "light"
     },
     "output_type": "display_data"
    }
   ],
   "source": [
    "df.num_end_rhymes.hist()"
   ]
  },
  {
   "cell_type": "code",
   "execution_count": 41,
   "metadata": {},
   "outputs": [
    {
     "data": {
      "text/plain": [
       "0.6863711001642037"
      ]
     },
     "execution_count": 41,
     "metadata": {},
     "output_type": "execute_result"
    }
   ],
   "source": [
    "len(df[df.num_end_rhymes == 0]) / len(df)"
   ]
  },
  {
   "cell_type": "markdown",
   "metadata": {},
   "source": [
    "- Wow, Whitman seriously does *not* rhyme. The majority of his poems (68.6%) literally have 0 rhymes. The value at the 75th percentile is 1."
   ]
  },
  {
   "cell_type": "code",
   "execution_count": 42,
   "metadata": {},
   "outputs": [
    {
     "data": {
      "image/png": "[encoded data removed]",
      "text/plain": [
       "<Figure size 504x504 with 1 Axes>"
      ]
     },
     "metadata": {
      "needs_background": "light"
     },
     "output_type": "display_data"
    }
   ],
   "source": [
    "# plot the graph\n",
    "df.boxplot('num_end_rhymes', 'sentiment_polarity', \n",
    "           showfliers=False, figsize=(7,7));"
   ]
  },
  {
   "cell_type": "code",
   "execution_count": 43,
   "metadata": {},
   "outputs": [
    {
     "data": {
      "text/html": [
       "<div>\n",
       "<style scoped>\n",
       "    .dataframe tbody tr th:only-of-type {\n",
       "        vertical-align: middle;\n",
       "    }\n",
       "\n",
       "    .dataframe tbody tr th {\n",
       "        vertical-align: top;\n",
       "    }\n",
       "\n",
       "    .dataframe thead th {\n",
       "        text-align: right;\n",
       "    }\n",
       "</style>\n",
       "<table border=\"1\" class=\"dataframe\">\n",
       "  <thead>\n",
       "    <tr style=\"text-align: right;\">\n",
       "      <th></th>\n",
       "      <th>title</th>\n",
       "      <th>poem_string</th>\n",
       "      <th>poem_lines</th>\n",
       "      <th>num_lines</th>\n",
       "      <th>num_words</th>\n",
       "      <th>avg_len_line</th>\n",
       "      <th>sentiment_polarity_score</th>\n",
       "      <th>sentiment_polarity</th>\n",
       "      <th>sentiment_subjectivity_score</th>\n",
       "      <th>sentiment_subjectivity</th>\n",
       "      <th>num_end_rhymes</th>\n",
       "    </tr>\n",
       "  </thead>\n",
       "  <tbody>\n",
       "  </tbody>\n",
       "</table>\n",
       "</div>"
      ],
      "text/plain": [
       "Empty DataFrame\n",
       "Columns: [title, poem_string, poem_lines, num_lines, num_words, avg_len_line, sentiment_polarity_score, sentiment_polarity, sentiment_subjectivity_score, sentiment_subjectivity, num_end_rhymes]\n",
       "Index: []"
      ]
     },
     "execution_count": 43,
     "metadata": {},
     "output_type": "execute_result"
    }
   ],
   "source": [
    "df[(df.sentiment_polarity == 'neutral') & (df.num_end_rhymes > 0)]"
   ]
  },
  {
   "cell_type": "code",
   "execution_count": 44,
   "metadata": {},
   "outputs": [
    {
     "data": {
      "image/png": "[encoded data removed]",
      "text/plain": [
       "<Figure size 504x504 with 1 Axes>"
      ]
     },
     "metadata": {
      "needs_background": "light"
     },
     "output_type": "display_data"
    }
   ],
   "source": [
    "# plot the graph\n",
    "df.boxplot('num_end_rhymes', 'sentiment_subjectivity', \n",
    "           showfliers=False, figsize=(7,7));"
   ]
  },
  {
   "cell_type": "code",
   "execution_count": 45,
   "metadata": {},
   "outputs": [
    {
     "data": {
      "text/plain": [
       "more subjective    8\n",
       "more objective     4\n",
       "Name: sentiment_subjectivity, dtype: int64"
      ]
     },
     "execution_count": 45,
     "metadata": {},
     "output_type": "execute_result"
    }
   ],
   "source": [
    "df[((df.sentiment_subjectivity == 'more objective') | \n",
    "    (df.sentiment_subjectivity == 'more subjective')) & \n",
    "    (df.num_end_rhymes > 0)].sentiment_subjectivity.value_counts()"
   ]
  },
  {
   "cell_type": "markdown",
   "metadata": {},
   "source": [
    "- Interestingly, *zero* neutral poems have any end rhymes.\n",
    "- Almost all of the poems that rhyme fall in the \"in between\" category in terms of subjectivity.\n",
    "\n",
    "### Ratio of end rhymes\n",
    "\n",
    "[[go back to the top](#Leaves-of-Grass-Analysis)]\n",
    "\n",
    "- Looking at the ratio of end rhymes to the length of the poem may give me a better idea about how prevalent any rhyme scheme actually is."
   ]
  },
  {
   "cell_type": "markdown",
   "metadata": {},
   "source": []
  },
  {
   "cell_type": "code",
   "execution_count": 46,
   "metadata": {},
   "outputs": [],
   "source": [
    "# create column of the ratio of end rhymes to the total lines\n",
    "df['ratio_end_rhymes'] = df.num_end_rhymes / df.num_lines"
   ]
  },
  {
   "cell_type": "code",
   "execution_count": 47,
   "metadata": {},
   "outputs": [
    {
     "data": {
      "text/plain": [
       "count    609.000000\n",
       "mean       0.037620\n",
       "std        0.097409\n",
       "min        0.000000\n",
       "25%        0.000000\n",
       "50%        0.000000\n",
       "75%        0.041667\n",
       "max        1.268657\n",
       "Name: ratio_end_rhymes, dtype: float64"
      ]
     },
     "execution_count": 47,
     "metadata": {},
     "output_type": "execute_result"
    }
   ],
   "source": [
    "# end rhyme ratio stats as a whole\n",
    "df.ratio_end_rhymes.describe()"
   ]
  },
  {
   "cell_type": "code",
   "execution_count": 48,
   "metadata": {},
   "outputs": [
    {
     "data": {
      "image/png": "[encoded data removed]",
      "text/plain": [
       "<Figure size 432x288 with 1 Axes>"
      ]
     },
     "metadata": {
      "needs_background": "light"
     },
     "output_type": "display_data"
    }
   ],
   "source": [
    "df.ratio_end_rhymes.hist(bins=25);"
   ]
  },
  {
   "cell_type": "code",
   "execution_count": 49,
   "metadata": {},
   "outputs": [
    {
     "data": {
      "image/png": "[encoded data removed]",
      "text/plain": [
       "<Figure size 504x504 with 1 Axes>"
      ]
     },
     "metadata": {
      "needs_background": "light"
     },
     "output_type": "display_data"
    }
   ],
   "source": [
    "# plot the graph\n",
    "df.boxplot('ratio_end_rhymes', 'sentiment_polarity', \n",
    "           showfliers=False, figsize=(7,7));"
   ]
  },
  {
   "cell_type": "code",
   "execution_count": 50,
   "metadata": {},
   "outputs": [
    {
     "data": {
      "text/html": [
       "<div>\n",
       "<style scoped>\n",
       "    .dataframe tbody tr th:only-of-type {\n",
       "        vertical-align: middle;\n",
       "    }\n",
       "\n",
       "    .dataframe tbody tr th {\n",
       "        vertical-align: top;\n",
       "    }\n",
       "\n",
       "    .dataframe thead th {\n",
       "        text-align: right;\n",
       "    }\n",
       "</style>\n",
       "<table border=\"1\" class=\"dataframe\">\n",
       "  <thead>\n",
       "    <tr style=\"text-align: right;\">\n",
       "      <th></th>\n",
       "      <th>title</th>\n",
       "      <th>poem_string</th>\n",
       "      <th>poem_lines</th>\n",
       "      <th>num_lines</th>\n",
       "      <th>num_words</th>\n",
       "      <th>avg_len_line</th>\n",
       "      <th>sentiment_polarity_score</th>\n",
       "      <th>sentiment_polarity</th>\n",
       "      <th>sentiment_subjectivity_score</th>\n",
       "      <th>sentiment_subjectivity</th>\n",
       "      <th>num_end_rhymes</th>\n",
       "      <th>ratio_end_rhymes</th>\n",
       "    </tr>\n",
       "  </thead>\n",
       "  <tbody>\n",
       "  </tbody>\n",
       "</table>\n",
       "</div>"
      ],
      "text/plain": [
       "Empty DataFrame\n",
       "Columns: [title, poem_string, poem_lines, num_lines, num_words, avg_len_line, sentiment_polarity_score, sentiment_polarity, sentiment_subjectivity_score, sentiment_subjectivity, num_end_rhymes, ratio_end_rhymes]\n",
       "Index: []"
      ]
     },
     "execution_count": 50,
     "metadata": {},
     "output_type": "execute_result"
    }
   ],
   "source": [
    "df[(df.sentiment_polarity == 'neutral') & (df.ratio_end_rhymes > 0)]"
   ]
  },
  {
   "cell_type": "code",
   "execution_count": 51,
   "metadata": {},
   "outputs": [
    {
     "data": {
      "image/png": "[encoded data removed]",
      "text/plain": [
       "<Figure size 504x504 with 1 Axes>"
      ]
     },
     "metadata": {
      "needs_background": "light"
     },
     "output_type": "display_data"
    }
   ],
   "source": [
    "# plot the graph\n",
    "df.boxplot('ratio_end_rhymes', 'sentiment_subjectivity', \n",
    "           showfliers=False, figsize=(7,7));"
   ]
  },
  {
   "cell_type": "markdown",
   "metadata": {},
   "source": [
    "- Another graph showing similar results more clearly.\n",
    "\n",
    "### Syllables per word\n",
    "\n",
    "[[go back to the top](#Leaves-of-Grass-Analysis)]\n",
    "\n",
    "- Count the number of total syllables.\n",
    "- Divide by number of words per poem."
   ]
  },
  {
   "cell_type": "code",
   "execution_count": 52,
   "metadata": {},
   "outputs": [],
   "source": [
    "# divide number of syllables by number of words\n",
    "df['avg_syllables_word'] = df.poem_lines.apply(\n",
    "    syllable_counter) / df.num_words"
   ]
  },
  {
   "cell_type": "code",
   "execution_count": 53,
   "metadata": {},
   "outputs": [
    {
     "data": {
      "text/plain": [
       "count    609.000000\n",
       "mean       1.221609\n",
       "std        0.070110\n",
       "min        1.074074\n",
       "25%        1.176471\n",
       "50%        1.218553\n",
       "75%        1.256098\n",
       "max        1.714286\n",
       "Name: avg_syllables_word, dtype: float64"
      ]
     },
     "execution_count": 53,
     "metadata": {},
     "output_type": "execute_result"
    }
   ],
   "source": [
    "# average syllables per word stats as a whole\n",
    "df.avg_syllables_word.describe()"
   ]
  },
  {
   "cell_type": "code",
   "execution_count": 54,
   "metadata": {},
   "outputs": [
    {
     "data": {
      "image/png": "[encoded data removed]",
      "text/plain": [
       "<Figure size 432x288 with 1 Axes>"
      ]
     },
     "metadata": {
      "needs_background": "light"
     },
     "output_type": "display_data"
    }
   ],
   "source": [
    "df.avg_syllables_word.hist(bins=20);"
   ]
  },
  {
   "cell_type": "markdown",
   "metadata": {},
   "source": [
    "- Again, fairly normally distributed with the mean being pushed a little to the right by a few outliers.\n",
    "\n",
    "### Lexical richness\n",
    "\n",
    "[[go back to the top](#Leaves-of-Grass-Analysis)]\n",
    "\n",
    "- Count the number of unique words.\n",
    "- Divide by number of words per poem."
   ]
  },
  {
   "cell_type": "code",
   "execution_count": 55,
   "metadata": {},
   "outputs": [],
   "source": [
    "# divide number of unique words by total words\n",
    "df['lexical_richness'] = df.poem_lines.apply(\n",
    "    unique_word_counter) / df.num_words"
   ]
  },
  {
   "cell_type": "code",
   "execution_count": 56,
   "metadata": {},
   "outputs": [
    {
     "data": {
      "text/plain": [
       "count    609.000000\n",
       "mean       0.660172\n",
       "std        0.123209\n",
       "min        0.289855\n",
       "25%        0.569061\n",
       "50%        0.649485\n",
       "75%        0.741573\n",
       "max        1.000000\n",
       "Name: lexical_richness, dtype: float64"
      ]
     },
     "execution_count": 56,
     "metadata": {},
     "output_type": "execute_result"
    }
   ],
   "source": [
    "# lexical richness as a whole\n",
    "df.lexical_richness.describe()"
   ]
  },
  {
   "cell_type": "code",
   "execution_count": 57,
   "metadata": {},
   "outputs": [
    {
     "data": {
      "image/png": "[encoded data removed]",
      "text/plain": [
       "<Figure size 432x288 with 1 Axes>"
      ]
     },
     "metadata": {
      "needs_background": "light"
     },
     "output_type": "display_data"
    }
   ],
   "source": [
    "df.lexical_richness.hist(bins=20);"
   ]
  },
  {
   "cell_type": "markdown",
   "metadata": {},
   "source": [
    "- A bit of a rightward skew, which I find a bit surprising. Whitman is often known to repeat a word or phrase within a given poem, so I would expect the lower values to be more populated, although the median and mean are fairly low for a poet."
   ]
  },
  {
   "cell_type": "code",
   "execution_count": null,
   "metadata": {},
   "outputs": [],
   "source": []
  },
  {
   "cell_type": "code",
   "execution_count": 58,
   "metadata": {},
   "outputs": [
    {
     "ename": "SyntaxError",
     "evalue": "invalid syntax (<ipython-input-58-9290159fd349>, line 1)",
     "output_type": "error",
     "traceback": [
      "\u001b[0;36m  File \u001b[0;32m\"<ipython-input-58-9290159fd349>\"\u001b[0;36m, line \u001b[0;32m1\u001b[0m\n\u001b[0;31m    please break my code\u001b[0m\n\u001b[0m               ^\u001b[0m\n\u001b[0;31mSyntaxError\u001b[0m\u001b[0;31m:\u001b[0m invalid syntax\n"
     ]
    }
   ],
   "source": [
    "please break my code"
   ]
  },
  {
   "cell_type": "markdown",
   "metadata": {},
   "source": [
    "# Graveyard and whatever the pre-birth equivalent of a graveyard is (because some of this code will eventually be used"
   ]
  },
  {
   "cell_type": "code",
   "execution_count": null,
   "metadata": {},
   "outputs": [],
   "source": []
  },
  {
   "cell_type": "markdown",
   "metadata": {},
   "source": [
    "- Since some untitled poems use the first line of the poem as the title, and since I'll be using titles in my prediction model, I'll add the title to the poem now.\n",
    "    - Some titles, however, are simply \"Untitled\", which I do not want to include."
   ]
  },
  {
   "cell_type": "markdown",
   "metadata": {},
   "source": [
    "- They are fairly positively correlated, but there is no definite need to drop either variable.\n",
    "    \n",
    "### End rhymes, categorical\n",
    "\n",
    "[[go back to the top](#Predicting-Poetic-Movements)]\n",
    "\n",
    "- **NOTE**: Feel free to play around with the metric; first, I tried separating based on 0 end rhymes vs any number of end rhymes.\n",
    "    - Increasing the 0 value yielded more interesting results (and also weeds out some incidental end rhymes, including those of repeated words).\n",
    "    - Another tactic is setting a minimum ratio of end rhymes to lines, as seen below."
   ]
  },
  {
   "cell_type": "code",
   "execution_count": null,
   "metadata": {},
   "outputs": [],
   "source": [
    "# create a yes or no column for whether or not end rhymes occur at least 10% of the time\n",
    "df['end_rhyme'] = np.where(df.end_rhyme_ratio >= 0.25, 1, 0)"
   ]
  },
  {
   "cell_type": "code",
   "execution_count": null,
   "metadata": {},
   "outputs": [],
   "source": [
    "# proportion as a whole\n",
    "df.end_rhyme.value_counts(normalize=True)"
   ]
  },
  {
   "cell_type": "code",
   "execution_count": null,
   "metadata": {},
   "outputs": [],
   "source": [
    "# proportion across movements\n",
    "df.groupby('movement').end_rhyme.value_counts(normalize=True)"
   ]
  },
  {
   "cell_type": "markdown",
   "metadata": {},
   "source": [
    "### End rhymes -- Stacked bar chart\n",
    "\n",
    "[[go back to the top](#Predicting-Poetic-Movements)]"
   ]
  },
  {
   "cell_type": "code",
   "execution_count": null,
   "metadata": {},
   "outputs": [],
   "source": [
    "# proportion of end rhymes across movements\n",
    "movement_rhyme_dist = df.groupby('movement').end_rhyme.\\\n",
    "    value_counts(normalize=True).unstack().sort_values(0)\n",
    "\n",
    "# plot the graph\n",
    "movement_rhyme_dist.plot(kind='bar', stacked=True, \n",
    "    figsize=(9,7), color=['darkorange', 'royalblue'], \n",
    "    alpha=.70, fontsize=14)\n",
    "\n",
    "# prettify the graph\n",
    "plt.title('Usage of End Rhymes Across\\nPoetic Movements', \n",
    "          fontsize=25, pad=15)\n",
    "plt.suptitle('')\n",
    "plt.xlabel('')\n",
    "plt.ylabel('Proportion of Rhyming Poems', \n",
    "           fontsize=22, labelpad=10)\n",
    "\n",
    "# obtain x-tick-labels and their locations\n",
    "locs, labels = plt.xticks()\n",
    "# prettify the labels\n",
    "labels_pretty = [label.get_text().replace('_', '\\n').title() \\\n",
    "                 for label in list(labels)]\n",
    "labels_pretty[0] = 'Pre-1900'\n",
    "# plot the labels and and legends\n",
    "plt.xticks(ticks=locs, labels=labels_pretty, \n",
    "           rotation=60, fontsize=20)\n",
    "plt.yticks(fontsize=20);\n",
    "plt.legend(['No End Rhymes', 'End Rhymes'], facecolor='white', \n",
    "           framealpha=1, bbox_to_anchor=(1.01, 1.01), \n",
    "           fontsize=18)\n",
    "\n",
    "# prepare to save and display\n",
    "plt.tight_layout()\n",
    "# # uncomment to save\n",
    "# plt.savefig('charts/end_rhymes_stackedbar.png', \n",
    "#             bbox_inches='tight', transparent=True)\n",
    "\n",
    "plt.show()"
   ]
  },
  {
   "cell_type": "code",
   "execution_count": null,
   "metadata": {},
   "outputs": [],
   "source": [
    "# numerical representation\n",
    "movement_rhyme_dist"
   ]
  },
  {
   "cell_type": "markdown",
   "metadata": {},
   "source": [
    "- Avant-Garde poetry is indeed the richest, while Pre-1900 seems to be the most repetitious, though fairly similar to Metropolitan and Modern.\n",
    "- Pre-1900 also has the most variance, across all quartiles.\n",
    "\n",
    "# Step 4: Natural language processing\n",
    "\n",
    "[[go back to the top](#Predicting-Poetic-Movements)]\n",
    "\n",
    "- Process the text and look at the most frequent words.\n",
    "- First, prepare a list of stop words. This will include:\n",
    "    - NLTK stop words.\n",
    "    - Older English equivalents to those stop words.\n",
    "    - Poet names (because some may have gotten through in the scraping process), minus any names that may also be used as words.\n",
    "    - HTML tags that may have gotten through the scraping process.\n",
    "    - Words of questionable value discovered in the first round of EDA."
   ]
  },
  {
   "cell_type": "code",
   "execution_count": null,
   "metadata": {},
   "outputs": [],
   "source": [
    "# list of names that may also be used as words\n",
    "name_keeps = [\n",
    "    'basil', 'bell', 'bill', 'bottoms', 'brooks', 'brown', \n",
    "    'burns', 'butler', 'christian', 'clerk', 'crane', \n",
    "    'elephant', 'frank', 'field', 'gallup', 'good', 'guest', \n",
    "    'hands', 'hood', 'hooks', 'hunt', 'hunter', 'knight', \n",
    "    'lamb', 'lazarus', 'love', 'mare', 'more', 'mark', \n",
    "    'moody', 'peacock', 'pound', 'ransom', 'riding', 'savage', \n",
    "    'sir', 'white']\n",
    "\n",
    "# optional\n",
    "# ['bob', 'dick', 'lee', 'maya', 'sappho', 'sexton', \n",
    "#  'smith', 'spender', 'twain', 'walker']"
   ]
  },
  {
   "cell_type": "code",
   "execution_count": null,
   "metadata": {},
   "outputs": [],
   "source": [
    "# instantiate empty set\n",
    "stop_names = set()\n",
    "\n",
    "# add first and last names to stop_names\n",
    "for poet in df.poet:\n",
    "    name_split = poet.lower().split()\n",
    "    for name in name_split:\n",
    "        if name not in name_keeps:\n",
    "            stop_names.add(name)\n",
    "            \n",
    "# convert to list\n",
    "stop_names = list(stop_names)\n",
    "\n",
    "# take a look at a sample\n",
    "stop_names[:10]"
   ]
  },
  {
   "cell_type": "code",
   "execution_count": null,
   "metadata": {},
   "outputs": [],
   "source": [
    "# start with NLTK stop words\n",
    "stop_words = stopwords.words('english')\n",
    "\n",
    "# add any html tags that may have snuck through\n",
    "stop_words.extend(['em', 'div', 'href', 'p'])\n",
    "\n",
    "# add old-timey stop words\n",
    "stop_words.extend(old_timers())\n",
    "\n",
    "# words found in the initial round of EDA that \n",
    "# don't provide much meaning\n",
    "stop_words.extend(['one', 'like', 'would', 'upon', \n",
    "                   'yet', 'may', 'could'])\n",
    "\n",
    "# add the names from above\n",
    "stop_words.extend(stop_names)"
   ]
  },
  {
   "cell_type": "markdown",
   "metadata": {},
   "source": [
    "- Create a clean string column."
   ]
  },
  {
   "cell_type": "code",
   "execution_count": null,
   "metadata": {},
   "outputs": [],
   "source": [
    "%%time\n",
    "\n",
    "# create column using custom text processing function\n",
    "# NOTE: includes lemmatization\n",
    "df['string_cleaned'] = df.string_titled.apply(\n",
    "    lambda x: clean_text(x, stop_words))"
   ]
  },
  {
   "cell_type": "code",
   "execution_count": null,
   "metadata": {},
   "outputs": [],
   "source": [
    "# check out an example\n",
    "print(f'BEFORE:\\n{df.loc[0, \"string_titled\"]}')\n",
    "print('\\n' + '-' * 75 + '\\n')\n",
    "print(f'AFTER:\\n{df.loc[0, \"string_cleaned\"]}')"
   ]
  },
  {
   "cell_type": "markdown",
   "metadata": {},
   "source": [
    "### Total word counts and vocabulary \n",
    "\n",
    "[[go back to the top](#Predicting-Poetic-Movements)]\n",
    "\n",
    "#### Before processing"
   ]
  },
  {
   "cell_type": "code",
   "execution_count": null,
   "metadata": {},
   "outputs": [],
   "source": [
    "# join all pre-processed poems into one string\n",
    "big_string_pre = ' '.join(df.string_titled)\n",
    "big_string_pre[:1000]"
   ]
  },
  {
   "cell_type": "code",
   "execution_count": null,
   "metadata": {},
   "outputs": [],
   "source": [
    "# split string into all words in corpus\n",
    "all_words = big_string_pre.split()\n",
    "\n",
    "# total words\n",
    "len(all_words)"
   ]
  },
  {
   "cell_type": "code",
   "execution_count": null,
   "metadata": {},
   "outputs": [],
   "source": [
    "# unique words (vocabulary)\n",
    "len(list(set(all_words)))"
   ]
  },
  {
   "cell_type": "markdown",
   "metadata": {},
   "source": [
    "#### After lemmatizing and removing stop words"
   ]
  },
  {
   "cell_type": "code",
   "execution_count": null,
   "metadata": {},
   "outputs": [],
   "source": [
    "# join all processed poems into one string\n",
    "big_string_proc = ' '.join(df.string_cleaned)\n",
    "big_string_proc[:1000]"
   ]
  },
  {
   "cell_type": "code",
   "execution_count": null,
   "metadata": {},
   "outputs": [],
   "source": [
    "# split string into processed words in corpus\n",
    "all_words_proc = big_string_proc.split()\n",
    "\n",
    "# total processed words\n",
    "len(all_words_proc)"
   ]
  },
  {
   "cell_type": "code",
   "execution_count": null,
   "metadata": {},
   "outputs": [],
   "source": [
    "# unique processed words (vocabulary)\n",
    "len(list(set(all_words_proc)))"
   ]
  },
  {
   "cell_type": "markdown",
   "metadata": {},
   "source": [
    "## Most frequent words\n",
    "\n",
    "[[go back to the top](#Predicting-Poetic-Movements)]\n",
    "\n",
    "- Use processed text."
   ]
  },
  {
   "cell_type": "code",
   "execution_count": null,
   "metadata": {},
   "outputs": [],
   "source": [
    "# create dictionary of word counts\n",
    "fdist = FreqDist(all_words_proc)\n",
    "\n",
    "# convert word counts to dataframe\n",
    "fdist_df = pd.DataFrame(data=fdist.values(), \n",
    "                        index=fdist.keys(), \n",
    "                        columns=['word_count'])\n",
    "fdist_df = fdist_df.sort_values('word_count', \n",
    "                                ascending=False)"
   ]
  },
  {
   "cell_type": "code",
   "execution_count": null,
   "metadata": {},
   "outputs": [],
   "source": [
    "# look at the top 25 words in the processed corpus\n",
    "top_25 = fdist_df.iloc[:25,:]\n",
    "top_25"
   ]
  },
  {
   "cell_type": "markdown",
   "metadata": {},
   "source": [
    "### Most frequent words overall\n",
    "\n",
    "[[go back to the top](#Predicting-Poetic-Movements)]"
   ]
  },
  {
   "cell_type": "code",
   "execution_count": null,
   "metadata": {},
   "outputs": [],
   "source": [
    "# create labels and prettify the plot\n",
    "plt.figure(figsize=(30,10))\n",
    "plt.title('Top 25 Words', fontsize=36, pad=15)\n",
    "plt.ylabel('Word Count', fontsize=30, labelpad=15)\n",
    "plt.xticks(rotation=55, fontsize=28)\n",
    "plt.yticks(fontsize=28)\n",
    "plt.ylim(bottom=1000, top=3500)\n",
    "\n",
    "# plot top 25 words\n",
    "plt.bar(top_25.index, top_25.word_count, color='purple')\n",
    "\n",
    "# prepare to save and display\n",
    "plt.tight_layout()\n",
    "# # uncomment to save\n",
    "# plt.savefig('charts/top25_words_bar.png', \n",
    "#             bbox_inches='tight', transparent=True)\n",
    "\n",
    "plt.show()"
   ]
  },
  {
   "cell_type": "markdown",
   "metadata": {},
   "source": [
    "### Most frequent words by movement\n",
    "\n",
    "[[go back to the top](#Predicting-Poetic-Movements)]"
   ]
  },
  {
   "cell_type": "code",
   "execution_count": null,
   "metadata": {},
   "outputs": [],
   "source": [
    "plt.figure(figsize=(50,25))\n",
    "\n",
    "movements = list(df.movement.unique())\n",
    "\n",
    "for i, movement in enumerate(movements):\n",
    "    # create a series of processed poem strings\n",
    "    movement_string_series = df[df.movement == movement].\\\n",
    "        string_cleaned\n",
    "    \n",
    "    # convert the series to one big string\n",
    "    movement_big_string = ' '.join(movement_string_series)\n",
    "    \n",
    "    # split the big string so I get all words in the movement\n",
    "    movement_words = movement_big_string.split()\n",
    "    \n",
    "    # create dictionary of word counts\n",
    "    fdist = FreqDist(movement_words)\n",
    "    \n",
    "    # convert word counts to dataframe\n",
    "    fdist_df = pd.DataFrame(data=fdist.values(), \n",
    "                            index=fdist.keys(), \n",
    "                            columns=['word_count'])\n",
    "    fdist_df = fdist_df.sort_values('word_count', \n",
    "                                    ascending=False)\n",
    "    \n",
    "    # look at the top 25 words for the movement\n",
    "    top_25 = fdist_df.iloc[:25,:]\n",
    "\n",
    "    # set dimension of plots\n",
    "    nrows = 2\n",
    "    ncols = 2\n",
    "\n",
    "    # list of colors\n",
    "    colors = ['steelblue', 'olivedrab', 'purple', 'darkorange']\n",
    "    \n",
    "    # plot\n",
    "    plt.subplot(nrows, ncols, i+1)\n",
    "    plt.title(f'{movement.title().replace(\"_\", \"-\")} -- Top 25 Words', \n",
    "              fontsize=30, pad=15, x=0.5, y=0.9)\n",
    "    plt.ylabel('Word Count', fontsize=28, labelpad=15)\n",
    "    plt.xticks(rotation=55, fontsize=25)\n",
    "    plt.yticks(fontsize=25)\n",
    "    plt.bar(top_25.index, top_25.word_count, color=colors[i])\n",
    "              \n",
    "# # uncomment to save\n",
    "# plt.savefig('charts/top25_words_movement_bar.png', \n",
    "#             bbox_inches='tight', transparent=True)"
   ]
  },
  {
   "cell_type": "markdown",
   "metadata": {},
   "source": [
    "### Word cloud overall\n",
    "\n",
    "[[go back to the top](#Predicting-Poetic-Movements)]"
   ]
  },
  {
   "cell_type": "code",
   "execution_count": null,
   "metadata": {},
   "outputs": [],
   "source": [
    "# create a dictionary for easy word cloud creation\n",
    "word_dict = dict(Counter(all_words_proc))\n",
    "\n",
    "# create word cloud\n",
    "wordcloud = WordCloud(colormap='Spectral', \n",
    "                      width=1200, \n",
    "                      height=600).\\\n",
    "    generate_from_frequencies(word_dict)\n",
    "\n",
    "# plot word cloud\n",
    "plt.figure(figsize=(20,10), facecolor='k')\n",
    "plt.imshow(wordcloud, interpolation='bilinear')\n",
    "plt.axis(\"off\")\n",
    "plt.tight_layout(pad=0)\n",
    "\n",
    "# # uncomment to save\n",
    "# plt.savefig('charts/word_cloud_overall.png', \n",
    "#             bbox_inches='tight', transparent=True)"
   ]
  },
  {
   "cell_type": "markdown",
   "metadata": {},
   "source": [
    "### Word clouds by movement\n",
    "\n",
    "[[go back to the top](#Predicting-Poetic-Movements)]"
   ]
  },
  {
   "cell_type": "code",
   "execution_count": null,
   "metadata": {},
   "outputs": [],
   "source": [
    "plt.figure(figsize=(50,25))\n",
    "\n",
    "movements = list(df.movement.unique())\n",
    "\n",
    "for i, movement in enumerate(movements):\n",
    "    # create a series of processed poem strings\n",
    "    movement_string_series = df[df.movement == movement].\\\n",
    "        string_cleaned\n",
    "    \n",
    "    # convert the series to one big string\n",
    "    movement_big_string = ' '.join(movement_string_series)\n",
    "    \n",
    "    # split the big string so I get all words in the movement\n",
    "    movement_words = movement_big_string.split()\n",
    "    \n",
    "    # create a dictionary for easy word cloud creation\n",
    "    movement_word_dict = dict(Counter(movement_words))\n",
    "\n",
    "    # create word cloud\n",
    "    movement_wordcloud = WordCloud(colormap='Spectral', \n",
    "                                   width=1200, \n",
    "                                   height=600).\\\n",
    "        generate_from_frequencies(movement_word_dict)\n",
    "\n",
    "    nrows = 2\n",
    "    ncols = 2\n",
    "\n",
    "    plt.subplot(nrows, ncols, i+1)\n",
    "    plt.plot()\n",
    "    plt.imshow(movement_wordcloud, interpolation='bilinear')\n",
    "    plt.axis('off')\n",
    "    plt.title(f'{movement.title().replace(\"_\", \"-\")}', \n",
    "              fontsize=50, \n",
    "              pad=25)\n",
    "              \n",
    "# # uncomment to save\n",
    "# plt.savefig('charts/word_cloud_movement.png', \n",
    "#             bbox_inches='tight', transparent=True)"
   ]
  },
  {
   "cell_type": "markdown",
   "metadata": {},
   "source": [
    "# Preliminary conclusions\n",
    "\n",
    "[[go back to the top](#Predicting-Poetic-Movements)]\n",
    "\n",
    "- Pre-1900 poetry is easily recognized.\n",
    "    - High number of end rhymes, most words per line, simpler words (fewer syllables per word), most positive, and most repetitious.\n",
    "- Avant-garde is more or less the opposite.\n",
    "    - Practically no end rhymes, fewest words per line, more complex words (more syllables per word), and richest use of language.\n",
    "- Metropolitan and Modern poetries are often somewhere in between.\n",
    "- Poetry is rarely neutral (and generally positive) and fairly equally subjective/objective.\n",
    "- Frequent vocabulary includes visual and temporal language."
   ]
  },
  {
   "cell_type": "markdown",
   "metadata": {},
   "source": [
    "## 💾 Save/Load DataFrame\n",
    "\n",
    "[[go back to the top](#Predicting-Poetic-Movements)]"
   ]
  },
  {
   "cell_type": "code",
   "execution_count": null,
   "metadata": {},
   "outputs": [],
   "source": [
    "# # uncomment to save\n",
    "# with gzip.open('data/poetry_movements_df.pkl', 'wb') as goodbye:\n",
    "#     pickle.dump(df, goodbye, protocol=pickle.HIGHEST_PROTOCOL)\n",
    "    \n",
    "# # uncomment to load\n",
    "# with gzip.open('data/poetry_movements_df.pkl', 'rb') as hello:\n",
    "#     df = pickle.load(hello)"
   ]
  },
  {
   "cell_type": "markdown",
   "metadata": {},
   "source": [
    "## Next notebook: [Modeling](04_modeling.ipynb)\n",
    "\n",
    "[[go back to the top](#Predicting-Poetic-Movements)]\n",
    "\n",
    "- The next notebook includes classification modeling, a section with reproducible code for this project (including the work within this notebook), conclusions, and acknowledgements."
   ]
  },
  {
   "cell_type": "markdown",
   "metadata": {},
   "source": [
    "## Table of contents\n",
    "\n",
    "1. [Introduction](#Introduction)\n",
    "2. [The problem domain](#The-problem-domain)\n",
    "3. [Required libraries](#Required-libraries)\n",
    "4. [Step 1: Answering some initial questions](#Step-1:-Answering-some-initial-questions)\n",
    "5. [Step 2: Preparing the data](#Step-2:-Preparing-the-data)\n",
    "\n",
    "    - [Create movements](#Create-movements)\n",
    "    \n",
    "    \n",
    "6. [Step 3: Feature engineering and exploratory data analysis](#Step-3:-Feature-engineering-and-exploratory-data-analysis)\n",
    "\n",
    "    - [Number of lines](#Number-of-lines)\n",
    "        - [Chart](#Number-of-lines----Boxplot)\n",
    "    - [Number of words](#Number-of-words)\n",
    "        - [Chart](#Number-of-words----Boxplot)\n",
    "    - [Average line length](#Average-line-length)\n",
    "        - [Chart](#Average-line-length----Boxplot)\n",
    "    - [Sentiment, polarity](#Sentiment,-polarity)\n",
    "        - [Chart 1](#Polarity-score----Boxplot) | [Chart 2](#Polarity----Stacked-bar-chart)\n",
    "    - [Sentiment, subjectivity](#Sentiment,-subjectivity)\n",
    "        - [Chart](#Subjectivity-score----Boxplot)\n",
    "    - [Number of end rhymes](#Number-of-end-rhymes)\n",
    "        - [Chart](#Number-of-end-rhymes----Boxplot)\n",
    "    - [Ratio of end rhymes](#Ratio-of-end-rhymes)\n",
    "        - [Chart](#Ratio-of-end-rhymes----Boxplot)\n",
    "    - [End rhymes, categorical](#End-rhymes,-categorical)\n",
    "        - [Chart](#End-rhymes----Stacked-bar-chart)\n",
    "    - [Syllables per word](#Syllables-per-word)\n",
    "        - [Chart](#Syllables-per-word----Boxplot)\n",
    "    - [Lexical richness](#Lexical-richness)\n",
    "        - [Chart](#Lexical-richness----Boxplot)\n",
    "    \n",
    "    \n",
    "7. [Step 4: Natural language processing](#Step-4:-Natural-language-processing)\n",
    "\n",
    "    - [Total word counts and vocabulary](#Total-word-counts-and-vocabulary)\n",
    "    - [Most frequent words](#Most-frequent-words)\n",
    "        - [Chart 1](#Most-frequent-words-overall) | [Chart 2](#Most-frequent-words-by-genre) | [Chart3](#Word-cloud-overall) | [Chart 4](#Word-clouds-by-genre)\n",
    "    \n",
    "\n",
    "8. [Preliminary conclusions](#Preliminary-conclusions)\n",
    "9. [Save/Load DataFrame](#💾-Save/Load-DataFrame)\n",
    "10. [Next notebook: Modeling](#Next-notebook:-Modeling)\n",
    "\n",
    "## Introduction\n",
    "\n",
    "[[go back to the top](#Predicting-Poetic-Movements)]\n",
    "\n",
    "After [scraping](01_webscraping.ipynb) PoetryFoundation.org for genre-labeled poems and [cleaning](02_data_cleaning.ipynb), I will use natural language processing (NLP) techniques to analyze poetic structure across poetic genres and movements. \n",
    "\n",
    "Through text processing, exploratory data analysis, and feature engineering, I will look for insights into how poetic structure, word usage, lexical richness, and sentiment relate to the movement of a poem.\n",
    "\n",
    "I will then create predictive models that classify poems into one of four umbrella movements: *Avant-Garde*, *Metropolitan*, *Modern*, or *Pre-1900*. This will help provide further insight and confirm my findings during EDA. *(To skip to the modeling notebook, click [here](04_modeling.ipynb))*.\n",
    "\n",
    "The ultimate goal is to create a recommendation system that compares poem similarities and recommends individual poems to users. *(To skip to the recommendation system notebook, click [here](05_recommendation_system.ipynb))*.\n",
    "\n",
    "## The problem domain\n",
    "\n",
    "[[go back to the top](#Predicting-Poetic-Movements)]\n",
    "\n",
    "Within written media, poetry is often regarded as enigmatic, frivolous, or too niche. As a result, poems (even by established poets) are often overlooked by larger publishers and literature-focused websites alike. (The anti-capitalist nature of poetry may play a role here as well). There are services for rating and recommending entire books (including poetry collections, to be fair) like GoodReads, Amazon, or Bookish, but to my knowledge, there aren't any sites or services that recommend poems on an individual level.\n",
    "\n",
    "With this in mind, I wondered how poem recommendation may even work. One often finds a genre or two that they like and searches that out, but there must be elements of poetry that transcend genre. If there are, machine learning seems like a perfect tool to use to find them. As a poet and writer, I am interested in creating something that will allow me to discover genres and movements that I may have previously ignored. I can do this by using poems I already know and enjoy to find similar poems from genres I may not know as well.\n",
    "\n",
    "## Required libraries\n",
    "\n",
    "[[go back to the top](#Predicting-Poetic-Movements)]\n",
    "\n",
    "This notebook uses several Python packages that come standard with the Anaconda Python distribution. Libraries within this category that I'll be using are:\n",
    "\n",
    "- **numpy**: Provides a fast numerical array structure and helper functions.\n",
    "- **pandas**: Provides a DataFrame structure to store data in memory and work with it easily and efficiently.\n",
    "- **matplotlib**: Basic plotting library in Python; most other Python plotting libraries are built on top of it.\n",
    "- **seaborn**: Advanced statistical plotting library.\n",
    "- **scikit-learn**: The essential Machine Learning package in Python.\n",
    "- **scipy**: The essential statistical analysis package in Python.\n",
    "- **collections**: A package with specialized and higher-performance data structures.\n",
    "- **warnings**: A helpful package to ignore warnings that unnecessarily clutter the notebook.\n",
    "- **watermark**: A Jupyter Notebook extension for printing timestamps, version numbers, and hardware information.\n",
    "\n",
    "This notebook also uses some additional packages that you may have to install:\n",
    "\n",
    "- **nltk**: The essential natural language processing package.\n",
    "- **textblob**: A supplementary package to enhance the nltk package.\n",
    "- **vaderSentiment**: A sentiment analysis tool based on human-compiled data.\n",
    "- **wordcloud**: A library focused on plotting word frequencies.\n",
    "- **pickle**: Package to save a file as a byte stream.\n",
    "- **gzip**: Package to compress/unpack files.\n",
    "\n",
    "Finally, included within the repository, and necessary to run this workbook, is:\n",
    "- **[functions](functions.py)**: Custom functions that I built for this project.\n",
    "\n",
    "Required within the functions file, are:\n",
    "- **itertools**: An package aiding in advanced iteration techniques.\n",
    "- **regex**: The essential string matching and capturing package.\n",
    "- **string**: A package with string-specific operations and characters.\n",
    "- **pronouncing**: A package utilizing the CMU Pronouncing Dictionary that can break language down by syllable, rhyme, and meter.\n",
    "\n",
    "Run the cell below to import all of the necessary packages."
   ]
  },
  {
   "cell_type": "code",
   "execution_count": null,
   "metadata": {},
   "outputs": [],
   "source": []
  }
 ],
 "metadata": {
  "kernelspec": {
   "display_name": "Python [conda env:learn-env] *",
   "language": "python",
   "name": "conda-env-learn-env-py"
  },
  "language_info": {
   "codemirror_mode": {
    "name": "ipython",
    "version": 3
   },
   "file_extension": ".py",
   "mimetype": "text/x-python",
   "name": "python",
   "nbconvert_exporter": "python",
   "pygments_lexer": "ipython3",
   "version": "3.6.9"
  }
 },
 "nbformat": 4,
 "nbformat_minor": 2
}
