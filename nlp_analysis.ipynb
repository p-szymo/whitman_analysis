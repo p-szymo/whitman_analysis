{
 "cells": [
  {
   "cell_type": "markdown",
   "metadata": {},
   "source": [
    "# <ins>*Leaves of Grass* Analysis</ins>\n",
    "\n",
    "# Natural Language Processing and Data Exploration\n",
    "\n",
    "- In this notebook, I engineer features based on poetic form and structure, perform natural language processing techniques, and explore aspects of what makes Whitman Whitman.\n",
    "- I also create charts and word clouds based on this exploration."
   ]
  },
  {
   "cell_type": "code",
   "execution_count": 1,
   "metadata": {},
   "outputs": [],
   "source": [
    "# custom functions for this project\n",
    "from functions import *\n",
    "\n",
    "# dataframe packages\n",
    "import pandas as pd\n",
    "import numpy as np\n",
    "\n",
    "# graphing packages\n",
    "import matplotlib.pyplot as plt\n",
    "import seaborn as sns; sns.set_style('ticks')\n",
    "from wordcloud import WordCloud\n",
    "\n",
    "# statistics packages\n",
    "import scipy.stats as stats\n",
    "\n",
    "# text processing\n",
    "from nltk.corpus import stopwords\n",
    "from nltk.probability import FreqDist \n",
    "from textblob import TextBlob\n",
    "from vaderSentiment.vaderSentiment import SentimentIntensityAnalyzer\n",
    "\n",
    "# miscellany\n",
    "from collections import Counter\n",
    "import time\n",
    "import gzip\n",
    "import pickle\n",
    "\n",
    "# reload functions/libraries when edited\n",
    "%load_ext autoreload\n",
    "%autoreload 2\n",
    "\n",
    "# ignore warnings\n",
    "import warnings\n",
    "warnings.filterwarnings('ignore')\n",
    "\n",
    "# increase column width of dataframe\n",
    "pd.set_option('max_colwidth', 150)"
   ]
  },
  {
   "cell_type": "markdown",
   "metadata": {},
   "source": [
    "# Preparing the data\n",
    "\n",
    "[[go back to the top](#Leaves-of-Grass-Analysis)]\n",
    "\n",
    "- Import data.\n",
    "- Take a look.\n",
    "\n",
    "#### 💾 Load DataFrame"
   ]
  },
  {
   "cell_type": "code",
   "execution_count": 2,
   "metadata": {},
   "outputs": [
    {
     "data": {
      "text/plain": [
       "(383, 2)"
      ]
     },
     "execution_count": 2,
     "metadata": {},
     "output_type": "execute_result"
    }
   ],
   "source": [
    "with gzip.open('data/whitman_corpus.pkl', 'rb') as hello:\n",
    "    df = pickle.load(hello)\n",
    "    \n",
    "df.shape"
   ]
  },
  {
   "cell_type": "code",
   "execution_count": 3,
   "metadata": {},
   "outputs": [
    {
     "data": {
      "text/html": [
       "<div>\n",
       "<style scoped>\n",
       "    .dataframe tbody tr th:only-of-type {\n",
       "        vertical-align: middle;\n",
       "    }\n",
       "\n",
       "    .dataframe tbody tr th {\n",
       "        vertical-align: top;\n",
       "    }\n",
       "\n",
       "    .dataframe thead th {\n",
       "        text-align: right;\n",
       "    }\n",
       "</style>\n",
       "<table border=\"1\" class=\"dataframe\">\n",
       "  <thead>\n",
       "    <tr style=\"text-align: right;\">\n",
       "      <th></th>\n",
       "      <th>title</th>\n",
       "      <th>poem_string</th>\n",
       "    </tr>\n",
       "  </thead>\n",
       "  <tbody>\n",
       "    <tr>\n",
       "      <th>0</th>\n",
       "      <td>Untitled</td>\n",
       "      <td>Come, said my soul,\\r\\n     Such verses for my Body let us write, (for we are one,)\\r\\n     That should I after return,\\r\\n     Or, long, long hen...</td>\n",
       "    </tr>\n",
       "    <tr>\n",
       "      <th>1</th>\n",
       "      <td>One’s-Self I Sing</td>\n",
       "      <td>One’s-self I sing, a simple separate person,\\r\\n  Yet utter the word Democratic, the word En-Masse.\\r\\n\\r\\n  Of physiology from top to toe I sing,...</td>\n",
       "    </tr>\n",
       "    <tr>\n",
       "      <th>2</th>\n",
       "      <td>As I Ponder’d in Silence</td>\n",
       "      <td>As I ponder’d in silence,\\r\\n  Returning upon my poems, considering, lingering long,\\r\\n  A Phantom arose before me with distrustful aspect,\\r\\n  ...</td>\n",
       "    </tr>\n",
       "    <tr>\n",
       "      <th>3</th>\n",
       "      <td>In Cabin’d Ships at Sea</td>\n",
       "      <td>In cabin’d ships at sea,\\r\\n  The boundless blue on every side expanding,\\r\\n  With whistling winds and music of the waves, the large imperious wa...</td>\n",
       "    </tr>\n",
       "    <tr>\n",
       "      <th>4</th>\n",
       "      <td>To Foreign Lands</td>\n",
       "      <td>I heard that you ask’d for something to prove this puzzle the New World,\\r\\n  And to define America, her athletic Democracy,\\r\\n  Therefore I send...</td>\n",
       "    </tr>\n",
       "  </tbody>\n",
       "</table>\n",
       "</div>"
      ],
      "text/plain": [
       "                      title  \\\n",
       "0                  Untitled   \n",
       "1         One’s-Self I Sing   \n",
       "2  As I Ponder’d in Silence   \n",
       "3   In Cabin’d Ships at Sea   \n",
       "4          To Foreign Lands   \n",
       "\n",
       "                                                                                                                                             poem_string  \n",
       "0  Come, said my soul,\\r\\n     Such verses for my Body let us write, (for we are one,)\\r\\n     That should I after return,\\r\\n     Or, long, long hen...  \n",
       "1  One’s-self I sing, a simple separate person,\\r\\n  Yet utter the word Democratic, the word En-Masse.\\r\\n\\r\\n  Of physiology from top to toe I sing,...  \n",
       "2  As I ponder’d in silence,\\r\\n  Returning upon my poems, considering, lingering long,\\r\\n  A Phantom arose before me with distrustful aspect,\\r\\n  ...  \n",
       "3  In cabin’d ships at sea,\\r\\n  The boundless blue on every side expanding,\\r\\n  With whistling winds and music of the waves, the large imperious wa...  \n",
       "4  I heard that you ask’d for something to prove this puzzle the New World,\\r\\n  And to define America, her athletic Democracy,\\r\\n  Therefore I send...  "
      ]
     },
     "execution_count": 3,
     "metadata": {},
     "output_type": "execute_result"
    }
   ],
   "source": [
    "df.head()"
   ]
  },
  {
   "cell_type": "code",
   "execution_count": 4,
   "metadata": {},
   "outputs": [],
   "source": [
    "# convert strings to list\n",
    "df['poem_lines'] = df.poem_string.apply(line_creator)"
   ]
  },
  {
   "cell_type": "code",
   "execution_count": 5,
   "metadata": {},
   "outputs": [
    {
     "data": {
      "text/html": [
       "<div>\n",
       "<style scoped>\n",
       "    .dataframe tbody tr th:only-of-type {\n",
       "        vertical-align: middle;\n",
       "    }\n",
       "\n",
       "    .dataframe tbody tr th {\n",
       "        vertical-align: top;\n",
       "    }\n",
       "\n",
       "    .dataframe thead th {\n",
       "        text-align: right;\n",
       "    }\n",
       "</style>\n",
       "<table border=\"1\" class=\"dataframe\">\n",
       "  <thead>\n",
       "    <tr style=\"text-align: right;\">\n",
       "      <th></th>\n",
       "      <th>title</th>\n",
       "      <th>poem_string</th>\n",
       "      <th>poem_lines</th>\n",
       "    </tr>\n",
       "  </thead>\n",
       "  <tbody>\n",
       "    <tr>\n",
       "      <th>0</th>\n",
       "      <td>Untitled</td>\n",
       "      <td>Come, said my soul,\\r\\n     Such verses for my Body let us write, (for we are one,)\\r\\n     That should I after return,\\r\\n     Or, long, long hen...</td>\n",
       "      <td>[Come, said my soul,, Such verses for my Body let us write, (for we are one,), That should I after return,, Or, long, long hence, in other spheres...</td>\n",
       "    </tr>\n",
       "    <tr>\n",
       "      <th>1</th>\n",
       "      <td>One’s-Self I Sing</td>\n",
       "      <td>One’s-self I sing, a simple separate person,\\r\\n  Yet utter the word Democratic, the word En-Masse.\\r\\n\\r\\n  Of physiology from top to toe I sing,...</td>\n",
       "      <td>[One’s-self I sing, a simple separate person,, Yet utter the word Democratic, the word En-Masse., Of physiology from top to toe I sing,, Not physi...</td>\n",
       "    </tr>\n",
       "    <tr>\n",
       "      <th>2</th>\n",
       "      <td>As I Ponder’d in Silence</td>\n",
       "      <td>As I ponder’d in silence,\\r\\n  Returning upon my poems, considering, lingering long,\\r\\n  A Phantom arose before me with distrustful aspect,\\r\\n  ...</td>\n",
       "      <td>[As I ponder’d in silence,, Returning upon my poems, considering, lingering long,, A Phantom arose before me with distrustful aspect,, Terrible in...</td>\n",
       "    </tr>\n",
       "    <tr>\n",
       "      <th>3</th>\n",
       "      <td>In Cabin’d Ships at Sea</td>\n",
       "      <td>In cabin’d ships at sea,\\r\\n  The boundless blue on every side expanding,\\r\\n  With whistling winds and music of the waves, the large imperious wa...</td>\n",
       "      <td>[In cabin’d ships at sea,, The boundless blue on every side expanding,, With whistling winds and music of the waves, the large imperious waves,, O...</td>\n",
       "    </tr>\n",
       "    <tr>\n",
       "      <th>4</th>\n",
       "      <td>To Foreign Lands</td>\n",
       "      <td>I heard that you ask’d for something to prove this puzzle the New World,\\r\\n  And to define America, her athletic Democracy,\\r\\n  Therefore I send...</td>\n",
       "      <td>[I heard that you ask’d for something to prove this puzzle the New World,, And to define America, her athletic Democracy,, Therefore I send you my...</td>\n",
       "    </tr>\n",
       "  </tbody>\n",
       "</table>\n",
       "</div>"
      ],
      "text/plain": [
       "                      title  \\\n",
       "0                  Untitled   \n",
       "1         One’s-Self I Sing   \n",
       "2  As I Ponder’d in Silence   \n",
       "3   In Cabin’d Ships at Sea   \n",
       "4          To Foreign Lands   \n",
       "\n",
       "                                                                                                                                             poem_string  \\\n",
       "0  Come, said my soul,\\r\\n     Such verses for my Body let us write, (for we are one,)\\r\\n     That should I after return,\\r\\n     Or, long, long hen...   \n",
       "1  One’s-self I sing, a simple separate person,\\r\\n  Yet utter the word Democratic, the word En-Masse.\\r\\n\\r\\n  Of physiology from top to toe I sing,...   \n",
       "2  As I ponder’d in silence,\\r\\n  Returning upon my poems, considering, lingering long,\\r\\n  A Phantom arose before me with distrustful aspect,\\r\\n  ...   \n",
       "3  In cabin’d ships at sea,\\r\\n  The boundless blue on every side expanding,\\r\\n  With whistling winds and music of the waves, the large imperious wa...   \n",
       "4  I heard that you ask’d for something to prove this puzzle the New World,\\r\\n  And to define America, her athletic Democracy,\\r\\n  Therefore I send...   \n",
       "\n",
       "                                                                                                                                              poem_lines  \n",
       "0  [Come, said my soul,, Such verses for my Body let us write, (for we are one,), That should I after return,, Or, long, long hence, in other spheres...  \n",
       "1  [One’s-self I sing, a simple separate person,, Yet utter the word Democratic, the word En-Masse., Of physiology from top to toe I sing,, Not physi...  \n",
       "2  [As I ponder’d in silence,, Returning upon my poems, considering, lingering long,, A Phantom arose before me with distrustful aspect,, Terrible in...  \n",
       "3  [In cabin’d ships at sea,, The boundless blue on every side expanding,, With whistling winds and music of the waves, the large imperious waves,, O...  \n",
       "4  [I heard that you ask’d for something to prove this puzzle the New World,, And to define America, her athletic Democracy,, Therefore I send you my...  "
      ]
     },
     "execution_count": 5,
     "metadata": {},
     "output_type": "execute_result"
    }
   ],
   "source": [
    "df.head()"
   ]
  },
  {
   "cell_type": "markdown",
   "metadata": {},
   "source": [
    "- Based on some earlier EDA, there are several multi-part poems that are skewing some of the data (especially for number of lines per poem) to the right.\n",
    "- I'll transform these multi-part poems into several single-part poems.\n",
    "- First, I'll need to find the index numbers of all the multi-part poems."
   ]
  },
  {
   "cell_type": "code",
   "execution_count": 6,
   "metadata": {},
   "outputs": [
    {
     "data": {
      "text/html": [
       "<div>\n",
       "<style scoped>\n",
       "    .dataframe tbody tr th:only-of-type {\n",
       "        vertical-align: middle;\n",
       "    }\n",
       "\n",
       "    .dataframe tbody tr th {\n",
       "        vertical-align: top;\n",
       "    }\n",
       "\n",
       "    .dataframe thead th {\n",
       "        text-align: right;\n",
       "    }\n",
       "</style>\n",
       "<table border=\"1\" class=\"dataframe\">\n",
       "  <thead>\n",
       "    <tr style=\"text-align: right;\">\n",
       "      <th></th>\n",
       "      <th>title</th>\n",
       "      <th>poem_string</th>\n",
       "      <th>poem_lines</th>\n",
       "    </tr>\n",
       "  </thead>\n",
       "  <tbody>\n",
       "    <tr>\n",
       "      <th>25</th>\n",
       "      <td>Starting from Paumanok</td>\n",
       "      <td>1\\r\\n  Starting from fish-shape Paumanok where I was born,\\r\\n  Well-begotten, and rais’d by a perfect mother,\\r\\n  After roaming many lands, love...</td>\n",
       "      <td>[1, Starting from fish-shape Paumanok where I was born,, Well-begotten, and rais’d by a perfect mother,, After roaming many lands, lover of populo...</td>\n",
       "    </tr>\n",
       "    <tr>\n",
       "      <th>26</th>\n",
       "      <td>Song of Myself</td>\n",
       "      <td>1\\r\\n  I celebrate myself, and sing myself,\\r\\n  And what I assume you shall assume,\\r\\n  For every atom belonging to me as good belongs to you.\\r...</td>\n",
       "      <td>[1, I celebrate myself, and sing myself,, And what I assume you shall assume,, For every atom belonging to me as good belongs to you., I loafe and...</td>\n",
       "    </tr>\n",
       "    <tr>\n",
       "      <th>29</th>\n",
       "      <td>I Sing the Body Electric</td>\n",
       "      <td>1\\r\\n  I sing the body electric,\\r\\n  The armies of those I love engirth me and I engirth them,\\r\\n  They will not let me off till I go with them,...</td>\n",
       "      <td>[1, I sing the body electric,, The armies of those I love engirth me and I engirth them,, They will not let me off till I go with them, respond to...</td>\n",
       "    </tr>\n",
       "    <tr>\n",
       "      <th>82</th>\n",
       "      <td>Salut au Monde!</td>\n",
       "      <td>1\\r\\n  O take my hand Walt Whitman!\\r\\n  Such gliding wonders! such sights and sounds!\\r\\n  Such join’d unended links, each hook’d to the next,\\r\\...</td>\n",
       "      <td>[1, O take my hand Walt Whitman!, Such gliding wonders! such sights and sounds!, Such join’d unended links, each hook’d to the next,, Each answeri...</td>\n",
       "    </tr>\n",
       "    <tr>\n",
       "      <th>83</th>\n",
       "      <td>Song of the Open Road</td>\n",
       "      <td>1\\r\\n  Afoot and light-hearted I take to the open road,\\r\\n  Healthy, free, the world before me,\\r\\n  The long brown path before me leading wherev...</td>\n",
       "      <td>[1, Afoot and light-hearted I take to the open road,, Healthy, free, the world before me,, The long brown path before me leading wherever I choose...</td>\n",
       "    </tr>\n",
       "  </tbody>\n",
       "</table>\n",
       "</div>"
      ],
      "text/plain": [
       "                       title  \\\n",
       "25    Starting from Paumanok   \n",
       "26            Song of Myself   \n",
       "29  I Sing the Body Electric   \n",
       "82           Salut au Monde!   \n",
       "83     Song of the Open Road   \n",
       "\n",
       "                                                                                                                                              poem_string  \\\n",
       "25  1\\r\\n  Starting from fish-shape Paumanok where I was born,\\r\\n  Well-begotten, and rais’d by a perfect mother,\\r\\n  After roaming many lands, love...   \n",
       "26  1\\r\\n  I celebrate myself, and sing myself,\\r\\n  And what I assume you shall assume,\\r\\n  For every atom belonging to me as good belongs to you.\\r...   \n",
       "29  1\\r\\n  I sing the body electric,\\r\\n  The armies of those I love engirth me and I engirth them,\\r\\n  They will not let me off till I go with them,...   \n",
       "82  1\\r\\n  O take my hand Walt Whitman!\\r\\n  Such gliding wonders! such sights and sounds!\\r\\n  Such join’d unended links, each hook’d to the next,\\r\\...   \n",
       "83  1\\r\\n  Afoot and light-hearted I take to the open road,\\r\\n  Healthy, free, the world before me,\\r\\n  The long brown path before me leading wherev...   \n",
       "\n",
       "                                                                                                                                               poem_lines  \n",
       "25  [1, Starting from fish-shape Paumanok where I was born,, Well-begotten, and rais’d by a perfect mother,, After roaming many lands, lover of populo...  \n",
       "26  [1, I celebrate myself, and sing myself,, And what I assume you shall assume,, For every atom belonging to me as good belongs to you., I loafe and...  \n",
       "29  [1, I sing the body electric,, The armies of those I love engirth me and I engirth them,, They will not let me off till I go with them, respond to...  \n",
       "82  [1, O take my hand Walt Whitman!, Such gliding wonders! such sights and sounds!, Such join’d unended links, each hook’d to the next,, Each answeri...  \n",
       "83  [1, Afoot and light-hearted I take to the open road,, Healthy, free, the world before me,, The long brown path before me leading wherever I choose...  "
      ]
     },
     "execution_count": 6,
     "metadata": {},
     "output_type": "execute_result"
    }
   ],
   "source": [
    "# instantiate empty list\n",
    "indices = []\n",
    "\n",
    "# iterate over index and row\n",
    "for i, poem in df.iterrows():\n",
    "    # append index of poems whose first line is '1' to list\n",
    "    if poem.poem_lines[0] == '1':\n",
    "        indices.append(i)\n",
    "\n",
    "# confirm\n",
    "df[df.index.isin(indices)].head()"
   ]
  },
  {
   "cell_type": "code",
   "execution_count": 7,
   "metadata": {},
   "outputs": [
    {
     "name": "stdout",
     "output_type": "stream",
     "text": [
      "Shape of original DataFrame: (383, 3)\n",
      "Shape of transformed DataFrame: (609, 3)\n"
     ]
    }
   ],
   "source": [
    "print(f'Shape of original DataFrame: {df.shape}')\n",
    "\n",
    "# split multi-part poems into individual poems and append to dataframe\n",
    "for i in indices:\n",
    "    df = part_adder(df, i, 'poem_lines')\n",
    "\n",
    "# drop multi-part versions\n",
    "df.drop(index=indices, inplace=True)\n",
    "# reset index\n",
    "df.reset_index(drop=True, inplace=True)\n",
    "    \n",
    "print(f'Shape of transformed DataFrame: {df.shape}')"
   ]
  },
  {
   "cell_type": "markdown",
   "metadata": {},
   "source": [
    "# Step 3: Feature engineering and exploratory data analysis\n",
    "\n",
    "[[go back to the top](#Leaves-of-Grass-Analysis)]\n",
    "\n",
    "- Engineer numerical features based on aspects of a poem, including but not limited to line count, line length, usage of end rhymes, and lexical richness.\n",
    "- Explore these features as a whole and across each movement.\n",
    "- Create visualizations to better understand the differences and similarities between movements.\n",
    "\n",
    "### Number of lines\n",
    "\n",
    "[[go back to the top](#Leaves-of-Grass-Analysis)]\n",
    "\n",
    "- The number of lines in a poem is often the best measure for the poem's length. I'd like to see the distribution of Whitman's poem lengths."
   ]
  },
  {
   "cell_type": "code",
   "execution_count": 8,
   "metadata": {},
   "outputs": [
    {
     "data": {
      "text/plain": [
       "['Come, said my soul,',\n",
       " 'Such verses for my Body let us write, (for we are one,)',\n",
       " 'That should I after return,',\n",
       " 'Or, long, long hence, in other spheres,',\n",
       " 'There to some group of mates the chants resuming,',\n",
       " '(Tallying Earth’s soil, trees, winds, tumultuous waves,)',\n",
       " 'Ever with pleas’d smile I may keep on,',\n",
       " 'Ever and ever yet the verses owning—as, first, I here and now',\n",
       " 'Signing for Soul and Body, set to them my name,',\n",
       " 'Walt Whitman']"
      ]
     },
     "execution_count": 8,
     "metadata": {},
     "output_type": "execute_result"
    }
   ],
   "source": [
    "# check work by first looking at an example\n",
    "df.loc[0,'poem_lines']"
   ]
  },
  {
   "cell_type": "code",
   "execution_count": 9,
   "metadata": {},
   "outputs": [
    {
     "data": {
      "text/plain": [
       "10"
      ]
     },
     "execution_count": 9,
     "metadata": {},
     "output_type": "execute_result"
    }
   ],
   "source": [
    "# create number of lines column\n",
    "df['num_lines'] = df.poem_lines.apply(lambda x: len(x))\n",
    "\n",
    "# check that it worked\n",
    "df.loc[0,'num_lines']"
   ]
  },
  {
   "cell_type": "code",
   "execution_count": 10,
   "metadata": {},
   "outputs": [
    {
     "data": {
      "text/plain": [
       "count    609.000000\n",
       "mean      22.133005\n",
       "std       29.524082\n",
       "min        2.000000\n",
       "25%        9.000000\n",
       "50%       15.000000\n",
       "75%       25.000000\n",
       "max      456.000000\n",
       "Name: num_lines, dtype: float64"
      ]
     },
     "execution_count": 10,
     "metadata": {},
     "output_type": "execute_result"
    }
   ],
   "source": [
    "# descriptive statistics for number of lines as a whole\n",
    "df.num_lines.describe()"
   ]
  },
  {
   "cell_type": "markdown",
   "metadata": {},
   "source": [
    "- Poems appear to generally be pretty short, although there may be a few outliers pushing the mean up. I'll try to identify those by looking at any poems above, say, 100 lines."
   ]
  },
  {
   "cell_type": "markdown",
   "metadata": {},
   "source": [
    "### Number of lines -- Histogram\n",
    "\n",
    "[[go back to the top](#Leaves-of-Grass-Analysis)]\n",
    "\n",
    "- I'll try a histogram of all poems "
   ]
  },
  {
   "cell_type": "code",
   "execution_count": 11,
   "metadata": {},
   "outputs": [
    {
     "data": {
      "image/png": "[encoded data removed]",
      "text/plain": [
       "<Figure size 504x504 with 1 Axes>"
      ]
     },
     "metadata": {
      "needs_background": "light"
     },
     "output_type": "display_data"
    }
   ],
   "source": [
    "df.hist('num_lines', bins=100, figsize=(7,7));"
   ]
  },
  {
   "cell_type": "code",
   "execution_count": 12,
   "metadata": {},
   "outputs": [
    {
     "data": {
      "image/png": "[encoded data removed]",
      "text/plain": [
       "<Figure size 504x504 with 1 Axes>"
      ]
     },
     "metadata": {
      "needs_background": "light"
     },
     "output_type": "display_data"
    }
   ],
   "source": [
    "# plot the graph\n",
    "df[df.num_lines < 100].hist('num_lines', bins=25, figsize=(7,7));"
   ]
  },
  {
   "cell_type": "markdown",
   "metadata": {},
   "source": [
    "### Number of words\n",
    "\n",
    "[[go back to the top](#Leaves-of-Grass-Analysis)]\n",
    "\n",
    "- I'd like to see if the number of words holds any valuable information.\n",
    "- Also, it will be necessary to calculate for many other features."
   ]
  },
  {
   "cell_type": "code",
   "execution_count": 13,
   "metadata": {},
   "outputs": [],
   "source": [
    "# create column using custom word counting function\n",
    "df['num_words'] = df.poem_lines.apply(word_counter)"
   ]
  },
  {
   "cell_type": "code",
   "execution_count": 14,
   "metadata": {},
   "outputs": [
    {
     "data": {
      "text/plain": [
       "count     609.000000\n",
       "mean      196.756979\n",
       "std       258.503557\n",
       "min        14.000000\n",
       "25%        76.000000\n",
       "50%       133.000000\n",
       "75%       229.000000\n",
       "max      3934.000000\n",
       "Name: num_words, dtype: float64"
      ]
     },
     "execution_count": 14,
     "metadata": {},
     "output_type": "execute_result"
    }
   ],
   "source": [
    "# number of words stats as a whole\n",
    "df.num_words.describe()"
   ]
  },
  {
   "cell_type": "markdown",
   "metadata": {},
   "source": [
    "### Number of words -- Histogram\n",
    "\n",
    "[[go back to the top](#Leaves-of-Grass-Analysis)]"
   ]
  },
  {
   "cell_type": "code",
   "execution_count": 15,
   "metadata": {},
   "outputs": [
    {
     "data": {
      "image/png": "[encoded data removed]",
      "text/plain": [
       "<Figure size 504x504 with 1 Axes>"
      ]
     },
     "metadata": {
      "needs_background": "light"
     },
     "output_type": "display_data"
    }
   ],
   "source": [
    "df.hist('num_words', bins=100, figsize=(7,7));"
   ]
  },
  {
   "cell_type": "code",
   "execution_count": 16,
   "metadata": {},
   "outputs": [
    {
     "data": {
      "image/png": "[encoded data removed]",
      "text/plain": [
       "<Figure size 504x504 with 1 Axes>"
      ]
     },
     "metadata": {
      "needs_background": "light"
     },
     "output_type": "display_data"
    }
   ],
   "source": [
    "# plot the graph\n",
    "df[df.num_words < 1000].hist('num_words', bins=25, figsize=(7,7));"
   ]
  },
  {
   "cell_type": "code",
   "execution_count": 17,
   "metadata": {},
   "outputs": [
    {
     "data": {
      "image/png": "[encoded data removed]",
      "text/plain": [
       "<Figure size 432x288 with 1 Axes>"
      ]
     },
     "metadata": {
      "needs_background": "light"
     },
     "output_type": "display_data"
    }
   ],
   "source": [
    "df.plot.scatter('num_lines', 'num_words');"
   ]
  },
  {
   "cell_type": "code",
   "execution_count": 18,
   "metadata": {},
   "outputs": [
    {
     "data": {
      "text/plain": [
       "0.995594233093748"
      ]
     },
     "execution_count": 18,
     "metadata": {},
     "output_type": "execute_result"
    }
   ],
   "source": [
    "# check correlation\n",
    "df.num_lines.corr(df.num_words)"
   ]
  },
  {
   "cell_type": "markdown",
   "metadata": {},
   "source": [
    "- Indeed, they are extremely correlated, which most likely signifies a high degree of regularity in Whitman's poetry.\n",
    "- One might expect a fairly small range of values for my next feature: average line length.\n",
    "\n",
    "### Average line length\n",
    "\n",
    "[[go back to the top](#Leaves-of-Grass-Analysis)]\n",
    "\n",
    "- I can use both of the previously engineered columns to create a measure of the average number of words per line in a poem."
   ]
  },
  {
   "cell_type": "code",
   "execution_count": 19,
   "metadata": {},
   "outputs": [],
   "source": [
    "# create column of average number of words per line\n",
    "df['avg_len_line'] = df.num_words / df.num_lines"
   ]
  },
  {
   "cell_type": "code",
   "execution_count": 20,
   "metadata": {},
   "outputs": [
    {
     "data": {
      "text/plain": [
       "count    609.000000\n",
       "mean       8.896817\n",
       "std        1.120671\n",
       "min        5.400000\n",
       "25%        8.166667\n",
       "50%        8.933333\n",
       "75%        9.562500\n",
       "max       12.666667\n",
       "Name: avg_len_line, dtype: float64"
      ]
     },
     "execution_count": 20,
     "metadata": {},
     "output_type": "execute_result"
    }
   ],
   "source": [
    "# average length of line stats as a whole\n",
    "df.avg_len_line.describe()"
   ]
  },
  {
   "cell_type": "markdown",
   "metadata": {},
   "source": [
    "- While the range itself is higher than I had expected, it appears that the interquartile range is indeed rather small."
   ]
  },
  {
   "cell_type": "markdown",
   "metadata": {},
   "source": [
    "- Removing outliers resulted in all statistically significant tests. In the next notebook, I will have to [deal with outliers](04_modeling.ipynb#Dealing-with-outliers) before modeling.\n",
    "\n",
    "### Average line length -- Boxplot\n",
    "\n",
    "[[go back to the top](#Predicting-Poetic-Movements)]"
   ]
  },
  {
   "cell_type": "code",
   "execution_count": 21,
   "metadata": {},
   "outputs": [
    {
     "data": {
      "image/png": "[encoded data removed]",
      "text/plain": [
       "<Figure size 504x504 with 1 Axes>"
      ]
     },
     "metadata": {
      "needs_background": "light"
     },
     "output_type": "display_data"
    }
   ],
   "source": [
    "df.hist('avg_len_line', bins=50, figsize=(7,7));"
   ]
  },
  {
   "cell_type": "code",
   "execution_count": 22,
   "metadata": {},
   "outputs": [],
   "source": [
    "low_bar = df.avg_len_line.mean() - 1.96 * df.avg_len_line.std()\n",
    "high_bar = df.avg_len_line.mean() + 1.96 * df.avg_len_line.std()"
   ]
  },
  {
   "cell_type": "code",
   "execution_count": 23,
   "metadata": {},
   "outputs": [
    {
     "data": {
      "image/png": "[encoded data removed]",
      "text/plain": [
       "<Figure size 504x504 with 1 Axes>"
      ]
     },
     "metadata": {
      "needs_background": "light"
     },
     "output_type": "display_data"
    }
   ],
   "source": [
    "# plot the graph\n",
    "df[(df.avg_len_line > low_bar) & (df.avg_len_line < high_bar)].hist('avg_len_line', bins=16, figsize=(7,7));"
   ]
  },
  {
   "cell_type": "code",
   "execution_count": null,
   "metadata": {},
   "outputs": [],
   "source": []
  },
  {
   "cell_type": "markdown",
   "metadata": {},
   "source": [
    "### Sentiment, polarity\n",
    "\n",
    "[[go back to the top](#Leaves-of-Grass-Analysis)]\n",
    "\n",
    "- I wonder whether any movements tend to be more positive, negative, or neutral.\n",
    "- I'll create a new string that includes the titles, using the ```lines_titled``` column.\n",
    "- I'll use VADER to obtain a polarity score, which I can use as a continuous variable, as well as convert to a categorical variable."
   ]
  },
  {
   "cell_type": "code",
   "execution_count": 24,
   "metadata": {},
   "outputs": [
    {
     "name": "stdout",
     "output_type": "stream",
     "text": [
      "CPU times: user 3.84 s, sys: 26.9 ms, total: 3.87 s\n",
      "Wall time: 3.91 s\n"
     ]
    }
   ],
   "source": [
    "%%time\n",
    "\n",
    "# instantiate VADER sentiment analyzer\n",
    "analyzer = SentimentIntensityAnalyzer()\n",
    "\n",
    "# create a column with the compound polarity score, passing in the raw poem\n",
    "df['sentiment_polarity_score'] = df['poem_string'].apply(lambda x: analyzer.polarity_scores(x)['compound'])"
   ]
  },
  {
   "cell_type": "code",
   "execution_count": 25,
   "metadata": {},
   "outputs": [],
   "source": [
    "# convert to categorical variable\n",
    "conditions = [\n",
    "    df.sentiment_polarity_score >= .05,\n",
    "    df.sentiment_polarity_score <= -.05\n",
    "]\n",
    "\n",
    "choices = [\n",
    "    'positive',\n",
    "    'negative'\n",
    "]\n",
    "\n",
    "df['sentiment_polarity'] = np.select(conditions, \n",
    "                                     choices, \n",
    "                                     'neutral')"
   ]
  },
  {
   "cell_type": "code",
   "execution_count": 26,
   "metadata": {},
   "outputs": [
    {
     "data": {
      "text/plain": [
       "count    609.000000\n",
       "mean       0.452692\n",
       "std        0.677987\n",
       "min       -0.996800\n",
       "25%        0.000000\n",
       "50%        0.824200\n",
       "75%        0.964800\n",
       "max        0.999800\n",
       "Name: sentiment_polarity_score, dtype: float64"
      ]
     },
     "execution_count": 26,
     "metadata": {},
     "output_type": "execute_result"
    }
   ],
   "source": [
    "# polarity score stats as a whole\n",
    "df.sentiment_polarity_score.describe()"
   ]
  },
  {
   "cell_type": "markdown",
   "metadata": {},
   "source": [
    "### Polarity score -- Boxplot\n",
    "\n",
    "[[go back to the top](#Leaves-of-Grass-Analysis)]"
   ]
  },
  {
   "cell_type": "code",
   "execution_count": 27,
   "metadata": {},
   "outputs": [
    {
     "data": {
      "text/plain": [
       "positive    0.747126\n",
       "negative    0.229885\n",
       "neutral     0.022989\n",
       "Name: sentiment_polarity, dtype: float64"
      ]
     },
     "execution_count": 27,
     "metadata": {},
     "output_type": "execute_result"
    }
   ],
   "source": [
    "df.sentiment_polarity.value_counts(normalize=True)"
   ]
  },
  {
   "cell_type": "code",
   "execution_count": 28,
   "metadata": {},
   "outputs": [
    {
     "data": {
      "text/plain": [
       "<matplotlib.axes._subplots.AxesSubplot at 0x7ffd3622e898>"
      ]
     },
     "execution_count": 28,
     "metadata": {},
     "output_type": "execute_result"
    },
    {
     "data": {
      "image/png": "[encoded data removed]",
      "text/plain": [
       "<Figure size 432x288 with 1 Axes>"
      ]
     },
     "metadata": {
      "needs_background": "light"
     },
     "output_type": "display_data"
    }
   ],
   "source": [
    "df.sentiment_polarity.value_counts(normalize=False).plot(kind='bar')"
   ]
  },
  {
   "cell_type": "code",
   "execution_count": 33,
   "metadata": {},
   "outputs": [
    {
     "data": {
      "image/png": "[encoded data removed]",
      "text/plain": [
       "<Figure size 504x504 with 1 Axes>"
      ]
     },
     "metadata": {
      "needs_background": "light"
     },
     "output_type": "display_data"
    }
   ],
   "source": [
    "# plot the graph\n",
    "df.boxplot('num_lines', 'sentiment_polarity', \n",
    "           showfliers=False, figsize=(7,7));"
   ]
  },
  {
   "cell_type": "code",
   "execution_count": 30,
   "metadata": {},
   "outputs": [
    {
     "data": {
      "image/png": "[encoded data removed]",
      "text/plain": [
       "<Figure size 432x288 with 1 Axes>"
      ]
     },
     "metadata": {
      "needs_background": "light"
     },
     "output_type": "display_data"
    }
   ],
   "source": [
    "df.sentiment_polarity_score.hist();"
   ]
  },
  {
   "cell_type": "code",
   "execution_count": 36,
   "metadata": {},
   "outputs": [
    {
     "data": {
      "text/html": [
       "<div>\n",
       "<style scoped>\n",
       "    .dataframe tbody tr th:only-of-type {\n",
       "        vertical-align: middle;\n",
       "    }\n",
       "\n",
       "    .dataframe tbody tr th {\n",
       "        vertical-align: top;\n",
       "    }\n",
       "\n",
       "    .dataframe thead th {\n",
       "        text-align: right;\n",
       "    }\n",
       "</style>\n",
       "<table border=\"1\" class=\"dataframe\">\n",
       "  <thead>\n",
       "    <tr style=\"text-align: right;\">\n",
       "      <th></th>\n",
       "      <th>title</th>\n",
       "      <th>poem_string</th>\n",
       "      <th>poem_lines</th>\n",
       "      <th>num_lines</th>\n",
       "      <th>num_words</th>\n",
       "      <th>avg_len_line</th>\n",
       "      <th>sentiment_polarity_score</th>\n",
       "      <th>sentiment_polarity</th>\n",
       "    </tr>\n",
       "  </thead>\n",
       "  <tbody>\n",
       "    <tr>\n",
       "      <th>0</th>\n",
       "      <td>Untitled</td>\n",
       "      <td>Come, said my soul,\\r\\n     Such verses for my Body let us write, (for we are one,)\\r\\n     That should I after return,\\r\\n     Or, long, long hen...</td>\n",
       "      <td>[Come, said my soul,, Such verses for my Body let us write, (for we are one,), That should I after return,, Or, long, long hence, in other spheres...</td>\n",
       "      <td>10</td>\n",
       "      <td>76</td>\n",
       "      <td>7.600000</td>\n",
       "      <td>0.3612</td>\n",
       "      <td>positive</td>\n",
       "    </tr>\n",
       "    <tr>\n",
       "      <th>1</th>\n",
       "      <td>One’s-Self I Sing</td>\n",
       "      <td>One’s-self I sing, a simple separate person,\\r\\n  Yet utter the word Democratic, the word En-Masse.\\r\\n\\r\\n  Of physiology from top to toe I sing,...</td>\n",
       "      <td>[One’s-self I sing, a simple separate person,, Yet utter the word Democratic, the word En-Masse., Of physiology from top to toe I sing,, Not physi...</td>\n",
       "      <td>9</td>\n",
       "      <td>72</td>\n",
       "      <td>8.000000</td>\n",
       "      <td>0.9576</td>\n",
       "      <td>positive</td>\n",
       "    </tr>\n",
       "    <tr>\n",
       "      <th>2</th>\n",
       "      <td>As I Ponder’d in Silence</td>\n",
       "      <td>As I ponder’d in silence,\\r\\n  Returning upon my poems, considering, lingering long,\\r\\n  A Phantom arose before me with distrustful aspect,\\r\\n  ...</td>\n",
       "      <td>[As I ponder’d in silence,, Returning upon my poems, considering, lingering long,, A Phantom arose before me with distrustful aspect,, Terrible in...</td>\n",
       "      <td>20</td>\n",
       "      <td>163</td>\n",
       "      <td>8.150000</td>\n",
       "      <td>0.4234</td>\n",
       "      <td>positive</td>\n",
       "    </tr>\n",
       "    <tr>\n",
       "      <th>3</th>\n",
       "      <td>In Cabin’d Ships at Sea</td>\n",
       "      <td>In cabin’d ships at sea,\\r\\n  The boundless blue on every side expanding,\\r\\n  With whistling winds and music of the waves, the large imperious wa...</td>\n",
       "      <td>[In cabin’d ships at sea,, The boundless blue on every side expanding,, With whistling winds and music of the waves, the large imperious waves,, O...</td>\n",
       "      <td>29</td>\n",
       "      <td>266</td>\n",
       "      <td>9.172414</td>\n",
       "      <td>0.8856</td>\n",
       "      <td>positive</td>\n",
       "    </tr>\n",
       "    <tr>\n",
       "      <th>4</th>\n",
       "      <td>To Foreign Lands</td>\n",
       "      <td>I heard that you ask’d for something to prove this puzzle the New World,\\r\\n  And to define America, her athletic Democracy,\\r\\n  Therefore I send...</td>\n",
       "      <td>[I heard that you ask’d for something to prove this puzzle the New World,, And to define America, her athletic Democracy,, Therefore I send you my...</td>\n",
       "      <td>3</td>\n",
       "      <td>35</td>\n",
       "      <td>11.666667</td>\n",
       "      <td>0.0000</td>\n",
       "      <td>neutral</td>\n",
       "    </tr>\n",
       "  </tbody>\n",
       "</table>\n",
       "</div>"
      ],
      "text/plain": [
       "                      title  \\\n",
       "0                  Untitled   \n",
       "1         One’s-Self I Sing   \n",
       "2  As I Ponder’d in Silence   \n",
       "3   In Cabin’d Ships at Sea   \n",
       "4          To Foreign Lands   \n",
       "\n",
       "                                                                                                                                             poem_string  \\\n",
       "0  Come, said my soul,\\r\\n     Such verses for my Body let us write, (for we are one,)\\r\\n     That should I after return,\\r\\n     Or, long, long hen...   \n",
       "1  One’s-self I sing, a simple separate person,\\r\\n  Yet utter the word Democratic, the word En-Masse.\\r\\n\\r\\n  Of physiology from top to toe I sing,...   \n",
       "2  As I ponder’d in silence,\\r\\n  Returning upon my poems, considering, lingering long,\\r\\n  A Phantom arose before me with distrustful aspect,\\r\\n  ...   \n",
       "3  In cabin’d ships at sea,\\r\\n  The boundless blue on every side expanding,\\r\\n  With whistling winds and music of the waves, the large imperious wa...   \n",
       "4  I heard that you ask’d for something to prove this puzzle the New World,\\r\\n  And to define America, her athletic Democracy,\\r\\n  Therefore I send...   \n",
       "\n",
       "                                                                                                                                              poem_lines  \\\n",
       "0  [Come, said my soul,, Such verses for my Body let us write, (for we are one,), That should I after return,, Or, long, long hence, in other spheres...   \n",
       "1  [One’s-self I sing, a simple separate person,, Yet utter the word Democratic, the word En-Masse., Of physiology from top to toe I sing,, Not physi...   \n",
       "2  [As I ponder’d in silence,, Returning upon my poems, considering, lingering long,, A Phantom arose before me with distrustful aspect,, Terrible in...   \n",
       "3  [In cabin’d ships at sea,, The boundless blue on every side expanding,, With whistling winds and music of the waves, the large imperious waves,, O...   \n",
       "4  [I heard that you ask’d for something to prove this puzzle the New World,, And to define America, her athletic Democracy,, Therefore I send you my...   \n",
       "\n",
       "   num_lines  num_words  avg_len_line  sentiment_polarity_score  \\\n",
       "0         10         76      7.600000                    0.3612   \n",
       "1          9         72      8.000000                    0.9576   \n",
       "2         20        163      8.150000                    0.4234   \n",
       "3         29        266      9.172414                    0.8856   \n",
       "4          3         35     11.666667                    0.0000   \n",
       "\n",
       "  sentiment_polarity  \n",
       "0           positive  \n",
       "1           positive  \n",
       "2           positive  \n",
       "3           positive  \n",
       "4            neutral  "
      ]
     },
     "execution_count": 36,
     "metadata": {},
     "output_type": "execute_result"
    }
   ],
   "source": [
    "df.head()"
   ]
  },
  {
   "cell_type": "code",
   "execution_count": 31,
   "metadata": {},
   "outputs": [
    {
     "ename": "SyntaxError",
     "evalue": "invalid syntax (<ipython-input-31-9290159fd349>, line 1)",
     "output_type": "error",
     "traceback": [
      "\u001b[0;36m  File \u001b[0;32m\"<ipython-input-31-9290159fd349>\"\u001b[0;36m, line \u001b[0;32m1\u001b[0m\n\u001b[0;31m    please break my code\u001b[0m\n\u001b[0m               ^\u001b[0m\n\u001b[0;31mSyntaxError\u001b[0m\u001b[0;31m:\u001b[0m invalid syntax\n"
     ]
    }
   ],
   "source": [
    "please break my code"
   ]
  },
  {
   "cell_type": "markdown",
   "metadata": {},
   "source": [
    "# Graveyard and whatever the pre-birth equivalent of a graveyard is (because some of this code will eventually be used"
   ]
  },
  {
   "cell_type": "code",
   "execution_count": null,
   "metadata": {},
   "outputs": [],
   "source": []
  },
  {
   "cell_type": "markdown",
   "metadata": {},
   "source": [
    "- Since some untitled poems use the first line of the poem as the title, and since I'll be using titles in my prediction model, I'll add the title to the poem now.\n",
    "    - Some titles, however, are simply \"Untitled\", which I do not want to include."
   ]
  },
  {
   "cell_type": "markdown",
   "metadata": {},
   "source": [
    "- \n",
    "\n",
    "### Polarity -- Stacked bar chart\n",
    "\n",
    "[[go back to the top](#Predicting-Poetic-Movements)]"
   ]
  },
  {
   "cell_type": "code",
   "execution_count": null,
   "metadata": {},
   "outputs": [],
   "source": [
    "# proportion of polarity across movement\n",
    "movement_polarity_dist = df.groupby('movement').\\\n",
    "    sentiment_polarity.value_counts(normalize=True).\\\n",
    "    unstack().sort_values('negative')\n",
    "\n",
    "# plot the graph\n",
    "movement_polarity_dist.plot(kind='bar', stacked=True, \n",
    "    figsize=(8,7), color=['firebrick', '#e1c400', 'seagreen'], \n",
    "    alpha=0.7, fontsize=14)\n",
    "\n",
    "# prettify the graph\n",
    "plt.title('Polarity of Poetic Movements', fontsize=25, pad=15)\n",
    "plt.suptitle('')\n",
    "plt.xlabel('')\n",
    "plt.ylabel('Proportion of Polarity', fontsize=22, labelpad=10)\n",
    "\n",
    "# obtain x-tick-labels and their locations\n",
    "locs, labels = plt.xticks()\n",
    "# prettify the labels\n",
    "labels_pretty = [label.get_text().replace('_', '\\n').title() \\\n",
    "                 for label in list(labels)]\n",
    "labels_pretty[0] = 'Pre-1900'\n",
    "# plot the labels and legend\n",
    "plt.xticks(ticks=locs, labels=labels_pretty, rotation=60, fontsize=20)\n",
    "plt.yticks(fontsize=20);\n",
    "plt.legend(['Negative', 'Neutral', 'Positive'], facecolor='white', \n",
    "           framealpha=1, bbox_to_anchor=(1.01, 1.01), fontsize=18)\n",
    "\n",
    "# prepare to save and display\n",
    "plt.tight_layout()\n",
    "# # uncomment to save\n",
    "# plt.savefig('charts/polarity_stackedbar.png', \n",
    "#             bbox_inches='tight', transparent=True)\n",
    "\n",
    "plt.show()"
   ]
  },
  {
   "cell_type": "code",
   "execution_count": null,
   "metadata": {},
   "outputs": [],
   "source": [
    "# numerical representation\n",
    "movement_polarity_dist"
   ]
  },
  {
   "cell_type": "markdown",
   "metadata": {},
   "source": [
    "- The breakdown shows a surprisingly similar distribution of polarity across movements.\n",
    "- Avant-Garde poetry has the most neutral poems, though that is still a small percentage of the poems within that movement.\n",
    "\n",
    "### Sentiment, subjectivity\n",
    "\n",
    "[[go back to the top](#Predicting-Poetic-Movements)]\n",
    "\n",
    "- I wonder whether any movements tend to be more or less objective.\n",
    "- I'll use TextBlob to obtain a sentiment score."
   ]
  },
  {
   "cell_type": "code",
   "execution_count": null,
   "metadata": {},
   "outputs": [],
   "source": [
    "%%time\n",
    "\n",
    "# create a column with the compound polarity score, \n",
    "# passing in the raw poem to TextBlob\n",
    "df['sentiment_subjectivity_score'] = df['string_titled'].\\\n",
    "    apply(lambda x: TextBlob(x).sentiment.subjectivity)"
   ]
  },
  {
   "cell_type": "code",
   "execution_count": null,
   "metadata": {},
   "outputs": [],
   "source": [
    "# subjectivity score stats as a whole\n",
    "df.sentiment_subjectivity_score.describe()"
   ]
  },
  {
   "cell_type": "code",
   "execution_count": null,
   "metadata": {
    "scrolled": true
   },
   "outputs": [],
   "source": [
    "# subjectivity score stast by movement\n",
    "df.groupby('movement').sentiment_subjectivity_score.describe().T"
   ]
  },
  {
   "cell_type": "markdown",
   "metadata": {},
   "source": [
    "#### Statistical analysis"
   ]
  },
  {
   "cell_type": "code",
   "execution_count": null,
   "metadata": {},
   "outputs": [],
   "source": [
    "# one-way ANOVA\n",
    "stats.f_oneway(\n",
    "    df['sentiment_subjectivity_score'][df['movement'] == 'avant_garde'],\n",
    "    df['sentiment_subjectivity_score'][df['movement'] == 'metropolitan'], \n",
    "    df['sentiment_subjectivity_score'][df['movement'] == 'modern'],\n",
    "    df['sentiment_subjectivity_score'][df['movement'] == 'pre_1900']\n",
    ")"
   ]
  },
  {
   "cell_type": "markdown",
   "metadata": {},
   "source": [
    "- At least one statistically significant difference is present.\n",
    "- I'll now perform two-sided t-tests on all possible combinations within these four categories."
   ]
  },
  {
   "cell_type": "code",
   "execution_count": null,
   "metadata": {},
   "outputs": [],
   "source": [
    "# list of series on which to perform two-sided t-tests\n",
    "sentiment_subjectivity_score_list = [\n",
    "    df['sentiment_subjectivity_score'][df['movement'] == 'avant_garde'],\n",
    "    df['sentiment_subjectivity_score'][df['movement'] == 'metropolitan'], \n",
    "    df['sentiment_subjectivity_score'][df['movement'] == 'modern'],\n",
    "    df['sentiment_subjectivity_score'][df['movement'] == 'pre_1900']\n",
    "]"
   ]
  },
  {
   "cell_type": "code",
   "execution_count": null,
   "metadata": {
    "scrolled": true
   },
   "outputs": [],
   "source": [
    "# test each combination\n",
    "two_way_tests(sentiment_subjectivity_score_list)"
   ]
  },
  {
   "cell_type": "markdown",
   "metadata": {},
   "source": [
    "- Avant-Garde and Metropolitan poetries appear to be statistically similar in terms of subjectivity.\n",
    "- All other combinations show a statistically signficant difference.\n",
    "\n",
    "### Subjectivity score -- Boxplot\n",
    "\n",
    "[[go back to the top](#Predicting-Poetic-Movements)]"
   ]
  },
  {
   "cell_type": "code",
   "execution_count": null,
   "metadata": {},
   "outputs": [],
   "source": [
    "# plot the graph\n",
    "df.boxplot('sentiment_subjectivity_score', 'movement', \n",
    "           showfliers=False, figsize=(7,7))\n",
    "\n",
    "# prettify the graph\n",
    "plt.title('Subjectivity Score,\\nDistribution by Movement', \n",
    "          fontsize=25, pad=15)\n",
    "plt.suptitle('')\n",
    "plt.xlabel('')\n",
    "plt.ylabel('Subjectivity Score', fontsize=22, labelpad=10)\n",
    "\n",
    "# obtain x-tick labels and their locations\n",
    "locs, labels = plt.xticks()\n",
    "# prettify the labels\n",
    "labels_pretty = [label.get_text().replace('_', '\\n').title() \\\n",
    "                 for label in list(labels)]\n",
    "labels_pretty[-1] = 'Pre-1900'\n",
    "# plot the labels\n",
    "plt.xticks(ticks=locs, labels=labels_pretty, \n",
    "           rotation=52.5, fontsize=20)\n",
    "plt.yticks(fontsize=20)\n",
    "\n",
    "# prepare to save and display\n",
    "plt.tight_layout()\n",
    "# # uncomment to save\n",
    "# plt.savefig('charts/subjectivity_score_boxplot.png', \n",
    "#             bbox_inches='tight', transparent=True)\n",
    "\n",
    "plt.show()"
   ]
  },
  {
   "cell_type": "markdown",
   "metadata": {},
   "source": [
    "- Subjectivity seems fairly similar across all movements, all more or less hovering around the midpoint, although again there is a notable difference between Avant-Garde and Pre-1900 poetries.\n",
    "\n",
    "### Number of end rhymes\n",
    "\n",
    "[[go back to the top](#Predicting-Poetic-Movements)]\n",
    "\n",
    "- I would say certain movements definitely rhyme more than others, so let's see if the numbers bear that out.\n",
    "- Count the number of end rhymes, i.e. lines where the last word rhymes with another line's last word."
   ]
  },
  {
   "cell_type": "code",
   "execution_count": null,
   "metadata": {},
   "outputs": [],
   "source": [
    "%%time\n",
    "\n",
    "# run custom function to count the number of end rhymes in a poem\n",
    "df['num_end_rhymes'] = df.clean_lines.apply(end_rhyme_counter)"
   ]
  },
  {
   "cell_type": "code",
   "execution_count": null,
   "metadata": {},
   "outputs": [],
   "source": [
    "# number of end rhymes stats as a whole\n",
    "df.num_end_rhymes.describe()"
   ]
  },
  {
   "cell_type": "code",
   "execution_count": null,
   "metadata": {},
   "outputs": [],
   "source": [
    "# number of end rhymes stats by movement\n",
    "df.groupby('movement').num_end_rhymes.describe().T"
   ]
  },
  {
   "cell_type": "markdown",
   "metadata": {},
   "source": [
    "#### Statistical analysis"
   ]
  },
  {
   "cell_type": "code",
   "execution_count": null,
   "metadata": {},
   "outputs": [],
   "source": [
    "# one-way ANOVA\n",
    "stats.f_oneway(\n",
    "    df['num_end_rhymes'][df['movement'] == 'avant_garde'],\n",
    "    df['num_end_rhymes'][df['movement'] == 'metropolitan'], \n",
    "    df['num_end_rhymes'][df['movement'] == 'modern'],\n",
    "    df['num_end_rhymes'][df['movement'] == 'pre_1900']\n",
    ")"
   ]
  },
  {
   "cell_type": "markdown",
   "metadata": {},
   "source": [
    "- At least one statistically significant difference is present.\n",
    "- I'll now perform two-sided t-tests on all possible combinations within these four categories."
   ]
  },
  {
   "cell_type": "code",
   "execution_count": null,
   "metadata": {},
   "outputs": [],
   "source": [
    "# list of series on which to perform two-sided t-tests\n",
    "num_end_rhymes_list = [\n",
    "    df['num_end_rhymes'][df['movement'] == 'avant_garde'],\n",
    "    df['num_end_rhymes'][df['movement'] == 'metropolitan'], \n",
    "    df['num_end_rhymes'][df['movement'] == 'modern'],\n",
    "    df['num_end_rhymes'][df['movement'] == 'pre_1900']\n",
    "]"
   ]
  },
  {
   "cell_type": "code",
   "execution_count": null,
   "metadata": {
    "scrolled": true
   },
   "outputs": [],
   "source": [
    "# test each combination\n",
    "two_way_tests(num_end_rhymes_list)"
   ]
  },
  {
   "cell_type": "markdown",
   "metadata": {},
   "source": [
    "- All tests other than that between Metropolitan and Modern poetries show statistical signficance.\n",
    "\n",
    "### Number of end rhymes -- Boxplot\n",
    "\n",
    "[[go back to the top](#Predicting-Poetic-Movements)]"
   ]
  },
  {
   "cell_type": "code",
   "execution_count": null,
   "metadata": {},
   "outputs": [],
   "source": [
    "# plot the graph\n",
    "df.boxplot('num_end_rhymes', 'movement', \n",
    "           showfliers=False, figsize=(7,7))\n",
    "\n",
    "# prettify the graph\n",
    "plt.title('Number of End Rhymes,\\nDistribution by Movement', \n",
    "          fontsize=25, pad=15)\n",
    "plt.suptitle('')\n",
    "plt.xlabel('')\n",
    "plt.ylabel('Number of End Rhymes', fontsize=22, labelpad=10)\n",
    "\n",
    "# obtain x-tick labels and their locations\n",
    "locs, labels = plt.xticks()\n",
    "# prettify the labels\n",
    "labels_pretty = [label.get_text().replace('_', '\\n').title() \\\n",
    "                 for label in list(labels)]\n",
    "labels_pretty[-1] = 'Pre-1900'\n",
    "# plot the labels\n",
    "plt.xticks(ticks=locs, labels=labels_pretty,\n",
    "           rotation=52.5, fontsize=20)\n",
    "plt.yticks(fontsize=20)\n",
    "\n",
    "# prepare to save and display\n",
    "plt.tight_layout()\n",
    "# # uncomment to save\n",
    "# plt.savefig('charts/num_end_rhymes_boxplot.png', \n",
    "#             bbox_inches='tight', transparent=True)\n",
    "\n",
    "plt.show()"
   ]
  },
  {
   "cell_type": "markdown",
   "metadata": {},
   "source": [
    "- Unsurprisingly, pre-1900 poetry is far above the rest.\n",
    "- Similarly unsurprising, avant-garde poetry tends to not have very few end rhymes.\n",
    "\n",
    "### Ratio of end rhymes\n",
    "\n",
    "[[go back to the top](#Predicting-Poetic-Movements)]\n",
    "\n",
    "- Looking at the ratio of end rhymes to the length of the poem may give me a better idea about how prevalent any rhyme scheme actually is."
   ]
  },
  {
   "cell_type": "code",
   "execution_count": null,
   "metadata": {},
   "outputs": [],
   "source": [
    "# create column of the ratio of end rhymes to the total lines\n",
    "df['end_rhyme_ratio'] = df.num_end_rhymes / df.num_lines"
   ]
  },
  {
   "cell_type": "code",
   "execution_count": null,
   "metadata": {},
   "outputs": [],
   "source": [
    "# end rhyme ratio stats as a whole\n",
    "df.end_rhyme_ratio.describe()"
   ]
  },
  {
   "cell_type": "code",
   "execution_count": null,
   "metadata": {},
   "outputs": [],
   "source": [
    "# end rhyme ratio stats by movement\n",
    "df.groupby('movement').end_rhyme_ratio.describe().T"
   ]
  },
  {
   "cell_type": "markdown",
   "metadata": {},
   "source": [
    "#### Statistical analysis"
   ]
  },
  {
   "cell_type": "code",
   "execution_count": null,
   "metadata": {},
   "outputs": [],
   "source": [
    "# one-way ANOVA\n",
    "stats.f_oneway(\n",
    "    df['end_rhyme_ratio'][df['movement'] == 'avant_garde'],\n",
    "    df['end_rhyme_ratio'][df['movement'] == 'metropolitan'], \n",
    "    df['end_rhyme_ratio'][df['movement'] == 'modern'],\n",
    "    df['end_rhyme_ratio'][df['movement'] == 'pre_1900']\n",
    ")"
   ]
  },
  {
   "cell_type": "markdown",
   "metadata": {},
   "source": [
    "- At least one statistically significant difference is present.\n",
    "- I'll now perform two-sided t-tests on all possible combinations within these four categories."
   ]
  },
  {
   "cell_type": "code",
   "execution_count": null,
   "metadata": {},
   "outputs": [],
   "source": [
    "# list of series on which to perform two-sided t-tests\n",
    "end_rhyme_ratio_list = [\n",
    "    df['end_rhyme_ratio'][df['movement'] == 'avant_garde'],\n",
    "    df['end_rhyme_ratio'][df['movement'] == 'metropolitan'], \n",
    "    df['end_rhyme_ratio'][df['movement'] == 'modern'],\n",
    "    df['end_rhyme_ratio'][df['movement'] == 'pre_1900']\n",
    "]"
   ]
  },
  {
   "cell_type": "code",
   "execution_count": null,
   "metadata": {
    "scrolled": true
   },
   "outputs": [],
   "source": [
    "# test each combination\n",
    "two_way_tests(end_rhyme_ratio_list)"
   ]
  },
  {
   "cell_type": "markdown",
   "metadata": {},
   "source": [
    "- All results here show statistical signficance, so this may be the prefered metric over the number of end rhymes.\n",
    "- This also connects well with my [earlier analysis](#Number-of-lines) of the number of lines, in delineating between Metropolitan and Modern poetries. \n",
    "    - While they shared statistically similar numbers of the number of end rhymes, Modern poetry tends to be shorter (and thus have a higher ratio of rhymes to lines), whereas Metropolitan poetry tends to be longer (and thus have a higher ratio of rhymes to lines).\n",
    "\n",
    "### Ratio of end rhymes -- Boxplot\n",
    "\n",
    "[[go back to the top](#Predicting-Poetic-Movements)]"
   ]
  },
  {
   "cell_type": "code",
   "execution_count": null,
   "metadata": {
    "scrolled": false
   },
   "outputs": [],
   "source": [
    "# plot the graph\n",
    "df.boxplot('end_rhyme_ratio', 'movement', \n",
    "           showfliers=False, figsize=(7,7))\n",
    "\n",
    "# prettify the graph\n",
    "plt.title('Ratio of End Rhymes to Line Count,\\nDistribution by Movement', \n",
    "          fontsize=25, pad=15)\n",
    "plt.suptitle('')\n",
    "plt.xlabel('')\n",
    "plt.ylabel('End Rhymes to\\nLine Count Ratio', fontsize=22, labelpad=10)\n",
    "\n",
    "# obtain x-tick labels and their locations\n",
    "locs, labels = plt.xticks()\n",
    "# prettify the labels\n",
    "labels_pretty = [label.get_text().replace('_', '\\n').title() \\\n",
    "                 for label in list(labels)]\n",
    "labels_pretty[-1] = 'Pre-1900'\n",
    "# plot the labels\n",
    "plt.xticks(ticks=locs, labels=labels_pretty, rotation=52.5, fontsize=20)\n",
    "plt.yticks(fontsize=20)\n",
    "\n",
    "# prepare to save and display\n",
    "plt.tight_layout()\n",
    "# # uncomment to save\n",
    "# plt.savefig('charts/ratio_end_rhymes_boxplot.png', \n",
    "#             bbox_inches='tight', transparent=True)\n",
    "\n",
    "plt.show()"
   ]
  },
  {
   "cell_type": "markdown",
   "metadata": {},
   "source": [
    "- This plot does seem to show the differences more clearly.\n",
    "    - Pre-1900 poetry is still in a strong lead, while there is now see some separation between Metropolitan and Modern movements.\n",
    "    - Modern makes a surprise appearance in second place.\n",
    "    - Everything else makes sense from a poetry standpoint.\n",
    "- I'll check if this is too strongly correlated with the number of end rhymes."
   ]
  },
  {
   "cell_type": "code",
   "execution_count": null,
   "metadata": {},
   "outputs": [],
   "source": [
    "df.plot.scatter('num_end_rhymes', 'end_rhyme_ratio');"
   ]
  },
  {
   "cell_type": "code",
   "execution_count": null,
   "metadata": {},
   "outputs": [],
   "source": [
    "# check correlation\n",
    "df.num_end_rhymes.corr(df.end_rhyme_ratio)"
   ]
  },
  {
   "cell_type": "markdown",
   "metadata": {},
   "source": [
    "- They are fairly positively correlated, but there is no definite need to drop either variable.\n",
    "    \n",
    "### End rhymes, categorical\n",
    "\n",
    "[[go back to the top](#Predicting-Poetic-Movements)]\n",
    "\n",
    "- **NOTE**: Feel free to play around with the metric; first, I tried separating based on 0 end rhymes vs any number of end rhymes.\n",
    "    - Increasing the 0 value yielded more interesting results (and also weeds out some incidental end rhymes, including those of repeated words).\n",
    "    - Another tactic is setting a minimum ratio of end rhymes to lines, as seen below."
   ]
  },
  {
   "cell_type": "code",
   "execution_count": null,
   "metadata": {},
   "outputs": [],
   "source": [
    "# create a yes or no column for whether or not end rhymes occur at least 10% of the time\n",
    "df['end_rhyme'] = np.where(df.end_rhyme_ratio >= 0.25, 1, 0)"
   ]
  },
  {
   "cell_type": "code",
   "execution_count": null,
   "metadata": {},
   "outputs": [],
   "source": [
    "# proportion as a whole\n",
    "df.end_rhyme.value_counts(normalize=True)"
   ]
  },
  {
   "cell_type": "code",
   "execution_count": null,
   "metadata": {},
   "outputs": [],
   "source": [
    "# proportion across movements\n",
    "df.groupby('movement').end_rhyme.value_counts(normalize=True)"
   ]
  },
  {
   "cell_type": "markdown",
   "metadata": {},
   "source": [
    "### End rhymes -- Stacked bar chart\n",
    "\n",
    "[[go back to the top](#Predicting-Poetic-Movements)]"
   ]
  },
  {
   "cell_type": "code",
   "execution_count": null,
   "metadata": {},
   "outputs": [],
   "source": [
    "# proportion of end rhymes across movements\n",
    "movement_rhyme_dist = df.groupby('movement').end_rhyme.\\\n",
    "    value_counts(normalize=True).unstack().sort_values(0)\n",
    "\n",
    "# plot the graph\n",
    "movement_rhyme_dist.plot(kind='bar', stacked=True, \n",
    "    figsize=(9,7), color=['darkorange', 'royalblue'], \n",
    "    alpha=.70, fontsize=14)\n",
    "\n",
    "# prettify the graph\n",
    "plt.title('Usage of End Rhymes Across\\nPoetic Movements', \n",
    "          fontsize=25, pad=15)\n",
    "plt.suptitle('')\n",
    "plt.xlabel('')\n",
    "plt.ylabel('Proportion of Rhyming Poems', \n",
    "           fontsize=22, labelpad=10)\n",
    "\n",
    "# obtain x-tick-labels and their locations\n",
    "locs, labels = plt.xticks()\n",
    "# prettify the labels\n",
    "labels_pretty = [label.get_text().replace('_', '\\n').title() \\\n",
    "                 for label in list(labels)]\n",
    "labels_pretty[0] = 'Pre-1900'\n",
    "# plot the labels and and legends\n",
    "plt.xticks(ticks=locs, labels=labels_pretty, \n",
    "           rotation=60, fontsize=20)\n",
    "plt.yticks(fontsize=20);\n",
    "plt.legend(['No End Rhymes', 'End Rhymes'], facecolor='white', \n",
    "           framealpha=1, bbox_to_anchor=(1.01, 1.01), \n",
    "           fontsize=18)\n",
    "\n",
    "# prepare to save and display\n",
    "plt.tight_layout()\n",
    "# # uncomment to save\n",
    "# plt.savefig('charts/end_rhymes_stackedbar.png', \n",
    "#             bbox_inches='tight', transparent=True)\n",
    "\n",
    "plt.show()"
   ]
  },
  {
   "cell_type": "code",
   "execution_count": null,
   "metadata": {},
   "outputs": [],
   "source": [
    "# numerical representation\n",
    "movement_rhyme_dist"
   ]
  },
  {
   "cell_type": "markdown",
   "metadata": {},
   "source": [
    "- Another graph showing similar results more clearly.\n",
    "\n",
    "### Syllables per word\n",
    "\n",
    "[[go back to the top](#Predicting-Poetic-Movements)]\n",
    "\n",
    "- Count the number of total syllables.\n",
    "- Divide by number of words per poem."
   ]
  },
  {
   "cell_type": "code",
   "execution_count": null,
   "metadata": {},
   "outputs": [],
   "source": [
    "# divide number of syllables by number of words\n",
    "df['avg_syllables_word'] = df.lines_titled.apply(\n",
    "    syllable_counter) / df.num_words"
   ]
  },
  {
   "cell_type": "code",
   "execution_count": null,
   "metadata": {},
   "outputs": [],
   "source": [
    "# average syllables per word stats as a whole\n",
    "df.avg_syllables_word.describe()"
   ]
  },
  {
   "cell_type": "code",
   "execution_count": null,
   "metadata": {},
   "outputs": [],
   "source": [
    "# average syllables per word stats by movement\n",
    "df.groupby('movement').avg_syllables_word.describe().T"
   ]
  },
  {
   "cell_type": "markdown",
   "metadata": {},
   "source": [
    "- The numbers look fairly similar. I'll do some statistical analyses.\n",
    "\n",
    "#### Statistical analysis"
   ]
  },
  {
   "cell_type": "code",
   "execution_count": null,
   "metadata": {},
   "outputs": [],
   "source": [
    "# one-way ANOVA\n",
    "stats.f_oneway(\n",
    "    df['avg_syllables_word'][df['movement'] == 'avant_garde'],\n",
    "    df['avg_syllables_word'][df['movement'] == 'metropolitan'], \n",
    "    df['avg_syllables_word'][df['movement'] == 'modern'],\n",
    "    df['avg_syllables_word'][df['movement'] == 'pre_1900']\n",
    ")"
   ]
  },
  {
   "cell_type": "markdown",
   "metadata": {},
   "source": [
    "- At least one statistically significant difference is present.\n",
    "- I'll now perform two-sided t-tests on all possible combinations within these four categories."
   ]
  },
  {
   "cell_type": "code",
   "execution_count": null,
   "metadata": {},
   "outputs": [],
   "source": [
    "# list of series on which to perform two-sided t-tests\n",
    "avg_syllables_word_list = [\n",
    "    df['avg_syllables_word'][df['movement'] == 'avant_garde'],\n",
    "    df['avg_syllables_word'][df['movement'] == 'metropolitan'], \n",
    "    df['avg_syllables_word'][df['movement'] == 'modern'],\n",
    "    df['avg_syllables_word'][df['movement'] == 'pre_1900']\n",
    "]"
   ]
  },
  {
   "cell_type": "code",
   "execution_count": null,
   "metadata": {
    "scrolled": true
   },
   "outputs": [],
   "source": [
    "# test each combination\n",
    "two_way_tests(avg_syllables_word_list)"
   ]
  },
  {
   "cell_type": "markdown",
   "metadata": {},
   "source": [
    "- This variable appears to be statistically significant across each combination of movements.\n",
    "\n",
    "### Syllables per word -- Boxplot\n",
    "\n",
    "[[go back to the top](#Predicting-Poetic-Movements)]"
   ]
  },
  {
   "cell_type": "code",
   "execution_count": null,
   "metadata": {},
   "outputs": [],
   "source": [
    "# plot the graph\n",
    "df.boxplot('avg_syllables_word', 'movement', \n",
    "           showfliers=False, figsize=(7,7))\n",
    "\n",
    "# prettify the graph\n",
    "plt.title('Average Number of Syllables per Word,\\nDistribution by Movement', \n",
    "          fontsize=25, pad=15)\n",
    "plt.suptitle('')\n",
    "plt.xlabel('')\n",
    "plt.ylabel('Number of Syllables', \n",
    "           fontsize=22, labelpad=10)\n",
    "\n",
    "# obtain x-tick labels and their locations\n",
    "locs, labels = plt.xticks()\n",
    "labels_pretty = [label.get_text().replace('_', '\\n').title() \\\n",
    "                 for label in list(labels)]\n",
    "labels_pretty[-1] = 'Pre-1900'\n",
    "\n",
    "# plot the labels\n",
    "plt.xticks(ticks=locs, labels=labels_pretty, rotation=52.5, fontsize=20)\n",
    "plt.yticks(fontsize=20)\n",
    "\n",
    "# prepare to save and display\n",
    "plt.tight_layout()\n",
    "# # uncomment to save\n",
    "# plt.savefig('charts/avg_syllables_word_boxplot.png', \n",
    "#             bbox_inches='tight', transparent=True)\n",
    "\n",
    "plt.show()"
   ]
  },
  {
   "cell_type": "markdown",
   "metadata": {},
   "source": [
    "- Surprisingly, in my mind at least, Romantic and Victorian (Pre-1900) are among the simplest vocabularies (words with the least amount of syllables).\n",
    "- The arguably more intellectual movements (Metropolitan and Avant-Garde) rank among the most complex.\n",
    "\n",
    "### Lexical richness\n",
    "\n",
    "[[go back to the top](#Predicting-Poetic-Movements)]\n",
    "\n",
    "- Count the number of unique words.\n",
    "- Divide by number of words per poem."
   ]
  },
  {
   "cell_type": "code",
   "execution_count": null,
   "metadata": {},
   "outputs": [],
   "source": [
    "# divide number of unique words by total words\n",
    "df['lexical_richness'] = df.lines_titled.apply(\n",
    "    unique_word_counter) / df.num_words"
   ]
  },
  {
   "cell_type": "code",
   "execution_count": null,
   "metadata": {},
   "outputs": [],
   "source": [
    "# lexical richness as a whole\n",
    "df.lexical_richness.describe()"
   ]
  },
  {
   "cell_type": "code",
   "execution_count": null,
   "metadata": {},
   "outputs": [],
   "source": [
    "# lexical richness as a whole by movement\n",
    "df.groupby('movement').lexical_richness.describe().T"
   ]
  },
  {
   "cell_type": "markdown",
   "metadata": {},
   "source": [
    "- Avant-Garde appears to be the most rich within every quartile, the mean, and the minimum.\n",
    "- The other three movements have very similar numbers, other than the minimum.\n",
    "\n",
    "#### Statistical analysis"
   ]
  },
  {
   "cell_type": "code",
   "execution_count": null,
   "metadata": {},
   "outputs": [],
   "source": [
    "# one-way ANOVA\n",
    "stats.f_oneway(\n",
    "    df['lexical_richness'][df['movement'] == 'avant_garde'],\n",
    "    df['lexical_richness'][df['movement'] == 'metropolitan'], \n",
    "    df['lexical_richness'][df['movement'] == 'modern'],\n",
    "    df['lexical_richness'][df['movement'] == 'pre_1900']\n",
    ")"
   ]
  },
  {
   "cell_type": "markdown",
   "metadata": {},
   "source": [
    "- At least one statistically significant difference is present.\n",
    "- I'll now perform two-sided t-tests on all possible combinations within these four categories."
   ]
  },
  {
   "cell_type": "code",
   "execution_count": null,
   "metadata": {},
   "outputs": [],
   "source": [
    "# list of series on which to perform two-sided t-tests\n",
    "lexical_richness_list = [\n",
    "    df['lexical_richness'][df['movement'] == 'avant_garde'],\n",
    "    df['lexical_richness'][df['movement'] == 'metropolitan'], \n",
    "    df['lexical_richness'][df['movement'] == 'modern'],\n",
    "    df['lexical_richness'][df['movement'] == 'pre_1900']\n",
    "]"
   ]
  },
  {
   "cell_type": "code",
   "execution_count": null,
   "metadata": {
    "scrolled": true
   },
   "outputs": [],
   "source": [
    "# test each combination\n",
    "two_way_tests(lexical_richness_list)"
   ]
  },
  {
   "cell_type": "markdown",
   "metadata": {},
   "source": [
    "- This variable appears to be statistically significant across every combination of movements other than between Metropolitan and Modern, which makes sense when looking at the descriptive stats across movements.\n",
    "\n",
    "### Lexical richness -- Boxplot\n",
    "\n",
    "[[go back to the top](#Predicting-Poetic-Movements)]"
   ]
  },
  {
   "cell_type": "code",
   "execution_count": null,
   "metadata": {},
   "outputs": [],
   "source": [
    "# plot the graph\n",
    "df.boxplot('lexical_richness', 'movement', \n",
    "           showfliers=False, figsize=(7,7))\n",
    "\n",
    "# prettify the graph\n",
    "plt.title('Lexical Richness,\\nDistribution by Movement', \n",
    "          fontsize=25, pad=15)\n",
    "plt.suptitle('')\n",
    "plt.xlabel('')\n",
    "plt.ylabel('Proportion of Unique Words', \n",
    "           fontsize=22, labelpad=10)\n",
    "\n",
    "# obtain x-tick labels and their locations\n",
    "locs, labels = plt.xticks()\n",
    "labels_pretty = [label.get_text().replace('_', '\\n').title() \\\n",
    "                 for label in list(labels)]\n",
    "labels_pretty[-1] = 'Pre-1900'\n",
    "\n",
    "# plot the labels\n",
    "plt.xticks(ticks=locs, labels=labels_pretty, \n",
    "           rotation=52.5, fontsize=20)\n",
    "plt.yticks(fontsize=20)\n",
    "\n",
    "# prepare to save and display\n",
    "plt.tight_layout()\n",
    "# # uncomment to save\n",
    "# plt.savefig('charts/lexical_richness_boxplot.png', \n",
    "#             bbox_inches='tight', transparent=True)\n",
    "\n",
    "plt.show()"
   ]
  },
  {
   "cell_type": "markdown",
   "metadata": {},
   "source": [
    "- Avant-Garde poetry is indeed the richest, while Pre-1900 seems to be the most repetitious, though fairly similar to Metropolitan and Modern.\n",
    "- Pre-1900 also has the most variance, across all quartiles.\n",
    "\n",
    "# Step 4: Natural language processing\n",
    "\n",
    "[[go back to the top](#Predicting-Poetic-Movements)]\n",
    "\n",
    "- Process the text and look at the most frequent words.\n",
    "- First, prepare a list of stop words. This will include:\n",
    "    - NLTK stop words.\n",
    "    - Older English equivalents to those stop words.\n",
    "    - Poet names (because some may have gotten through in the scraping process), minus any names that may also be used as words.\n",
    "    - HTML tags that may have gotten through the scraping process.\n",
    "    - Words of questionable value discovered in the first round of EDA."
   ]
  },
  {
   "cell_type": "code",
   "execution_count": null,
   "metadata": {},
   "outputs": [],
   "source": [
    "# list of names that may also be used as words\n",
    "name_keeps = [\n",
    "    'basil', 'bell', 'bill', 'bottoms', 'brooks', 'brown', \n",
    "    'burns', 'butler', 'christian', 'clerk', 'crane', \n",
    "    'elephant', 'frank', 'field', 'gallup', 'good', 'guest', \n",
    "    'hands', 'hood', 'hooks', 'hunt', 'hunter', 'knight', \n",
    "    'lamb', 'lazarus', 'love', 'mare', 'more', 'mark', \n",
    "    'moody', 'peacock', 'pound', 'ransom', 'riding', 'savage', \n",
    "    'sir', 'white']\n",
    "\n",
    "# optional\n",
    "# ['bob', 'dick', 'lee', 'maya', 'sappho', 'sexton', \n",
    "#  'smith', 'spender', 'twain', 'walker']"
   ]
  },
  {
   "cell_type": "code",
   "execution_count": null,
   "metadata": {},
   "outputs": [],
   "source": [
    "# instantiate empty set\n",
    "stop_names = set()\n",
    "\n",
    "# add first and last names to stop_names\n",
    "for poet in df.poet:\n",
    "    name_split = poet.lower().split()\n",
    "    for name in name_split:\n",
    "        if name not in name_keeps:\n",
    "            stop_names.add(name)\n",
    "            \n",
    "# convert to list\n",
    "stop_names = list(stop_names)\n",
    "\n",
    "# take a look at a sample\n",
    "stop_names[:10]"
   ]
  },
  {
   "cell_type": "code",
   "execution_count": null,
   "metadata": {},
   "outputs": [],
   "source": [
    "# start with NLTK stop words\n",
    "stop_words = stopwords.words('english')\n",
    "\n",
    "# add any html tags that may have snuck through\n",
    "stop_words.extend(['em', 'div', 'href', 'p'])\n",
    "\n",
    "# add old-timey stop words\n",
    "stop_words.extend(old_timers())\n",
    "\n",
    "# words found in the initial round of EDA that \n",
    "# don't provide much meaning\n",
    "stop_words.extend(['one', 'like', 'would', 'upon', \n",
    "                   'yet', 'may', 'could'])\n",
    "\n",
    "# add the names from above\n",
    "stop_words.extend(stop_names)"
   ]
  },
  {
   "cell_type": "markdown",
   "metadata": {},
   "source": [
    "- Create a clean string column."
   ]
  },
  {
   "cell_type": "code",
   "execution_count": null,
   "metadata": {},
   "outputs": [],
   "source": [
    "%%time\n",
    "\n",
    "# create column using custom text processing function\n",
    "# NOTE: includes lemmatization\n",
    "df['string_cleaned'] = df.string_titled.apply(\n",
    "    lambda x: clean_text(x, stop_words))"
   ]
  },
  {
   "cell_type": "code",
   "execution_count": null,
   "metadata": {},
   "outputs": [],
   "source": [
    "# check out an example\n",
    "print(f'BEFORE:\\n{df.loc[0, \"string_titled\"]}')\n",
    "print('\\n' + '-' * 75 + '\\n')\n",
    "print(f'AFTER:\\n{df.loc[0, \"string_cleaned\"]}')"
   ]
  },
  {
   "cell_type": "markdown",
   "metadata": {},
   "source": [
    "### Total word counts and vocabulary \n",
    "\n",
    "[[go back to the top](#Predicting-Poetic-Movements)]\n",
    "\n",
    "#### Before processing"
   ]
  },
  {
   "cell_type": "code",
   "execution_count": null,
   "metadata": {},
   "outputs": [],
   "source": [
    "# join all pre-processed poems into one string\n",
    "big_string_pre = ' '.join(df.string_titled)\n",
    "big_string_pre[:1000]"
   ]
  },
  {
   "cell_type": "code",
   "execution_count": null,
   "metadata": {},
   "outputs": [],
   "source": [
    "# split string into all words in corpus\n",
    "all_words = big_string_pre.split()\n",
    "\n",
    "# total words\n",
    "len(all_words)"
   ]
  },
  {
   "cell_type": "code",
   "execution_count": null,
   "metadata": {},
   "outputs": [],
   "source": [
    "# unique words (vocabulary)\n",
    "len(list(set(all_words)))"
   ]
  },
  {
   "cell_type": "markdown",
   "metadata": {},
   "source": [
    "#### After lemmatizing and removing stop words"
   ]
  },
  {
   "cell_type": "code",
   "execution_count": null,
   "metadata": {},
   "outputs": [],
   "source": [
    "# join all processed poems into one string\n",
    "big_string_proc = ' '.join(df.string_cleaned)\n",
    "big_string_proc[:1000]"
   ]
  },
  {
   "cell_type": "code",
   "execution_count": null,
   "metadata": {},
   "outputs": [],
   "source": [
    "# split string into processed words in corpus\n",
    "all_words_proc = big_string_proc.split()\n",
    "\n",
    "# total processed words\n",
    "len(all_words_proc)"
   ]
  },
  {
   "cell_type": "code",
   "execution_count": null,
   "metadata": {},
   "outputs": [],
   "source": [
    "# unique processed words (vocabulary)\n",
    "len(list(set(all_words_proc)))"
   ]
  },
  {
   "cell_type": "markdown",
   "metadata": {},
   "source": [
    "## Most frequent words\n",
    "\n",
    "[[go back to the top](#Predicting-Poetic-Movements)]\n",
    "\n",
    "- Use processed text."
   ]
  },
  {
   "cell_type": "code",
   "execution_count": null,
   "metadata": {},
   "outputs": [],
   "source": [
    "# create dictionary of word counts\n",
    "fdist = FreqDist(all_words_proc)\n",
    "\n",
    "# convert word counts to dataframe\n",
    "fdist_df = pd.DataFrame(data=fdist.values(), \n",
    "                        index=fdist.keys(), \n",
    "                        columns=['word_count'])\n",
    "fdist_df = fdist_df.sort_values('word_count', \n",
    "                                ascending=False)"
   ]
  },
  {
   "cell_type": "code",
   "execution_count": null,
   "metadata": {},
   "outputs": [],
   "source": [
    "# look at the top 25 words in the processed corpus\n",
    "top_25 = fdist_df.iloc[:25,:]\n",
    "top_25"
   ]
  },
  {
   "cell_type": "markdown",
   "metadata": {},
   "source": [
    "### Most frequent words overall\n",
    "\n",
    "[[go back to the top](#Predicting-Poetic-Movements)]"
   ]
  },
  {
   "cell_type": "code",
   "execution_count": null,
   "metadata": {},
   "outputs": [],
   "source": [
    "# create labels and prettify the plot\n",
    "plt.figure(figsize=(30,10))\n",
    "plt.title('Top 25 Words', fontsize=36, pad=15)\n",
    "plt.ylabel('Word Count', fontsize=30, labelpad=15)\n",
    "plt.xticks(rotation=55, fontsize=28)\n",
    "plt.yticks(fontsize=28)\n",
    "plt.ylim(bottom=1000, top=3500)\n",
    "\n",
    "# plot top 25 words\n",
    "plt.bar(top_25.index, top_25.word_count, color='purple')\n",
    "\n",
    "# prepare to save and display\n",
    "plt.tight_layout()\n",
    "# # uncomment to save\n",
    "# plt.savefig('charts/top25_words_bar.png', \n",
    "#             bbox_inches='tight', transparent=True)\n",
    "\n",
    "plt.show()"
   ]
  },
  {
   "cell_type": "markdown",
   "metadata": {},
   "source": [
    "### Most frequent words by movement\n",
    "\n",
    "[[go back to the top](#Predicting-Poetic-Movements)]"
   ]
  },
  {
   "cell_type": "code",
   "execution_count": null,
   "metadata": {},
   "outputs": [],
   "source": [
    "plt.figure(figsize=(50,25))\n",
    "\n",
    "movements = list(df.movement.unique())\n",
    "\n",
    "for i, movement in enumerate(movements):\n",
    "    # create a series of processed poem strings\n",
    "    movement_string_series = df[df.movement == movement].\\\n",
    "        string_cleaned\n",
    "    \n",
    "    # convert the series to one big string\n",
    "    movement_big_string = ' '.join(movement_string_series)\n",
    "    \n",
    "    # split the big string so I get all words in the movement\n",
    "    movement_words = movement_big_string.split()\n",
    "    \n",
    "    # create dictionary of word counts\n",
    "    fdist = FreqDist(movement_words)\n",
    "    \n",
    "    # convert word counts to dataframe\n",
    "    fdist_df = pd.DataFrame(data=fdist.values(), \n",
    "                            index=fdist.keys(), \n",
    "                            columns=['word_count'])\n",
    "    fdist_df = fdist_df.sort_values('word_count', \n",
    "                                    ascending=False)\n",
    "    \n",
    "    # look at the top 25 words for the movement\n",
    "    top_25 = fdist_df.iloc[:25,:]\n",
    "\n",
    "    # set dimension of plots\n",
    "    nrows = 2\n",
    "    ncols = 2\n",
    "\n",
    "    # list of colors\n",
    "    colors = ['steelblue', 'olivedrab', 'purple', 'darkorange']\n",
    "    \n",
    "    # plot\n",
    "    plt.subplot(nrows, ncols, i+1)\n",
    "    plt.title(f'{movement.title().replace(\"_\", \"-\")} -- Top 25 Words', \n",
    "              fontsize=30, pad=15, x=0.5, y=0.9)\n",
    "    plt.ylabel('Word Count', fontsize=28, labelpad=15)\n",
    "    plt.xticks(rotation=55, fontsize=25)\n",
    "    plt.yticks(fontsize=25)\n",
    "    plt.bar(top_25.index, top_25.word_count, color=colors[i])\n",
    "              \n",
    "# # uncomment to save\n",
    "# plt.savefig('charts/top25_words_movement_bar.png', \n",
    "#             bbox_inches='tight', transparent=True)"
   ]
  },
  {
   "cell_type": "markdown",
   "metadata": {},
   "source": [
    "### Word cloud overall\n",
    "\n",
    "[[go back to the top](#Predicting-Poetic-Movements)]"
   ]
  },
  {
   "cell_type": "code",
   "execution_count": null,
   "metadata": {},
   "outputs": [],
   "source": [
    "# create a dictionary for easy word cloud creation\n",
    "word_dict = dict(Counter(all_words_proc))\n",
    "\n",
    "# create word cloud\n",
    "wordcloud = WordCloud(colormap='Spectral', \n",
    "                      width=1200, \n",
    "                      height=600).\\\n",
    "    generate_from_frequencies(word_dict)\n",
    "\n",
    "# plot word cloud\n",
    "plt.figure(figsize=(20,10), facecolor='k')\n",
    "plt.imshow(wordcloud, interpolation='bilinear')\n",
    "plt.axis(\"off\")\n",
    "plt.tight_layout(pad=0)\n",
    "\n",
    "# # uncomment to save\n",
    "# plt.savefig('charts/word_cloud_overall.png', \n",
    "#             bbox_inches='tight', transparent=True)"
   ]
  },
  {
   "cell_type": "markdown",
   "metadata": {},
   "source": [
    "### Word clouds by movement\n",
    "\n",
    "[[go back to the top](#Predicting-Poetic-Movements)]"
   ]
  },
  {
   "cell_type": "code",
   "execution_count": null,
   "metadata": {},
   "outputs": [],
   "source": [
    "plt.figure(figsize=(50,25))\n",
    "\n",
    "movements = list(df.movement.unique())\n",
    "\n",
    "for i, movement in enumerate(movements):\n",
    "    # create a series of processed poem strings\n",
    "    movement_string_series = df[df.movement == movement].\\\n",
    "        string_cleaned\n",
    "    \n",
    "    # convert the series to one big string\n",
    "    movement_big_string = ' '.join(movement_string_series)\n",
    "    \n",
    "    # split the big string so I get all words in the movement\n",
    "    movement_words = movement_big_string.split()\n",
    "    \n",
    "    # create a dictionary for easy word cloud creation\n",
    "    movement_word_dict = dict(Counter(movement_words))\n",
    "\n",
    "    # create word cloud\n",
    "    movement_wordcloud = WordCloud(colormap='Spectral', \n",
    "                                   width=1200, \n",
    "                                   height=600).\\\n",
    "        generate_from_frequencies(movement_word_dict)\n",
    "\n",
    "    nrows = 2\n",
    "    ncols = 2\n",
    "\n",
    "    plt.subplot(nrows, ncols, i+1)\n",
    "    plt.plot()\n",
    "    plt.imshow(movement_wordcloud, interpolation='bilinear')\n",
    "    plt.axis('off')\n",
    "    plt.title(f'{movement.title().replace(\"_\", \"-\")}', \n",
    "              fontsize=50, \n",
    "              pad=25)\n",
    "              \n",
    "# # uncomment to save\n",
    "# plt.savefig('charts/word_cloud_movement.png', \n",
    "#             bbox_inches='tight', transparent=True)"
   ]
  },
  {
   "cell_type": "markdown",
   "metadata": {},
   "source": [
    "# Preliminary conclusions\n",
    "\n",
    "[[go back to the top](#Predicting-Poetic-Movements)]\n",
    "\n",
    "- Pre-1900 poetry is easily recognized.\n",
    "    - High number of end rhymes, most words per line, simpler words (fewer syllables per word), most positive, and most repetitious.\n",
    "- Avant-garde is more or less the opposite.\n",
    "    - Practically no end rhymes, fewest words per line, more complex words (more syllables per word), and richest use of language.\n",
    "- Metropolitan and Modern poetries are often somewhere in between.\n",
    "- Poetry is rarely neutral (and generally positive) and fairly equally subjective/objective.\n",
    "- Frequent vocabulary includes visual and temporal language."
   ]
  },
  {
   "cell_type": "markdown",
   "metadata": {},
   "source": [
    "## 💾 Save/Load DataFrame\n",
    "\n",
    "[[go back to the top](#Predicting-Poetic-Movements)]"
   ]
  },
  {
   "cell_type": "code",
   "execution_count": null,
   "metadata": {},
   "outputs": [],
   "source": [
    "# # uncomment to save\n",
    "# with gzip.open('data/poetry_movements_df.pkl', 'wb') as goodbye:\n",
    "#     pickle.dump(df, goodbye, protocol=pickle.HIGHEST_PROTOCOL)\n",
    "    \n",
    "# # uncomment to load\n",
    "# with gzip.open('data/poetry_movements_df.pkl', 'rb') as hello:\n",
    "#     df = pickle.load(hello)"
   ]
  },
  {
   "cell_type": "markdown",
   "metadata": {},
   "source": [
    "## Next notebook: [Modeling](04_modeling.ipynb)\n",
    "\n",
    "[[go back to the top](#Predicting-Poetic-Movements)]\n",
    "\n",
    "- The next notebook includes classification modeling, a section with reproducible code for this project (including the work within this notebook), conclusions, and acknowledgements."
   ]
  },
  {
   "cell_type": "markdown",
   "metadata": {},
   "source": [
    "## Table of contents\n",
    "\n",
    "1. [Introduction](#Introduction)\n",
    "2. [The problem domain](#The-problem-domain)\n",
    "3. [Required libraries](#Required-libraries)\n",
    "4. [Step 1: Answering some initial questions](#Step-1:-Answering-some-initial-questions)\n",
    "5. [Step 2: Preparing the data](#Step-2:-Preparing-the-data)\n",
    "\n",
    "    - [Create movements](#Create-movements)\n",
    "    \n",
    "    \n",
    "6. [Step 3: Feature engineering and exploratory data analysis](#Step-3:-Feature-engineering-and-exploratory-data-analysis)\n",
    "\n",
    "    - [Number of lines](#Number-of-lines)\n",
    "        - [Chart](#Number-of-lines----Boxplot)\n",
    "    - [Number of words](#Number-of-words)\n",
    "        - [Chart](#Number-of-words----Boxplot)\n",
    "    - [Average line length](#Average-line-length)\n",
    "        - [Chart](#Average-line-length----Boxplot)\n",
    "    - [Sentiment, polarity](#Sentiment,-polarity)\n",
    "        - [Chart 1](#Polarity-score----Boxplot) | [Chart 2](#Polarity----Stacked-bar-chart)\n",
    "    - [Sentiment, subjectivity](#Sentiment,-subjectivity)\n",
    "        - [Chart](#Subjectivity-score----Boxplot)\n",
    "    - [Number of end rhymes](#Number-of-end-rhymes)\n",
    "        - [Chart](#Number-of-end-rhymes----Boxplot)\n",
    "    - [Ratio of end rhymes](#Ratio-of-end-rhymes)\n",
    "        - [Chart](#Ratio-of-end-rhymes----Boxplot)\n",
    "    - [End rhymes, categorical](#End-rhymes,-categorical)\n",
    "        - [Chart](#End-rhymes----Stacked-bar-chart)\n",
    "    - [Syllables per word](#Syllables-per-word)\n",
    "        - [Chart](#Syllables-per-word----Boxplot)\n",
    "    - [Lexical richness](#Lexical-richness)\n",
    "        - [Chart](#Lexical-richness----Boxplot)\n",
    "    \n",
    "    \n",
    "7. [Step 4: Natural language processing](#Step-4:-Natural-language-processing)\n",
    "\n",
    "    - [Total word counts and vocabulary](#Total-word-counts-and-vocabulary)\n",
    "    - [Most frequent words](#Most-frequent-words)\n",
    "        - [Chart 1](#Most-frequent-words-overall) | [Chart 2](#Most-frequent-words-by-genre) | [Chart3](#Word-cloud-overall) | [Chart 4](#Word-clouds-by-genre)\n",
    "    \n",
    "\n",
    "8. [Preliminary conclusions](#Preliminary-conclusions)\n",
    "9. [Save/Load DataFrame](#💾-Save/Load-DataFrame)\n",
    "10. [Next notebook: Modeling](#Next-notebook:-Modeling)\n",
    "\n",
    "## Introduction\n",
    "\n",
    "[[go back to the top](#Predicting-Poetic-Movements)]\n",
    "\n",
    "After [scraping](01_webscraping.ipynb) PoetryFoundation.org for genre-labeled poems and [cleaning](02_data_cleaning.ipynb), I will use natural language processing (NLP) techniques to analyze poetic structure across poetic genres and movements. \n",
    "\n",
    "Through text processing, exploratory data analysis, and feature engineering, I will look for insights into how poetic structure, word usage, lexical richness, and sentiment relate to the movement of a poem.\n",
    "\n",
    "I will then create predictive models that classify poems into one of four umbrella movements: *Avant-Garde*, *Metropolitan*, *Modern*, or *Pre-1900*. This will help provide further insight and confirm my findings during EDA. *(To skip to the modeling notebook, click [here](04_modeling.ipynb))*.\n",
    "\n",
    "The ultimate goal is to create a recommendation system that compares poem similarities and recommends individual poems to users. *(To skip to the recommendation system notebook, click [here](05_recommendation_system.ipynb))*.\n",
    "\n",
    "## The problem domain\n",
    "\n",
    "[[go back to the top](#Predicting-Poetic-Movements)]\n",
    "\n",
    "Within written media, poetry is often regarded as enigmatic, frivolous, or too niche. As a result, poems (even by established poets) are often overlooked by larger publishers and literature-focused websites alike. (The anti-capitalist nature of poetry may play a role here as well). There are services for rating and recommending entire books (including poetry collections, to be fair) like GoodReads, Amazon, or Bookish, but to my knowledge, there aren't any sites or services that recommend poems on an individual level.\n",
    "\n",
    "With this in mind, I wondered how poem recommendation may even work. One often finds a genre or two that they like and searches that out, but there must be elements of poetry that transcend genre. If there are, machine learning seems like a perfect tool to use to find them. As a poet and writer, I am interested in creating something that will allow me to discover genres and movements that I may have previously ignored. I can do this by using poems I already know and enjoy to find similar poems from genres I may not know as well.\n",
    "\n",
    "## Required libraries\n",
    "\n",
    "[[go back to the top](#Predicting-Poetic-Movements)]\n",
    "\n",
    "This notebook uses several Python packages that come standard with the Anaconda Python distribution. Libraries within this category that I'll be using are:\n",
    "\n",
    "- **numpy**: Provides a fast numerical array structure and helper functions.\n",
    "- **pandas**: Provides a DataFrame structure to store data in memory and work with it easily and efficiently.\n",
    "- **matplotlib**: Basic plotting library in Python; most other Python plotting libraries are built on top of it.\n",
    "- **seaborn**: Advanced statistical plotting library.\n",
    "- **scikit-learn**: The essential Machine Learning package in Python.\n",
    "- **scipy**: The essential statistical analysis package in Python.\n",
    "- **collections**: A package with specialized and higher-performance data structures.\n",
    "- **warnings**: A helpful package to ignore warnings that unnecessarily clutter the notebook.\n",
    "- **watermark**: A Jupyter Notebook extension for printing timestamps, version numbers, and hardware information.\n",
    "\n",
    "This notebook also uses some additional packages that you may have to install:\n",
    "\n",
    "- **nltk**: The essential natural language processing package.\n",
    "- **textblob**: A supplementary package to enhance the nltk package.\n",
    "- **vaderSentiment**: A sentiment analysis tool based on human-compiled data.\n",
    "- **wordcloud**: A library focused on plotting word frequencies.\n",
    "- **pickle**: Package to save a file as a byte stream.\n",
    "- **gzip**: Package to compress/unpack files.\n",
    "\n",
    "Finally, included within the repository, and necessary to run this workbook, is:\n",
    "- **[functions](functions.py)**: Custom functions that I built for this project.\n",
    "\n",
    "Required within the functions file, are:\n",
    "- **itertools**: An package aiding in advanced iteration techniques.\n",
    "- **regex**: The essential string matching and capturing package.\n",
    "- **string**: A package with string-specific operations and characters.\n",
    "- **pronouncing**: A package utilizing the CMU Pronouncing Dictionary that can break language down by syllable, rhyme, and meter.\n",
    "\n",
    "Run the cell below to import all of the necessary packages."
   ]
  },
  {
   "cell_type": "code",
   "execution_count": null,
   "metadata": {},
   "outputs": [],
   "source": []
  }
 ],
 "metadata": {
  "kernelspec": {
   "display_name": "Python [conda env:learn-env] *",
   "language": "python",
   "name": "conda-env-learn-env-py"
  },
  "language_info": {
   "codemirror_mode": {
    "name": "ipython",
    "version": 3
   },
   "file_extension": ".py",
   "mimetype": "text/x-python",
   "name": "python",
   "nbconvert_exporter": "python",
   "pygments_lexer": "ipython3",
   "version": "3.6.9"
  }
 },
 "nbformat": 4,
 "nbformat_minor": 2
}
